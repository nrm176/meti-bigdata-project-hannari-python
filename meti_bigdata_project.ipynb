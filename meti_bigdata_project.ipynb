{
  "nbformat": 4,
  "nbformat_minor": 0,
  "metadata": {
    "colab": {
      "name": "meti_bigdata_project.ipynb",
      "provenance": [],
      "collapsed_sections": [],
      "authorship_tag": "ABX9TyNGdBFuHpC29zEBPmjq3IGY",
      "include_colab_link": true
    },
    "kernelspec": {
      "name": "python3",
      "display_name": "Python 3"
    }
  },
  "cells": [
    {
      "cell_type": "markdown",
      "metadata": {
        "id": "view-in-github",
        "colab_type": "text"
      },
      "source": [
        "<a href=\"https://colab.research.google.com/github/nrm176/meti-bigdata-project-hannari-python/blob/master/meti_bigdata_project.ipynb\" target=\"_parent\"><img src=\"https://colab.research.google.com/assets/colab-badge.svg\" alt=\"Open In Colab\"/></a>"
      ]
    },
    {
      "cell_type": "code",
      "metadata": {
        "id": "F2F8qrR5WIvt",
        "colab_type": "code",
        "colab": {}
      },
      "source": [
        "import pandas as pd\n",
        "from google.colab import drive"
      ],
      "execution_count": null,
      "outputs": []
    },
    {
      "cell_type": "code",
      "metadata": {
        "id": "EJKnbma_jCoK",
        "colab_type": "code",
        "colab": {
          "base_uri": "https://localhost:8080/",
          "height": 35
        },
        "outputId": "0313758c-115e-4eb1-9860-8e93f15e820d"
      },
      "source": [
        "import plotly\n",
        "import plotly.graph_objs as go\n",
        "import plotly.io as pio\n",
        "pio.renderers.default = \"colab\"\n",
        "plotly.__version__"
      ],
      "execution_count": null,
      "outputs": [
        {
          "output_type": "execute_result",
          "data": {
            "application/vnd.google.colaboratory.intrinsic+json": {
              "type": "string"
            },
            "text/plain": [
              "'4.4.1'"
            ]
          },
          "metadata": {
            "tags": []
          },
          "execution_count": 57
        }
      ]
    },
    {
      "cell_type": "code",
      "metadata": {
        "id": "g5pYhppLVdBA",
        "colab_type": "code",
        "colab": {
          "base_uri": "https://localhost:8080/",
          "height": 153
        },
        "outputId": "9e4ebc5e-53e9-4a52-ad74-585bfa76fe4d"
      },
      "source": [
        "!pip install japanize-matplotlib"
      ],
      "execution_count": null,
      "outputs": [
        {
          "output_type": "stream",
          "text": [
            "Requirement already satisfied: japanize-matplotlib in /usr/local/lib/python3.6/dist-packages (1.1.2)\n",
            "Requirement already satisfied: matplotlib in /usr/local/lib/python3.6/dist-packages (from japanize-matplotlib) (3.2.2)\n",
            "Requirement already satisfied: kiwisolver>=1.0.1 in /usr/local/lib/python3.6/dist-packages (from matplotlib->japanize-matplotlib) (1.2.0)\n",
            "Requirement already satisfied: pyparsing!=2.0.4,!=2.1.2,!=2.1.6,>=2.0.1 in /usr/local/lib/python3.6/dist-packages (from matplotlib->japanize-matplotlib) (2.4.7)\n",
            "Requirement already satisfied: cycler>=0.10 in /usr/local/lib/python3.6/dist-packages (from matplotlib->japanize-matplotlib) (0.10.0)\n",
            "Requirement already satisfied: python-dateutil>=2.1 in /usr/local/lib/python3.6/dist-packages (from matplotlib->japanize-matplotlib) (2.8.1)\n",
            "Requirement already satisfied: numpy>=1.11 in /usr/local/lib/python3.6/dist-packages (from matplotlib->japanize-matplotlib) (1.18.5)\n",
            "Requirement already satisfied: six in /usr/local/lib/python3.6/dist-packages (from cycler>=0.10->matplotlib->japanize-matplotlib) (1.15.0)\n"
          ],
          "name": "stdout"
        }
      ]
    },
    {
      "cell_type": "code",
      "metadata": {
        "id": "bYpb9yMCQm8y",
        "colab_type": "code",
        "colab": {}
      },
      "source": [
        "import matplotlib.pyplot as plt\n",
        "import seaborn as sns \n",
        "sns.set(font='IPAGothic')"
      ],
      "execution_count": null,
      "outputs": []
    },
    {
      "cell_type": "code",
      "metadata": {
        "id": "a5HVuHkFt42v",
        "colab_type": "code",
        "colab": {}
      },
      "source": [
        "from datetime import datetime"
      ],
      "execution_count": null,
      "outputs": []
    },
    {
      "cell_type": "code",
      "metadata": {
        "id": "1lYe1uEqWULJ",
        "colab_type": "code",
        "colab": {
          "base_uri": "https://localhost:8080/",
          "height": 34
        },
        "outputId": "8bf12054-7d2a-4c9a-aad6-47f6ccb88e0a"
      },
      "source": [
        "drive.mount('/content/drive')"
      ],
      "execution_count": null,
      "outputs": [
        {
          "output_type": "stream",
          "text": [
            "Drive already mounted at /content/drive; to attempt to forcibly remount, call drive.mount(\"/content/drive\", force_remount=True).\n"
          ],
          "name": "stdout"
        }
      ]
    },
    {
      "cell_type": "code",
      "metadata": {
        "id": "fEOdF4B9Wha-",
        "colab_type": "code",
        "colab": {}
      },
      "source": [
        "df = pd.read_csv('/content/drive/My Drive/Colab Notebooks/METI/meti_pos_summary_data.csv', sep='\\t', encoding='utf-16')"
      ],
      "execution_count": null,
      "outputs": []
    },
    {
      "cell_type": "code",
      "metadata": {
        "id": "6jh0g9ucX0Tm",
        "colab_type": "code",
        "colab": {
          "base_uri": "https://localhost:8080/",
          "height": 34
        },
        "outputId": "033f6ba1-cef7-4ddd-ebf6-2ba1eec48ca5"
      },
      "source": [
        "df.shape"
      ],
      "execution_count": null,
      "outputs": [
        {
          "output_type": "execute_result",
          "data": {
            "text/plain": [
              "(329830, 8)"
            ]
          },
          "metadata": {
            "tags": []
          },
          "execution_count": 62
        }
      ]
    },
    {
      "cell_type": "code",
      "metadata": {
        "id": "jCbU0-mCb2D-",
        "colab_type": "code",
        "colab": {
          "base_uri": "https://localhost:8080/",
          "height": 272
        },
        "outputId": "c0569e0f-04bf-4ab7-de02-8922e2271595"
      },
      "source": [
        "df.info()"
      ],
      "execution_count": null,
      "outputs": [
        {
          "output_type": "stream",
          "text": [
            "<class 'pandas.core.frame.DataFrame'>\n",
            "RangeIndex: 329830 entries, 0 to 329829\n",
            "Data columns (total 8 columns):\n",
            " #   Column          Non-Null Count   Dtype  \n",
            "---  ------          --------------   -----  \n",
            " 0   期間_表示           329830 non-null  object \n",
            " 1   週次・月次(フィルタ用)    329830 non-null  object \n",
            " 2   地域名             329830 non-null  object \n",
            " 3   業態名             329830 non-null  object \n",
            " 4   大分類名            329830 non-null  object \n",
            " 5   中分類名            329830 non-null  object \n",
            " 6   Measure Names   329830 non-null  object \n",
            " 7   Measure Values  310869 non-null  float64\n",
            "dtypes: float64(1), object(7)\n",
            "memory usage: 20.1+ MB\n"
          ],
          "name": "stdout"
        }
      ]
    },
    {
      "cell_type": "code",
      "metadata": {
        "id": "55j8C2Ifdho2",
        "colab_type": "code",
        "colab": {
          "base_uri": "https://localhost:8080/",
          "height": 419
        },
        "outputId": "37cce515-cbaa-4c31-bc24-5920094a8d71"
      },
      "source": [
        "df"
      ],
      "execution_count": null,
      "outputs": [
        {
          "output_type": "execute_result",
          "data": {
            "text/html": [
              "<div>\n",
              "<style scoped>\n",
              "    .dataframe tbody tr th:only-of-type {\n",
              "        vertical-align: middle;\n",
              "    }\n",
              "\n",
              "    .dataframe tbody tr th {\n",
              "        vertical-align: top;\n",
              "    }\n",
              "\n",
              "    .dataframe thead th {\n",
              "        text-align: right;\n",
              "    }\n",
              "</style>\n",
              "<table border=\"1\" class=\"dataframe\">\n",
              "  <thead>\n",
              "    <tr style=\"text-align: right;\">\n",
              "      <th></th>\n",
              "      <th>期間_表示</th>\n",
              "      <th>週次・月次(フィルタ用)</th>\n",
              "      <th>地域名</th>\n",
              "      <th>業態名</th>\n",
              "      <th>大分類名</th>\n",
              "      <th>中分類名</th>\n",
              "      <th>Measure Names</th>\n",
              "      <th>Measure Values</th>\n",
              "    </tr>\n",
              "  </thead>\n",
              "  <tbody>\n",
              "    <tr>\n",
              "      <th>0</th>\n",
              "      <td>2012-10-07</td>\n",
              "      <td>週次</td>\n",
              "      <td>00_全国</td>\n",
              "      <td>05_家電大型専門店</td>\n",
              "      <td>00_大分類計</td>\n",
              "      <td>00_中分類計</td>\n",
              "      <td>前年比（％）</td>\n",
              "      <td>NaN</td>\n",
              "    </tr>\n",
              "    <tr>\n",
              "      <th>1</th>\n",
              "      <td>2012-10-14</td>\n",
              "      <td>週次</td>\n",
              "      <td>00_全国</td>\n",
              "      <td>05_家電大型専門店</td>\n",
              "      <td>00_大分類計</td>\n",
              "      <td>00_中分類計</td>\n",
              "      <td>前年比（％）</td>\n",
              "      <td>NaN</td>\n",
              "    </tr>\n",
              "    <tr>\n",
              "      <th>2</th>\n",
              "      <td>2012-10-21</td>\n",
              "      <td>週次</td>\n",
              "      <td>00_全国</td>\n",
              "      <td>05_家電大型専門店</td>\n",
              "      <td>00_大分類計</td>\n",
              "      <td>00_中分類計</td>\n",
              "      <td>前年比（％）</td>\n",
              "      <td>NaN</td>\n",
              "    </tr>\n",
              "    <tr>\n",
              "      <th>3</th>\n",
              "      <td>2012-10-28</td>\n",
              "      <td>週次</td>\n",
              "      <td>00_全国</td>\n",
              "      <td>05_家電大型専門店</td>\n",
              "      <td>00_大分類計</td>\n",
              "      <td>00_中分類計</td>\n",
              "      <td>前年比（％）</td>\n",
              "      <td>NaN</td>\n",
              "    </tr>\n",
              "    <tr>\n",
              "      <th>4</th>\n",
              "      <td>2012-11-04</td>\n",
              "      <td>週次</td>\n",
              "      <td>00_全国</td>\n",
              "      <td>05_家電大型専門店</td>\n",
              "      <td>00_大分類計</td>\n",
              "      <td>00_中分類計</td>\n",
              "      <td>前年比（％）</td>\n",
              "      <td>NaN</td>\n",
              "    </tr>\n",
              "    <tr>\n",
              "      <th>...</th>\n",
              "      <td>...</td>\n",
              "      <td>...</td>\n",
              "      <td>...</td>\n",
              "      <td>...</td>\n",
              "      <td>...</td>\n",
              "      <td>...</td>\n",
              "      <td>...</td>\n",
              "      <td>...</td>\n",
              "    </tr>\n",
              "    <tr>\n",
              "      <th>329825</th>\n",
              "      <td>2020-06-21</td>\n",
              "      <td>週次</td>\n",
              "      <td>15_中国・四国・九州・沖縄</td>\n",
              "      <td>05_家電大型専門店</td>\n",
              "      <td>70_家電</td>\n",
              "      <td>75_エアコン</td>\n",
              "      <td>販売金額指数</td>\n",
              "      <td>267.88</td>\n",
              "    </tr>\n",
              "    <tr>\n",
              "      <th>329826</th>\n",
              "      <td>2020-06-28</td>\n",
              "      <td>週次</td>\n",
              "      <td>15_中国・四国・九州・沖縄</td>\n",
              "      <td>05_家電大型専門店</td>\n",
              "      <td>70_家電</td>\n",
              "      <td>75_エアコン</td>\n",
              "      <td>販売金額指数</td>\n",
              "      <td>259.06</td>\n",
              "    </tr>\n",
              "    <tr>\n",
              "      <th>329827</th>\n",
              "      <td>2020-07-05</td>\n",
              "      <td>週次</td>\n",
              "      <td>15_中国・四国・九州・沖縄</td>\n",
              "      <td>05_家電大型専門店</td>\n",
              "      <td>70_家電</td>\n",
              "      <td>75_エアコン</td>\n",
              "      <td>販売金額指数</td>\n",
              "      <td>188.18</td>\n",
              "    </tr>\n",
              "    <tr>\n",
              "      <th>329828</th>\n",
              "      <td>2020-07-12</td>\n",
              "      <td>週次</td>\n",
              "      <td>15_中国・四国・九州・沖縄</td>\n",
              "      <td>05_家電大型専門店</td>\n",
              "      <td>70_家電</td>\n",
              "      <td>75_エアコン</td>\n",
              "      <td>販売金額指数</td>\n",
              "      <td>165.46</td>\n",
              "    </tr>\n",
              "    <tr>\n",
              "      <th>329829</th>\n",
              "      <td>2020-07-19</td>\n",
              "      <td>週次</td>\n",
              "      <td>15_中国・四国・九州・沖縄</td>\n",
              "      <td>05_家電大型専門店</td>\n",
              "      <td>70_家電</td>\n",
              "      <td>75_エアコン</td>\n",
              "      <td>販売金額指数</td>\n",
              "      <td>142.12</td>\n",
              "    </tr>\n",
              "  </tbody>\n",
              "</table>\n",
              "<p>329830 rows × 8 columns</p>\n",
              "</div>"
            ],
            "text/plain": [
              "             期間_表示 週次・月次(フィルタ用)  ... Measure Names Measure Values\n",
              "0       2012-10-07           週次  ...        前年比（％）            NaN\n",
              "1       2012-10-14           週次  ...        前年比（％）            NaN\n",
              "2       2012-10-21           週次  ...        前年比（％）            NaN\n",
              "3       2012-10-28           週次  ...        前年比（％）            NaN\n",
              "4       2012-11-04           週次  ...        前年比（％）            NaN\n",
              "...            ...          ...  ...           ...            ...\n",
              "329825  2020-06-21           週次  ...        販売金額指数         267.88\n",
              "329826  2020-06-28           週次  ...        販売金額指数         259.06\n",
              "329827  2020-07-05           週次  ...        販売金額指数         188.18\n",
              "329828  2020-07-12           週次  ...        販売金額指数         165.46\n",
              "329829  2020-07-19           週次  ...        販売金額指数         142.12\n",
              "\n",
              "[329830 rows x 8 columns]"
            ]
          },
          "metadata": {
            "tags": []
          },
          "execution_count": 64
        }
      ]
    },
    {
      "cell_type": "code",
      "metadata": {
        "id": "2XQdGJI4dmxB",
        "colab_type": "code",
        "colab": {
          "base_uri": "https://localhost:8080/",
          "height": 34
        },
        "outputId": "d6b04f9a-8e38-43bd-a23b-948cb18681a5"
      },
      "source": [
        "df['Measure Names'].unique()"
      ],
      "execution_count": null,
      "outputs": [
        {
          "output_type": "execute_result",
          "data": {
            "text/plain": [
              "array(['前年比（％）', '販売金額指数'], dtype=object)"
            ]
          },
          "metadata": {
            "tags": []
          },
          "execution_count": 65
        }
      ]
    },
    {
      "cell_type": "code",
      "metadata": {
        "id": "phyZx-1FfFWF",
        "colab_type": "code",
        "colab": {
          "base_uri": "https://localhost:8080/",
          "height": 68
        },
        "outputId": "ef3b7490-4b17-4ffc-b1e7-7c89d3a1ce91"
      },
      "source": [
        "df['地域名'].unique()"
      ],
      "execution_count": null,
      "outputs": [
        {
          "output_type": "execute_result",
          "data": {
            "text/plain": [
              "array(['00_全国', '01_北海道', '02_東北', '03_関東', '04_中部', '05_近畿', '06_中国',\n",
              "       '07_四国', '08_九州', '09_沖縄', '11_北海道・東北', '12_関東・甲越', '13_東海・北陸',\n",
              "       '14_近畿', '15_中国・四国・九州・沖縄'], dtype=object)"
            ]
          },
          "metadata": {
            "tags": []
          },
          "execution_count": 66
        }
      ]
    },
    {
      "cell_type": "code",
      "metadata": {
        "id": "vCictr-GgJ6E",
        "colab_type": "code",
        "colab": {}
      },
      "source": [
        "columns = ['地域名', '業態名', '大分類名', '中分類名']\n",
        "for column in columns:\n",
        "  df[column] = df[column].apply(lambda x: x.split('_')[1])"
      ],
      "execution_count": null,
      "outputs": []
    },
    {
      "cell_type": "code",
      "metadata": {
        "id": "shUJXhBkglQV",
        "colab_type": "code",
        "colab": {
          "base_uri": "https://localhost:8080/",
          "height": 68
        },
        "outputId": "48d27e0c-0fed-4287-9c86-732cf890640c"
      },
      "source": [
        "df.columns"
      ],
      "execution_count": null,
      "outputs": [
        {
          "output_type": "execute_result",
          "data": {
            "text/plain": [
              "Index(['期間_表示', '週次・月次(フィルタ用)', '地域名', '業態名', '大分類名', '中分類名', 'Measure Names',\n",
              "       'Measure Values'],\n",
              "      dtype='object')"
            ]
          },
          "metadata": {
            "tags": []
          },
          "execution_count": 68
        }
      ]
    },
    {
      "cell_type": "code",
      "metadata": {
        "id": "LWlNAsglh8t6",
        "colab_type": "code",
        "colab": {}
      },
      "source": [
        "df = df.rename(columns={'期間_表示': 'ts', '週次・月次(フィルタ用)':'ts_pattern', '地域名':'region', '業態名':'industry', '大分類名':'category', \n",
        "                   '中分類名':'sub_category', 'Measure Names':'measure_pattern', 'Measure Values':'value'})"
      ],
      "execution_count": null,
      "outputs": []
    },
    {
      "cell_type": "code",
      "metadata": {
        "id": "yBmPxgmphBP9",
        "colab_type": "code",
        "colab": {}
      },
      "source": [
        "df_yoy = df[df['measure_pattern'] == '販売金額指数']"
      ],
      "execution_count": null,
      "outputs": []
    },
    {
      "cell_type": "code",
      "metadata": {
        "id": "zL2mhTj0hTRQ",
        "colab_type": "code",
        "colab": {
          "base_uri": "https://localhost:8080/",
          "height": 51
        },
        "outputId": "e41326af-68c7-4023-a583-98ef553d4d0c"
      },
      "source": [
        "df_yoy['industry'].unique()"
      ],
      "execution_count": null,
      "outputs": [
        {
          "output_type": "execute_result",
          "data": {
            "text/plain": [
              "array(['家電大型専門店', 'スーパーマーケット', 'コンビニエンスストア', 'ホームセンター', 'ドラッグストア'],\n",
              "      dtype=object)"
            ]
          },
          "metadata": {
            "tags": []
          },
          "execution_count": 71
        }
      ]
    },
    {
      "cell_type": "code",
      "metadata": {
        "id": "pGmrTYCxhfO9",
        "colab_type": "code",
        "colab": {
          "base_uri": "https://localhost:8080/",
          "height": 204
        },
        "outputId": "868a5895-8b2e-435e-dd28-4fc79bdca91f"
      },
      "source": [
        "df_yoy.head()"
      ],
      "execution_count": null,
      "outputs": [
        {
          "output_type": "execute_result",
          "data": {
            "text/html": [
              "<div>\n",
              "<style scoped>\n",
              "    .dataframe tbody tr th:only-of-type {\n",
              "        vertical-align: middle;\n",
              "    }\n",
              "\n",
              "    .dataframe tbody tr th {\n",
              "        vertical-align: top;\n",
              "    }\n",
              "\n",
              "    .dataframe thead th {\n",
              "        text-align: right;\n",
              "    }\n",
              "</style>\n",
              "<table border=\"1\" class=\"dataframe\">\n",
              "  <thead>\n",
              "    <tr style=\"text-align: right;\">\n",
              "      <th></th>\n",
              "      <th>ts</th>\n",
              "      <th>ts_pattern</th>\n",
              "      <th>region</th>\n",
              "      <th>industry</th>\n",
              "      <th>category</th>\n",
              "      <th>sub_category</th>\n",
              "      <th>measure_pattern</th>\n",
              "      <th>value</th>\n",
              "    </tr>\n",
              "  </thead>\n",
              "  <tbody>\n",
              "    <tr>\n",
              "      <th>407</th>\n",
              "      <td>2012-10-07</td>\n",
              "      <td>週次</td>\n",
              "      <td>全国</td>\n",
              "      <td>家電大型専門店</td>\n",
              "      <td>大分類計</td>\n",
              "      <td>中分類計</td>\n",
              "      <td>販売金額指数</td>\n",
              "      <td>78.58</td>\n",
              "    </tr>\n",
              "    <tr>\n",
              "      <th>408</th>\n",
              "      <td>2012-10-14</td>\n",
              "      <td>週次</td>\n",
              "      <td>全国</td>\n",
              "      <td>家電大型専門店</td>\n",
              "      <td>大分類計</td>\n",
              "      <td>中分類計</td>\n",
              "      <td>販売金額指数</td>\n",
              "      <td>84.55</td>\n",
              "    </tr>\n",
              "    <tr>\n",
              "      <th>409</th>\n",
              "      <td>2012-10-21</td>\n",
              "      <td>週次</td>\n",
              "      <td>全国</td>\n",
              "      <td>家電大型専門店</td>\n",
              "      <td>大分類計</td>\n",
              "      <td>中分類計</td>\n",
              "      <td>販売金額指数</td>\n",
              "      <td>77.23</td>\n",
              "    </tr>\n",
              "    <tr>\n",
              "      <th>410</th>\n",
              "      <td>2012-10-28</td>\n",
              "      <td>週次</td>\n",
              "      <td>全国</td>\n",
              "      <td>家電大型専門店</td>\n",
              "      <td>大分類計</td>\n",
              "      <td>中分類計</td>\n",
              "      <td>販売金額指数</td>\n",
              "      <td>83.79</td>\n",
              "    </tr>\n",
              "    <tr>\n",
              "      <th>411</th>\n",
              "      <td>2012-11-04</td>\n",
              "      <td>週次</td>\n",
              "      <td>全国</td>\n",
              "      <td>家電大型専門店</td>\n",
              "      <td>大分類計</td>\n",
              "      <td>中分類計</td>\n",
              "      <td>販売金額指数</td>\n",
              "      <td>89.40</td>\n",
              "    </tr>\n",
              "  </tbody>\n",
              "</table>\n",
              "</div>"
            ],
            "text/plain": [
              "             ts ts_pattern region  ... sub_category measure_pattern  value\n",
              "407  2012-10-07         週次     全国  ...         中分類計          販売金額指数  78.58\n",
              "408  2012-10-14         週次     全国  ...         中分類計          販売金額指数  84.55\n",
              "409  2012-10-21         週次     全国  ...         中分類計          販売金額指数  77.23\n",
              "410  2012-10-28         週次     全国  ...         中分類計          販売金額指数  83.79\n",
              "411  2012-11-04         週次     全国  ...         中分類計          販売金額指数  89.40\n",
              "\n",
              "[5 rows x 8 columns]"
            ]
          },
          "metadata": {
            "tags": []
          },
          "execution_count": 72
        }
      ]
    },
    {
      "cell_type": "code",
      "metadata": {
        "id": "L0pabe2DiFdJ",
        "colab_type": "code",
        "colab": {
          "base_uri": "https://localhost:8080/",
          "height": 419
        },
        "outputId": "8c096ea8-75db-45ae-a581-b1240b8f4b33"
      },
      "source": [
        " df_yoy[df_yoy.isna().any(axis=1)]"
      ],
      "execution_count": null,
      "outputs": [
        {
          "output_type": "execute_result",
          "data": {
            "text/html": [
              "<div>\n",
              "<style scoped>\n",
              "    .dataframe tbody tr th:only-of-type {\n",
              "        vertical-align: middle;\n",
              "    }\n",
              "\n",
              "    .dataframe tbody tr th {\n",
              "        vertical-align: top;\n",
              "    }\n",
              "\n",
              "    .dataframe thead th {\n",
              "        text-align: right;\n",
              "    }\n",
              "</style>\n",
              "<table border=\"1\" class=\"dataframe\">\n",
              "  <thead>\n",
              "    <tr style=\"text-align: right;\">\n",
              "      <th></th>\n",
              "      <th>ts</th>\n",
              "      <th>ts_pattern</th>\n",
              "      <th>region</th>\n",
              "      <th>industry</th>\n",
              "      <th>category</th>\n",
              "      <th>sub_category</th>\n",
              "      <th>measure_pattern</th>\n",
              "      <th>value</th>\n",
              "    </tr>\n",
              "  </thead>\n",
              "  <tbody>\n",
              "    <tr>\n",
              "      <th>53424</th>\n",
              "      <td>2012-02-05</td>\n",
              "      <td>週次</td>\n",
              "      <td>全国</td>\n",
              "      <td>コンビニエンスストア</td>\n",
              "      <td>ヘルスケア</td>\n",
              "      <td>ベビー</td>\n",
              "      <td>販売金額指数</td>\n",
              "      <td>NaN</td>\n",
              "    </tr>\n",
              "    <tr>\n",
              "      <th>53425</th>\n",
              "      <td>2012-02-12</td>\n",
              "      <td>週次</td>\n",
              "      <td>全国</td>\n",
              "      <td>コンビニエンスストア</td>\n",
              "      <td>ヘルスケア</td>\n",
              "      <td>ベビー</td>\n",
              "      <td>販売金額指数</td>\n",
              "      <td>NaN</td>\n",
              "    </tr>\n",
              "    <tr>\n",
              "      <th>53426</th>\n",
              "      <td>2012-02-19</td>\n",
              "      <td>週次</td>\n",
              "      <td>全国</td>\n",
              "      <td>コンビニエンスストア</td>\n",
              "      <td>ヘルスケア</td>\n",
              "      <td>ベビー</td>\n",
              "      <td>販売金額指数</td>\n",
              "      <td>NaN</td>\n",
              "    </tr>\n",
              "    <tr>\n",
              "      <th>53427</th>\n",
              "      <td>2012-02-26</td>\n",
              "      <td>週次</td>\n",
              "      <td>全国</td>\n",
              "      <td>コンビニエンスストア</td>\n",
              "      <td>ヘルスケア</td>\n",
              "      <td>ベビー</td>\n",
              "      <td>販売金額指数</td>\n",
              "      <td>NaN</td>\n",
              "    </tr>\n",
              "    <tr>\n",
              "      <th>53428</th>\n",
              "      <td>2012-03-04</td>\n",
              "      <td>週次</td>\n",
              "      <td>全国</td>\n",
              "      <td>コンビニエンスストア</td>\n",
              "      <td>ヘルスケア</td>\n",
              "      <td>ベビー</td>\n",
              "      <td>販売金額指数</td>\n",
              "      <td>NaN</td>\n",
              "    </tr>\n",
              "    <tr>\n",
              "      <th>...</th>\n",
              "      <td>...</td>\n",
              "      <td>...</td>\n",
              "      <td>...</td>\n",
              "      <td>...</td>\n",
              "      <td>...</td>\n",
              "      <td>...</td>\n",
              "      <td>...</td>\n",
              "      <td>...</td>\n",
              "    </tr>\n",
              "    <tr>\n",
              "      <th>53855</th>\n",
              "      <td>2020-05-10</td>\n",
              "      <td>週次</td>\n",
              "      <td>全国</td>\n",
              "      <td>コンビニエンスストア</td>\n",
              "      <td>ヘルスケア</td>\n",
              "      <td>ベビー</td>\n",
              "      <td>販売金額指数</td>\n",
              "      <td>NaN</td>\n",
              "    </tr>\n",
              "    <tr>\n",
              "      <th>53861</th>\n",
              "      <td>2020-06-21</td>\n",
              "      <td>週次</td>\n",
              "      <td>全国</td>\n",
              "      <td>コンビニエンスストア</td>\n",
              "      <td>ヘルスケア</td>\n",
              "      <td>ベビー</td>\n",
              "      <td>販売金額指数</td>\n",
              "      <td>NaN</td>\n",
              "    </tr>\n",
              "    <tr>\n",
              "      <th>53862</th>\n",
              "      <td>2020-06-28</td>\n",
              "      <td>週次</td>\n",
              "      <td>全国</td>\n",
              "      <td>コンビニエンスストア</td>\n",
              "      <td>ヘルスケア</td>\n",
              "      <td>ベビー</td>\n",
              "      <td>販売金額指数</td>\n",
              "      <td>NaN</td>\n",
              "    </tr>\n",
              "    <tr>\n",
              "      <th>53863</th>\n",
              "      <td>2020-07-05</td>\n",
              "      <td>週次</td>\n",
              "      <td>全国</td>\n",
              "      <td>コンビニエンスストア</td>\n",
              "      <td>ヘルスケア</td>\n",
              "      <td>ベビー</td>\n",
              "      <td>販売金額指数</td>\n",
              "      <td>NaN</td>\n",
              "    </tr>\n",
              "    <tr>\n",
              "      <th>53864</th>\n",
              "      <td>2020-07-12</td>\n",
              "      <td>週次</td>\n",
              "      <td>全国</td>\n",
              "      <td>コンビニエンスストア</td>\n",
              "      <td>ヘルスケア</td>\n",
              "      <td>ベビー</td>\n",
              "      <td>販売金額指数</td>\n",
              "      <td>NaN</td>\n",
              "    </tr>\n",
              "  </tbody>\n",
              "</table>\n",
              "<p>246 rows × 8 columns</p>\n",
              "</div>"
            ],
            "text/plain": [
              "               ts ts_pattern region  ... sub_category measure_pattern value\n",
              "53424  2012-02-05         週次     全国  ...          ベビー          販売金額指数   NaN\n",
              "53425  2012-02-12         週次     全国  ...          ベビー          販売金額指数   NaN\n",
              "53426  2012-02-19         週次     全国  ...          ベビー          販売金額指数   NaN\n",
              "53427  2012-02-26         週次     全国  ...          ベビー          販売金額指数   NaN\n",
              "53428  2012-03-04         週次     全国  ...          ベビー          販売金額指数   NaN\n",
              "...           ...        ...    ...  ...          ...             ...   ...\n",
              "53855  2020-05-10         週次     全国  ...          ベビー          販売金額指数   NaN\n",
              "53861  2020-06-21         週次     全国  ...          ベビー          販売金額指数   NaN\n",
              "53862  2020-06-28         週次     全国  ...          ベビー          販売金額指数   NaN\n",
              "53863  2020-07-05         週次     全国  ...          ベビー          販売金額指数   NaN\n",
              "53864  2020-07-12         週次     全国  ...          ベビー          販売金額指数   NaN\n",
              "\n",
              "[246 rows x 8 columns]"
            ]
          },
          "metadata": {
            "tags": []
          },
          "execution_count": 73
        }
      ]
    },
    {
      "cell_type": "code",
      "metadata": {
        "id": "MQrSJLvtjWCG",
        "colab_type": "code",
        "colab": {}
      },
      "source": [
        "df_yoy = df_yoy.dropna()"
      ],
      "execution_count": null,
      "outputs": []
    },
    {
      "cell_type": "code",
      "metadata": {
        "id": "HDufn6Hlj3L3",
        "colab_type": "code",
        "colab": {
          "base_uri": "https://localhost:8080/",
          "height": 419
        },
        "outputId": "001b9a61-67e0-4194-c39c-de33b23d0131"
      },
      "source": [
        "df_yoy"
      ],
      "execution_count": null,
      "outputs": [
        {
          "output_type": "execute_result",
          "data": {
            "text/html": [
              "<div>\n",
              "<style scoped>\n",
              "    .dataframe tbody tr th:only-of-type {\n",
              "        vertical-align: middle;\n",
              "    }\n",
              "\n",
              "    .dataframe tbody tr th {\n",
              "        vertical-align: top;\n",
              "    }\n",
              "\n",
              "    .dataframe thead th {\n",
              "        text-align: right;\n",
              "    }\n",
              "</style>\n",
              "<table border=\"1\" class=\"dataframe\">\n",
              "  <thead>\n",
              "    <tr style=\"text-align: right;\">\n",
              "      <th></th>\n",
              "      <th>ts</th>\n",
              "      <th>ts_pattern</th>\n",
              "      <th>region</th>\n",
              "      <th>industry</th>\n",
              "      <th>category</th>\n",
              "      <th>sub_category</th>\n",
              "      <th>measure_pattern</th>\n",
              "      <th>value</th>\n",
              "    </tr>\n",
              "  </thead>\n",
              "  <tbody>\n",
              "    <tr>\n",
              "      <th>407</th>\n",
              "      <td>2012-10-07</td>\n",
              "      <td>週次</td>\n",
              "      <td>全国</td>\n",
              "      <td>家電大型専門店</td>\n",
              "      <td>大分類計</td>\n",
              "      <td>中分類計</td>\n",
              "      <td>販売金額指数</td>\n",
              "      <td>78.58</td>\n",
              "    </tr>\n",
              "    <tr>\n",
              "      <th>408</th>\n",
              "      <td>2012-10-14</td>\n",
              "      <td>週次</td>\n",
              "      <td>全国</td>\n",
              "      <td>家電大型専門店</td>\n",
              "      <td>大分類計</td>\n",
              "      <td>中分類計</td>\n",
              "      <td>販売金額指数</td>\n",
              "      <td>84.55</td>\n",
              "    </tr>\n",
              "    <tr>\n",
              "      <th>409</th>\n",
              "      <td>2012-10-21</td>\n",
              "      <td>週次</td>\n",
              "      <td>全国</td>\n",
              "      <td>家電大型専門店</td>\n",
              "      <td>大分類計</td>\n",
              "      <td>中分類計</td>\n",
              "      <td>販売金額指数</td>\n",
              "      <td>77.23</td>\n",
              "    </tr>\n",
              "    <tr>\n",
              "      <th>410</th>\n",
              "      <td>2012-10-28</td>\n",
              "      <td>週次</td>\n",
              "      <td>全国</td>\n",
              "      <td>家電大型専門店</td>\n",
              "      <td>大分類計</td>\n",
              "      <td>中分類計</td>\n",
              "      <td>販売金額指数</td>\n",
              "      <td>83.79</td>\n",
              "    </tr>\n",
              "    <tr>\n",
              "      <th>411</th>\n",
              "      <td>2012-11-04</td>\n",
              "      <td>週次</td>\n",
              "      <td>全国</td>\n",
              "      <td>家電大型専門店</td>\n",
              "      <td>大分類計</td>\n",
              "      <td>中分類計</td>\n",
              "      <td>販売金額指数</td>\n",
              "      <td>89.40</td>\n",
              "    </tr>\n",
              "    <tr>\n",
              "      <th>...</th>\n",
              "      <td>...</td>\n",
              "      <td>...</td>\n",
              "      <td>...</td>\n",
              "      <td>...</td>\n",
              "      <td>...</td>\n",
              "      <td>...</td>\n",
              "      <td>...</td>\n",
              "      <td>...</td>\n",
              "    </tr>\n",
              "    <tr>\n",
              "      <th>329825</th>\n",
              "      <td>2020-06-21</td>\n",
              "      <td>週次</td>\n",
              "      <td>中国・四国・九州・沖縄</td>\n",
              "      <td>家電大型専門店</td>\n",
              "      <td>家電</td>\n",
              "      <td>エアコン</td>\n",
              "      <td>販売金額指数</td>\n",
              "      <td>267.88</td>\n",
              "    </tr>\n",
              "    <tr>\n",
              "      <th>329826</th>\n",
              "      <td>2020-06-28</td>\n",
              "      <td>週次</td>\n",
              "      <td>中国・四国・九州・沖縄</td>\n",
              "      <td>家電大型専門店</td>\n",
              "      <td>家電</td>\n",
              "      <td>エアコン</td>\n",
              "      <td>販売金額指数</td>\n",
              "      <td>259.06</td>\n",
              "    </tr>\n",
              "    <tr>\n",
              "      <th>329827</th>\n",
              "      <td>2020-07-05</td>\n",
              "      <td>週次</td>\n",
              "      <td>中国・四国・九州・沖縄</td>\n",
              "      <td>家電大型専門店</td>\n",
              "      <td>家電</td>\n",
              "      <td>エアコン</td>\n",
              "      <td>販売金額指数</td>\n",
              "      <td>188.18</td>\n",
              "    </tr>\n",
              "    <tr>\n",
              "      <th>329828</th>\n",
              "      <td>2020-07-12</td>\n",
              "      <td>週次</td>\n",
              "      <td>中国・四国・九州・沖縄</td>\n",
              "      <td>家電大型専門店</td>\n",
              "      <td>家電</td>\n",
              "      <td>エアコン</td>\n",
              "      <td>販売金額指数</td>\n",
              "      <td>165.46</td>\n",
              "    </tr>\n",
              "    <tr>\n",
              "      <th>329829</th>\n",
              "      <td>2020-07-19</td>\n",
              "      <td>週次</td>\n",
              "      <td>中国・四国・九州・沖縄</td>\n",
              "      <td>家電大型専門店</td>\n",
              "      <td>家電</td>\n",
              "      <td>エアコン</td>\n",
              "      <td>販売金額指数</td>\n",
              "      <td>142.12</td>\n",
              "    </tr>\n",
              "  </tbody>\n",
              "</table>\n",
              "<p>164669 rows × 8 columns</p>\n",
              "</div>"
            ],
            "text/plain": [
              "                ts ts_pattern       region  ... sub_category measure_pattern   value\n",
              "407     2012-10-07         週次           全国  ...         中分類計          販売金額指数   78.58\n",
              "408     2012-10-14         週次           全国  ...         中分類計          販売金額指数   84.55\n",
              "409     2012-10-21         週次           全国  ...         中分類計          販売金額指数   77.23\n",
              "410     2012-10-28         週次           全国  ...         中分類計          販売金額指数   83.79\n",
              "411     2012-11-04         週次           全国  ...         中分類計          販売金額指数   89.40\n",
              "...            ...        ...          ...  ...          ...             ...     ...\n",
              "329825  2020-06-21         週次  中国・四国・九州・沖縄  ...         エアコン          販売金額指数  267.88\n",
              "329826  2020-06-28         週次  中国・四国・九州・沖縄  ...         エアコン          販売金額指数  259.06\n",
              "329827  2020-07-05         週次  中国・四国・九州・沖縄  ...         エアコン          販売金額指数  188.18\n",
              "329828  2020-07-12         週次  中国・四国・九州・沖縄  ...         エアコン          販売金額指数  165.46\n",
              "329829  2020-07-19         週次  中国・四国・九州・沖縄  ...         エアコン          販売金額指数  142.12\n",
              "\n",
              "[164669 rows x 8 columns]"
            ]
          },
          "metadata": {
            "tags": []
          },
          "execution_count": 75
        }
      ]
    },
    {
      "cell_type": "code",
      "metadata": {
        "id": "6S4V0fd8j49k",
        "colab_type": "code",
        "colab": {
          "base_uri": "https://localhost:8080/",
          "height": 51
        },
        "outputId": "5572428a-3ec1-4f55-f244-8045bbf0e7cb"
      },
      "source": [
        "df_yoy['industry'].unique()"
      ],
      "execution_count": null,
      "outputs": [
        {
          "output_type": "execute_result",
          "data": {
            "text/plain": [
              "array(['家電大型専門店', 'スーパーマーケット', 'コンビニエンスストア', 'ホームセンター', 'ドラッグストア'],\n",
              "      dtype=object)"
            ]
          },
          "metadata": {
            "tags": []
          },
          "execution_count": 76
        }
      ]
    },
    {
      "cell_type": "code",
      "metadata": {
        "id": "NMP2AMLMkEDB",
        "colab_type": "code",
        "colab": {
          "base_uri": "https://localhost:8080/",
          "height": 51
        },
        "outputId": "3993cd00-5ae6-4c5a-fbb9-1fab45fb239b"
      },
      "source": [
        "df_yoy['category'].unique()"
      ],
      "execution_count": null,
      "outputs": [
        {
          "output_type": "execute_result",
          "data": {
            "text/plain": [
              "array(['大分類計', '家電', '食品', '飲料', '雑貨', '化粧品', 'ヘルスケア', 'その他'],\n",
              "      dtype=object)"
            ]
          },
          "metadata": {
            "tags": []
          },
          "execution_count": 77
        }
      ]
    },
    {
      "cell_type": "code",
      "metadata": {
        "id": "MUKIdsTXkQ_4",
        "colab_type": "code",
        "colab": {
          "base_uri": "https://localhost:8080/",
          "height": 85
        },
        "outputId": "5afb1e6a-4720-4e01-dd97-f760cda25961"
      },
      "source": [
        "df_yoy['sub_category'].unique()"
      ],
      "execution_count": null,
      "outputs": [
        {
          "output_type": "execute_result",
          "data": {
            "text/plain": [
              "array(['中分類計', 'カラーテレビ', 'パソコン', '冷蔵庫', '洗濯機', 'エアコン', '主食', '調味料',\n",
              "       '加工食品', '菓子', '嗜好品', '嗜好飲料', '清涼飲料', 'アルコール飲料', 'オーラルケア',\n",
              "       'パーソナルケア', 'ハウスホールド', '紙製品', 'その他雑貨', 'ペット', '基礎化粧品', 'メイクアップ化粧品',\n",
              "       'その他化粧品', '医薬品', '健康関連品', 'ベビー', 'たばこ'], dtype=object)"
            ]
          },
          "metadata": {
            "tags": []
          },
          "execution_count": 78
        }
      ]
    },
    {
      "cell_type": "markdown",
      "metadata": {
        "id": "QYdGx5hSkXN8",
        "colab_type": "text"
      },
      "source": [
        "### 基礎化粧品はコロナ期間中売れた？"
      ]
    },
    {
      "cell_type": "code",
      "metadata": {
        "id": "CIpLyHvxk5rU",
        "colab_type": "code",
        "colab": {}
      },
      "source": [
        "df_skin_care = df_yoy[ df_yoy['sub_category'] == '基礎化粧品' ]"
      ],
      "execution_count": null,
      "outputs": []
    },
    {
      "cell_type": "code",
      "metadata": {
        "id": "YE0DLs72lNvJ",
        "colab_type": "code",
        "colab": {
          "base_uri": "https://localhost:8080/",
          "height": 204
        },
        "outputId": "c5cf11ad-649d-44e9-813c-3fe3598565ef"
      },
      "source": [
        "df_skin_care.head()"
      ],
      "execution_count": null,
      "outputs": [
        {
          "output_type": "execute_result",
          "data": {
            "text/html": [
              "<div>\n",
              "<style scoped>\n",
              "    .dataframe tbody tr th:only-of-type {\n",
              "        vertical-align: middle;\n",
              "    }\n",
              "\n",
              "    .dataframe tbody tr th {\n",
              "        vertical-align: top;\n",
              "    }\n",
              "\n",
              "    .dataframe thead th {\n",
              "        text-align: right;\n",
              "    }\n",
              "</style>\n",
              "<table border=\"1\" class=\"dataframe\">\n",
              "  <thead>\n",
              "    <tr style=\"text-align: right;\">\n",
              "      <th></th>\n",
              "      <th>ts</th>\n",
              "      <th>ts_pattern</th>\n",
              "      <th>region</th>\n",
              "      <th>industry</th>\n",
              "      <th>category</th>\n",
              "      <th>sub_category</th>\n",
              "      <th>measure_pattern</th>\n",
              "      <th>value</th>\n",
              "    </tr>\n",
              "  </thead>\n",
              "  <tbody>\n",
              "    <tr>\n",
              "      <th>23092</th>\n",
              "      <td>2012-01-08</td>\n",
              "      <td>週次</td>\n",
              "      <td>全国</td>\n",
              "      <td>スーパーマーケット</td>\n",
              "      <td>化粧品</td>\n",
              "      <td>基礎化粧品</td>\n",
              "      <td>販売金額指数</td>\n",
              "      <td>90.74</td>\n",
              "    </tr>\n",
              "    <tr>\n",
              "      <th>23093</th>\n",
              "      <td>2012-01-15</td>\n",
              "      <td>週次</td>\n",
              "      <td>全国</td>\n",
              "      <td>スーパーマーケット</td>\n",
              "      <td>化粧品</td>\n",
              "      <td>基礎化粧品</td>\n",
              "      <td>販売金額指数</td>\n",
              "      <td>75.97</td>\n",
              "    </tr>\n",
              "    <tr>\n",
              "      <th>23094</th>\n",
              "      <td>2012-01-22</td>\n",
              "      <td>週次</td>\n",
              "      <td>全国</td>\n",
              "      <td>スーパーマーケット</td>\n",
              "      <td>化粧品</td>\n",
              "      <td>基礎化粧品</td>\n",
              "      <td>販売金額指数</td>\n",
              "      <td>91.41</td>\n",
              "    </tr>\n",
              "    <tr>\n",
              "      <th>23095</th>\n",
              "      <td>2012-01-29</td>\n",
              "      <td>週次</td>\n",
              "      <td>全国</td>\n",
              "      <td>スーパーマーケット</td>\n",
              "      <td>化粧品</td>\n",
              "      <td>基礎化粧品</td>\n",
              "      <td>販売金額指数</td>\n",
              "      <td>82.30</td>\n",
              "    </tr>\n",
              "    <tr>\n",
              "      <th>23096</th>\n",
              "      <td>2012-02-05</td>\n",
              "      <td>週次</td>\n",
              "      <td>全国</td>\n",
              "      <td>スーパーマーケット</td>\n",
              "      <td>化粧品</td>\n",
              "      <td>基礎化粧品</td>\n",
              "      <td>販売金額指数</td>\n",
              "      <td>91.84</td>\n",
              "    </tr>\n",
              "  </tbody>\n",
              "</table>\n",
              "</div>"
            ],
            "text/plain": [
              "               ts ts_pattern region  ... sub_category measure_pattern  value\n",
              "23092  2012-01-08         週次     全国  ...        基礎化粧品          販売金額指数  90.74\n",
              "23093  2012-01-15         週次     全国  ...        基礎化粧品          販売金額指数  75.97\n",
              "23094  2012-01-22         週次     全国  ...        基礎化粧品          販売金額指数  91.41\n",
              "23095  2012-01-29         週次     全国  ...        基礎化粧品          販売金額指数  82.30\n",
              "23096  2012-02-05         週次     全国  ...        基礎化粧品          販売金額指数  91.84\n",
              "\n",
              "[5 rows x 8 columns]"
            ]
          },
          "metadata": {
            "tags": []
          },
          "execution_count": 93
        }
      ]
    },
    {
      "cell_type": "code",
      "metadata": {
        "id": "fRj5Kt9lmhrR",
        "colab_type": "code",
        "colab": {}
      },
      "source": [
        "d = {}\n",
        "for record in df_skin_care[['industry', 'value']].to_dict('records'):\n",
        "  if d.get(record['industry']):\n",
        "    arr = d.get(record['industry'])\n",
        "    arr.append(record['value'])\n",
        "    d[record['industry']]=arr\n",
        "  else:\n",
        "    d[record['industry']]=[record['value']]"
      ],
      "execution_count": null,
      "outputs": []
    },
    {
      "cell_type": "code",
      "metadata": {
        "id": "sBl4MfOmpVnX",
        "colab_type": "code",
        "colab": {
          "base_uri": "https://localhost:8080/",
          "height": 34
        },
        "outputId": "bf18bbfc-beb4-4b5c-8cd3-599b155d0ef2"
      },
      "source": [
        "d.keys()"
      ],
      "execution_count": null,
      "outputs": [
        {
          "output_type": "execute_result",
          "data": {
            "text/plain": [
              "dict_keys(['スーパーマーケット', 'コンビニエンスストア', 'ホームセンター', 'ドラッグストア'])"
            ]
          },
          "metadata": {
            "tags": []
          },
          "execution_count": 82
        }
      ]
    },
    {
      "cell_type": "code",
      "metadata": {
        "id": "8RjYoXUSnM-k",
        "colab_type": "code",
        "colab": {}
      },
      "source": [
        "trace_super_market = go.Scatter(\n",
        "    x = list(df_skin_care['ts']),\n",
        "    y = d['スーパーマーケット'],\n",
        "    mode = 'lines',\n",
        "    name = 'スーパーマーケット'\n",
        ")\n",
        "\n",
        "trace_convinience_store = go.Scatter(\n",
        "    x = list(df_skin_care['ts']),\n",
        "    y = d['コンビニエンスストア'],\n",
        "    mode = 'lines',\n",
        "    name = 'コンビニエンスストア'\n",
        ")\n",
        "\n",
        "trace_home_center = go.Scatter(\n",
        "    x = list(df_skin_care['ts']),\n",
        "    y = d['ホームセンター'],\n",
        "    mode = 'lines',\n",
        "    name = 'ホームセンター'\n",
        ")\n",
        "\n",
        "trace_drug_store = go.Scatter(\n",
        "    x = list(df_skin_care['ts']),\n",
        "    y = d['ドラッグストア'],\n",
        "    mode = 'lines',\n",
        "    name = 'ドラッグストア'\n",
        ")\n"
      ],
      "execution_count": null,
      "outputs": []
    },
    {
      "cell_type": "code",
      "metadata": {
        "id": "nTy7UOuJpESS",
        "colab_type": "code",
        "colab": {
          "base_uri": "https://localhost:8080/",
          "height": 542
        },
        "outputId": "bc24555f-8fc4-48fb-a113-87ab3ef3eca0"
      },
      "source": [
        "data = [trace_super_market, trace_convinience_store, trace_home_center, trace_drug_store]\n",
        "\n",
        "layout = go.Layout(\n",
        "    title  =\"基礎化粧品\",\n",
        ")\n",
        "\n",
        "fig = go.Figure(data, layout)\n",
        "#plotly.offline.iplot(fig)\n",
        "fig.show()"
      ],
      "execution_count": null,
      "outputs": [
        {
          "output_type": "display_data",
          "data": {
            "text/html": [
              "<html>\n",
              "<head><meta charset=\"utf-8\" /></head>\n",
              "<body>\n",
              "    <div>\n",
              "            <script src=\"https://cdnjs.cloudflare.com/ajax/libs/mathjax/2.7.5/MathJax.js?config=TeX-AMS-MML_SVG\"></script><script type=\"text/javascript\">if (window.MathJax) {MathJax.Hub.Config({SVG: {font: \"STIX-Web\"}});}</script>\n",
              "                <script type=\"text/javascript\">window.PlotlyConfig = {MathJaxConfig: 'local'};</script>\n",
              "        <script src=\"https://cdn.plot.ly/plotly-latest.min.js\"></script>    \n",
              "            <div id=\"0a198ab1-2211-4b29-8363-7c8b843ed918\" class=\"plotly-graph-div\" style=\"height:525px; width:100%;\"></div>\n",
              "            <script type=\"text/javascript\">\n",
              "                \n",
              "                    window.PLOTLYENV=window.PLOTLYENV || {};\n",
              "                    \n",
              "                if (document.getElementById(\"0a198ab1-2211-4b29-8363-7c8b843ed918\")) {\n",
              "                    Plotly.newPlot(\n",
              "                        '0a198ab1-2211-4b29-8363-7c8b843ed918',\n",
              "                        [{\"mode\": \"lines\", \"name\": \"\\u30b9\\u30fc\\u30d1\\u30fc\\u30de\\u30fc\\u30b1\\u30c3\\u30c8\", \"type\": \"scatter\", \"x\": [\"2012-01-08\", \"2012-01-15\", \"2012-01-22\", \"2012-01-29\", \"2012-02-05\", \"2012-02-12\", \"2012-02-19\", \"2012-02-26\", \"2012-03-04\", \"2012-03-11\", \"2012-03-18\", \"2012-03-25\", \"2012-04-01\", \"2012-04-08\", \"2012-04-15\", \"2012-04-22\", \"2012-04-29\", \"2012-05-06\", \"2012-05-13\", \"2012-05-20\", \"2012-05-27\", \"2012-06-03\", \"2012-06-10\", \"2012-06-17\", \"2012-06-24\", \"2012-07-01\", \"2012-07-08\", \"2012-07-15\", \"2012-07-22\", \"2012-07-29\", \"2012-08-05\", \"2012-08-12\", \"2012-08-19\", \"2012-08-26\", \"2012-09-02\", \"2012-09-09\", \"2012-09-16\", \"2012-09-23\", \"2012-09-30\", \"2012-10-07\", \"2012-10-14\", \"2012-10-21\", \"2012-10-28\", \"2012-11-04\", \"2012-11-11\", \"2012-11-18\", \"2012-11-25\", \"2012-12-02\", \"2012-12-09\", \"2012-12-16\", \"2012-12-23\", \"2012-12-30\", \"2013-01-06\", \"2013-01-13\", \"2013-01-20\", \"2013-01-27\", \"2013-02-03\", \"2013-02-10\", \"2013-02-17\", \"2013-02-24\", \"2013-03-03\", \"2013-03-10\", \"2013-03-17\", \"2013-03-24\", \"2013-03-31\", \"2013-04-07\", \"2013-04-14\", \"2013-04-21\", \"2013-04-28\", \"2013-05-05\", \"2013-05-12\", \"2013-05-19\", \"2013-05-26\", \"2013-06-02\", \"2013-06-09\", \"2013-06-16\", \"2013-06-23\", \"2013-06-30\", \"2013-07-07\", \"2013-07-14\", \"2013-07-21\", \"2013-07-28\", \"2013-08-04\", \"2013-08-11\", \"2013-08-18\", \"2013-08-25\", \"2013-09-01\", \"2013-09-08\", \"2013-09-15\", \"2013-09-22\", \"2013-09-29\", \"2013-10-06\", \"2013-10-13\", \"2013-10-20\", \"2013-10-27\", \"2013-11-03\", \"2013-11-10\", \"2013-11-17\", \"2013-11-24\", \"2013-12-01\", \"2013-12-08\", \"2013-12-15\", \"2013-12-22\", \"2013-12-29\", \"2014-01-05\", \"2014-01-12\", \"2014-01-19\", \"2014-01-26\", \"2014-02-02\", \"2014-02-09\", \"2014-02-16\", \"2014-02-23\", \"2014-03-02\", \"2014-03-09\", \"2014-03-16\", \"2014-03-23\", \"2014-03-30\", \"2014-04-06\", \"2014-04-13\", \"2014-04-20\", \"2014-04-27\", \"2014-05-04\", \"2014-05-11\", \"2014-05-18\", \"2014-05-25\", \"2014-06-01\", \"2014-06-08\", \"2014-06-15\", \"2014-06-22\", \"2014-06-29\", \"2014-07-06\", \"2014-07-13\", \"2014-07-20\", \"2014-07-27\", \"2014-08-03\", \"2014-08-10\", \"2014-08-17\", \"2014-08-24\", \"2014-08-31\", \"2014-09-07\", \"2014-09-14\", \"2014-09-21\", \"2014-09-28\", \"2014-10-05\", \"2014-10-12\", \"2014-10-19\", \"2014-10-26\", \"2014-11-02\", \"2014-11-09\", \"2014-11-16\", \"2014-11-23\", \"2014-11-30\", \"2014-12-07\", \"2014-12-14\", \"2014-12-21\", \"2014-12-28\", \"2015-01-04\", \"2015-01-11\", \"2015-01-18\", \"2015-01-25\", \"2015-02-01\", \"2015-02-08\", \"2015-02-15\", \"2015-02-22\", \"2015-03-01\", \"2015-03-08\", \"2015-03-15\", \"2015-03-22\", \"2015-03-29\", \"2015-04-05\", \"2015-04-12\", \"2015-04-19\", \"2015-04-26\", \"2015-05-03\", \"2015-05-10\", \"2015-05-17\", \"2015-05-24\", \"2015-05-31\", \"2015-06-07\", \"2015-06-14\", \"2015-06-21\", \"2015-06-28\", \"2015-07-05\", \"2015-07-12\", \"2015-07-19\", \"2015-07-26\", \"2015-08-02\", \"2015-08-09\", \"2015-08-16\", \"2015-08-23\", \"2015-08-30\", \"2015-09-06\", \"2015-09-13\", \"2015-09-20\", \"2015-09-27\", \"2015-10-04\", \"2015-10-11\", \"2015-10-18\", \"2015-10-25\", \"2015-11-01\", \"2015-11-08\", \"2015-11-15\", \"2015-11-22\", \"2015-11-29\", \"2015-12-06\", \"2015-12-13\", \"2015-12-20\", \"2015-12-27\", \"2016-01-03\", \"2016-01-10\", \"2016-01-17\", \"2016-01-24\", \"2016-01-31\", \"2016-02-07\", \"2016-02-14\", \"2016-02-21\", \"2016-02-28\", \"2016-03-06\", \"2016-03-13\", \"2016-03-20\", \"2016-03-27\", \"2016-04-03\", \"2016-04-10\", \"2016-04-17\", \"2016-04-24\", \"2016-05-01\", \"2016-05-08\", \"2016-05-15\", \"2016-05-22\", \"2016-05-29\", \"2016-06-05\", \"2016-06-12\", \"2016-06-19\", \"2016-06-26\", \"2016-07-03\", \"2016-07-10\", \"2016-07-17\", \"2016-07-24\", \"2016-07-31\", \"2016-08-07\", \"2016-08-14\", \"2016-08-21\", \"2016-08-28\", \"2016-09-04\", \"2016-09-11\", \"2016-09-18\", \"2016-09-25\", \"2016-10-02\", \"2016-10-09\", \"2016-10-16\", \"2016-10-23\", \"2016-10-30\", \"2016-11-06\", \"2016-11-13\", \"2016-11-20\", \"2016-11-27\", \"2016-12-04\", \"2016-12-11\", \"2016-12-18\", \"2016-12-25\", \"2017-01-01\", \"2017-01-08\", \"2017-01-15\", \"2017-01-22\", \"2017-01-29\", \"2017-02-05\", \"2017-02-12\", \"2017-02-19\", \"2017-02-26\", \"2017-03-05\", \"2017-03-12\", \"2017-03-19\", \"2017-03-26\", \"2017-04-02\", \"2017-04-09\", \"2017-04-16\", \"2017-04-23\", \"2017-04-30\", \"2017-05-07\", \"2017-05-14\", \"2017-05-21\", \"2017-05-28\", \"2017-06-04\", \"2017-06-11\", \"2017-06-18\", \"2017-06-25\", \"2017-07-02\", \"2017-07-09\", \"2017-07-16\", \"2017-07-23\", \"2017-07-30\", \"2017-08-06\", \"2017-08-13\", \"2017-08-20\", \"2017-08-27\", \"2017-09-03\", \"2017-09-10\", \"2017-09-17\", \"2017-09-24\", \"2017-10-01\", \"2017-10-08\", \"2017-10-15\", \"2017-10-22\", \"2017-10-29\", \"2017-11-05\", \"2017-11-12\", \"2017-11-19\", \"2017-11-26\", \"2017-12-03\", \"2017-12-10\", \"2017-12-17\", \"2017-12-24\", \"2017-12-31\", \"2018-01-07\", \"2018-01-14\", \"2018-01-21\", \"2018-01-28\", \"2018-02-04\", \"2018-02-11\", \"2018-02-18\", \"2018-02-25\", \"2018-03-04\", \"2018-03-11\", \"2018-03-18\", \"2018-03-25\", \"2018-04-01\", \"2018-04-08\", \"2018-04-15\", \"2018-04-22\", \"2018-04-29\", \"2018-05-06\", \"2018-05-13\", \"2018-05-20\", \"2018-05-27\", \"2018-06-03\", \"2018-06-10\", \"2018-06-17\", \"2018-06-24\", \"2018-07-01\", \"2018-07-08\", \"2018-07-15\", \"2018-07-22\", \"2018-07-29\", \"2018-08-05\", \"2018-08-12\", \"2018-08-19\", \"2018-08-26\", \"2018-09-02\", \"2018-09-09\", \"2018-09-16\", \"2018-09-23\", \"2018-09-30\", \"2018-10-07\", \"2018-10-14\", \"2018-10-21\", \"2018-10-28\", \"2018-11-04\", \"2018-11-11\", \"2018-11-18\", \"2018-11-25\", \"2018-12-02\", \"2018-12-09\", \"2018-12-16\", \"2018-12-23\", \"2018-12-30\", \"2019-01-06\", \"2019-01-13\", \"2019-01-20\", \"2019-01-27\", \"2019-02-03\", \"2019-02-10\", \"2019-02-17\", \"2019-02-24\", \"2019-03-03\", \"2019-03-10\", \"2019-03-17\", \"2019-03-24\", \"2019-03-31\", \"2019-04-07\", \"2019-04-14\", \"2019-04-21\", \"2019-04-28\", \"2019-05-05\", \"2019-05-12\", \"2019-05-19\", \"2019-05-26\", \"2019-06-02\", \"2019-06-09\", \"2019-06-16\", \"2019-06-23\", \"2019-06-30\", \"2019-07-07\", \"2019-07-14\", \"2019-07-21\", \"2019-07-28\", \"2019-08-04\", \"2019-08-11\", \"2019-08-18\", \"2019-08-25\", \"2019-09-01\", \"2019-09-08\", \"2019-09-15\", \"2019-09-22\", \"2019-09-29\", \"2019-10-06\", \"2019-10-13\", \"2019-10-20\", \"2019-10-27\", \"2019-11-03\", \"2019-11-10\", \"2019-11-17\", \"2019-11-24\", \"2019-12-01\", \"2019-12-08\", \"2019-12-15\", \"2019-12-22\", \"2019-12-29\", \"2020-01-05\", \"2020-01-12\", \"2020-01-19\", \"2020-01-26\", \"2020-02-02\", \"2020-02-09\", \"2020-02-16\", \"2020-02-23\", \"2020-03-01\", \"2020-03-08\", \"2020-03-15\", \"2020-03-22\", \"2020-03-29\", \"2020-04-05\", \"2020-04-12\", \"2020-04-19\", \"2020-04-26\", \"2020-05-03\", \"2020-05-10\", \"2020-05-17\", \"2020-05-24\", \"2020-05-31\", \"2020-06-07\", \"2020-06-14\", \"2020-06-21\", \"2020-06-28\", \"2020-07-05\", \"2020-07-12\", \"2020-07-19\", \"2012-01-08\", \"2012-01-15\", \"2012-01-22\", \"2012-01-29\", \"2012-02-05\", \"2012-02-12\", \"2012-02-19\", \"2012-02-26\", \"2012-03-04\", \"2012-03-11\", \"2012-03-18\", \"2012-03-25\", \"2012-04-01\", \"2012-04-08\", \"2012-04-15\", \"2012-04-22\", \"2012-04-29\", \"2012-05-06\", \"2012-05-13\", \"2012-05-20\", \"2012-05-27\", \"2012-06-03\", \"2012-06-10\", \"2012-06-17\", \"2012-06-24\", \"2012-07-01\", \"2012-07-08\", \"2012-07-15\", \"2012-07-22\", \"2012-07-29\", \"2012-08-05\", \"2012-08-12\", \"2012-08-19\", \"2012-08-26\", \"2012-09-02\", \"2012-09-09\", \"2012-09-16\", \"2012-09-23\", \"2012-09-30\", \"2012-10-07\", \"2012-10-14\", \"2012-10-21\", \"2012-10-28\", \"2012-11-04\", \"2012-11-11\", \"2012-11-18\", \"2012-11-25\", \"2012-12-02\", \"2012-12-09\", \"2012-12-16\", \"2012-12-23\", \"2012-12-30\", \"2013-01-06\", \"2013-01-13\", \"2013-01-20\", \"2013-01-27\", \"2013-02-03\", \"2013-02-10\", \"2013-02-17\", \"2013-02-24\", \"2013-03-03\", \"2013-03-10\", \"2013-03-17\", \"2013-03-24\", \"2013-03-31\", \"2013-04-07\", \"2013-04-14\", \"2013-04-21\", \"2013-04-28\", \"2013-05-05\", \"2013-05-12\", \"2013-05-19\", \"2013-05-26\", \"2013-06-02\", \"2013-06-09\", \"2013-06-16\", \"2013-06-23\", \"2013-06-30\", \"2013-07-07\", \"2013-07-14\", \"2013-07-21\", \"2013-07-28\", \"2013-08-04\", \"2013-08-11\", \"2013-08-18\", \"2013-08-25\", \"2013-09-01\", \"2013-09-08\", \"2013-09-15\", \"2013-09-22\", \"2013-09-29\", \"2013-10-06\", \"2013-10-13\", \"2013-10-20\", \"2013-10-27\", \"2013-11-03\", \"2013-11-10\", \"2013-11-17\", \"2013-11-24\", \"2013-12-01\", \"2013-12-08\", \"2013-12-15\", \"2013-12-22\", \"2013-12-29\", \"2014-01-05\", \"2014-01-12\", \"2014-01-19\", \"2014-01-26\", \"2014-02-02\", \"2014-02-09\", \"2014-02-16\", \"2014-02-23\", \"2014-03-02\", \"2014-03-09\", \"2014-03-16\", \"2014-03-23\", \"2014-03-30\", \"2014-04-06\", \"2014-04-13\", \"2014-04-20\", \"2014-04-27\", \"2014-05-04\", \"2014-05-11\", \"2014-05-18\", \"2014-05-25\", \"2014-06-01\", \"2014-06-08\", \"2014-06-15\", \"2014-06-22\", \"2014-06-29\", \"2014-07-06\", \"2014-07-13\", \"2014-07-20\", \"2014-07-27\", \"2014-08-03\", \"2014-08-10\", \"2014-08-17\", \"2014-08-24\", \"2014-08-31\", \"2014-09-07\", \"2014-09-14\", \"2014-09-21\", \"2014-09-28\", \"2014-10-05\", \"2014-10-12\", \"2014-10-19\", \"2014-10-26\", \"2014-11-02\", \"2014-11-09\", \"2014-11-16\", \"2014-11-23\", \"2014-11-30\", \"2014-12-07\", \"2014-12-14\", \"2014-12-21\", \"2014-12-28\", \"2015-01-04\", \"2015-01-11\", \"2015-01-18\", \"2015-01-25\", \"2015-02-01\", \"2015-02-08\", \"2015-02-15\", \"2015-02-22\", \"2015-03-01\", \"2015-03-08\", \"2015-03-15\", \"2015-03-22\", \"2015-03-29\", \"2015-04-05\", \"2015-04-12\", \"2015-04-19\", \"2015-04-26\", \"2015-05-03\", \"2015-05-10\", \"2015-05-17\", \"2015-05-24\", \"2015-05-31\", \"2015-06-07\", \"2015-06-14\", \"2015-06-21\", \"2015-06-28\", \"2015-07-05\", \"2015-07-12\", \"2015-07-19\", \"2015-07-26\", \"2015-08-02\", \"2015-08-09\", \"2015-08-16\", \"2015-08-23\", \"2015-08-30\", \"2015-09-06\", \"2015-09-13\", \"2015-09-20\", \"2015-09-27\", \"2015-10-04\", \"2015-10-11\", \"2015-10-18\", \"2015-10-25\", \"2015-11-01\", \"2015-11-08\", \"2015-11-15\", \"2015-11-22\", \"2015-11-29\", \"2015-12-06\", \"2015-12-13\", \"2015-12-20\", \"2015-12-27\", \"2016-01-03\", \"2016-01-10\", \"2016-01-17\", \"2016-01-24\", \"2016-01-31\", \"2016-02-07\", \"2016-02-14\", \"2016-02-21\", \"2016-02-28\", \"2016-03-06\", \"2016-03-13\", \"2016-03-20\", \"2016-03-27\", \"2016-04-03\", \"2016-04-10\", \"2016-04-17\", \"2016-04-24\", \"2016-05-01\", \"2016-05-08\", \"2016-05-15\", \"2016-05-22\", \"2016-05-29\", \"2016-06-05\", \"2016-06-12\", \"2016-06-19\", \"2016-06-26\", \"2016-07-03\", \"2016-07-10\", \"2016-07-17\", \"2016-07-24\", \"2016-07-31\", \"2016-08-07\", \"2016-08-14\", \"2016-08-21\", \"2016-08-28\", \"2016-09-04\", \"2016-09-11\", \"2016-09-18\", \"2016-09-25\", \"2016-10-02\", \"2016-10-09\", \"2016-10-16\", \"2016-10-23\", \"2016-10-30\", \"2016-11-06\", \"2016-11-13\", \"2016-11-20\", \"2016-11-27\", \"2016-12-04\", \"2016-12-11\", \"2016-12-18\", \"2016-12-25\", \"2017-01-01\", \"2017-01-08\", \"2017-01-15\", \"2017-01-22\", \"2017-01-29\", \"2017-02-05\", \"2017-02-12\", \"2017-02-19\", \"2017-02-26\", \"2017-03-05\", \"2017-03-12\", \"2017-03-19\", \"2017-03-26\", \"2017-04-02\", \"2017-04-09\", \"2017-04-16\", \"2017-04-23\", \"2017-04-30\", \"2017-05-07\", \"2017-05-14\", \"2017-05-21\", \"2017-05-28\", \"2017-06-04\", \"2017-06-11\", \"2017-06-18\", \"2017-06-25\", \"2017-07-02\", \"2017-07-09\", \"2017-07-16\", \"2017-07-23\", \"2017-07-30\", \"2017-08-06\", \"2017-08-13\", \"2017-08-20\", \"2017-08-27\", \"2017-09-03\", \"2017-09-10\", \"2017-09-17\", \"2017-09-24\", \"2017-10-01\", \"2017-10-08\", \"2017-10-15\", \"2017-10-22\", \"2017-10-29\", \"2017-11-05\", \"2017-11-12\", \"2017-11-19\", \"2017-11-26\", \"2017-12-03\", \"2017-12-10\", \"2017-12-17\", \"2017-12-24\", \"2017-12-31\", \"2018-01-07\", \"2018-01-14\", \"2018-01-21\", \"2018-01-28\", \"2018-02-04\", \"2018-02-11\", \"2018-02-18\", \"2018-02-25\", \"2018-03-04\", \"2018-03-11\", \"2018-03-18\", \"2018-03-25\", \"2018-04-01\", \"2018-04-08\", \"2018-04-15\", \"2018-04-22\", \"2018-04-29\", \"2018-05-06\", \"2018-05-13\", \"2018-05-20\", \"2018-05-27\", \"2018-06-03\", \"2018-06-10\", \"2018-06-17\", \"2018-06-24\", \"2018-07-01\", \"2018-07-08\", \"2018-07-15\", \"2018-07-22\", \"2018-07-29\", \"2018-08-05\", \"2018-08-12\", \"2018-08-19\", \"2018-08-26\", \"2018-09-02\", \"2018-09-09\", \"2018-09-16\", \"2018-09-23\", \"2018-09-30\", \"2018-10-07\", \"2018-10-14\", \"2018-10-21\", \"2018-10-28\", \"2018-11-04\", \"2018-11-11\", \"2018-11-18\", \"2018-11-25\", \"2018-12-02\", \"2018-12-09\", \"2018-12-16\", \"2018-12-23\", \"2018-12-30\", \"2019-01-06\", \"2019-01-13\", \"2019-01-20\", \"2019-01-27\", \"2019-02-03\", \"2019-02-10\", \"2019-02-17\", \"2019-02-24\", \"2019-03-03\", \"2019-03-10\", \"2019-03-17\", \"2019-03-24\", \"2019-03-31\", \"2019-04-07\", \"2019-04-14\", \"2019-04-21\", \"2019-04-28\", \"2019-05-05\", \"2019-05-12\", \"2019-05-19\", \"2019-05-26\", \"2019-06-02\", \"2019-06-09\", \"2019-06-16\", \"2019-06-23\", \"2019-06-30\", \"2019-07-07\", \"2019-07-14\", \"2019-07-21\", \"2019-07-28\", \"2019-08-04\", \"2019-08-11\", \"2019-08-18\", \"2019-08-25\", \"2019-09-01\", \"2019-09-08\", \"2019-09-15\", \"2019-09-22\", \"2019-09-29\", \"2019-10-06\", \"2019-10-13\", \"2019-10-20\", \"2019-10-27\", \"2019-11-03\", \"2019-11-10\", \"2019-11-17\", \"2019-11-24\", \"2019-12-01\", \"2019-12-08\", \"2019-12-15\", \"2019-12-22\", \"2019-12-29\", \"2020-01-05\", \"2020-01-12\", \"2020-01-19\", \"2020-01-26\", \"2020-02-02\", \"2020-02-09\", \"2020-02-16\", \"2020-02-23\", \"2020-03-01\", \"2020-03-08\", \"2020-03-15\", \"2020-03-22\", \"2020-03-29\", \"2020-04-05\", \"2020-04-12\", \"2020-04-19\", \"2020-04-26\", \"2020-05-03\", \"2020-05-10\", \"2020-05-17\", \"2020-05-24\", \"2020-05-31\", \"2020-06-07\", \"2020-06-14\", \"2020-06-21\", \"2020-06-28\", \"2020-07-05\", \"2020-07-12\", \"2020-07-19\", \"2012-01-08\", \"2012-01-15\", \"2012-01-22\", \"2012-01-29\", \"2012-02-05\", \"2012-02-12\", \"2012-02-19\", \"2012-02-26\", \"2012-03-04\", \"2012-03-11\", \"2012-03-18\", \"2012-03-25\", \"2012-04-01\", \"2012-04-08\", \"2012-04-15\", \"2012-04-22\", \"2012-04-29\", \"2012-05-06\", \"2012-05-13\", \"2012-05-20\", \"2012-05-27\", \"2012-06-03\", \"2012-06-10\", \"2012-06-17\", \"2012-06-24\", \"2012-07-01\", \"2012-07-08\", \"2012-07-15\", \"2012-07-22\", \"2012-07-29\", \"2012-08-05\", \"2012-08-12\", \"2012-08-19\", \"2012-08-26\", \"2012-09-02\", \"2012-09-09\", \"2012-09-16\", \"2012-09-23\", \"2012-09-30\", \"2012-10-07\", \"2012-10-14\", \"2012-10-21\", \"2012-10-28\", \"2012-11-04\", \"2012-11-11\", \"2012-11-18\", \"2012-11-25\", \"2012-12-02\", \"2012-12-09\", \"2012-12-16\", \"2012-12-23\", \"2012-12-30\", \"2013-01-06\", \"2013-01-13\", \"2013-01-20\", \"2013-01-27\", \"2013-02-03\", \"2013-02-10\", \"2013-02-17\", \"2013-02-24\", \"2013-03-03\", \"2013-03-10\", \"2013-03-17\", \"2013-03-24\", \"2013-03-31\", \"2013-04-07\", \"2013-04-14\", \"2013-04-21\", \"2013-04-28\", \"2013-05-05\", \"2013-05-12\", \"2013-05-19\", \"2013-05-26\", \"2013-06-02\", \"2013-06-09\", \"2013-06-16\", \"2013-06-23\", \"2013-06-30\", \"2013-07-07\", \"2013-07-14\", \"2013-07-21\", \"2013-07-28\", \"2013-08-04\", \"2013-08-11\", \"2013-08-18\", \"2013-08-25\", \"2013-09-01\", \"2013-09-08\", \"2013-09-15\", \"2013-09-22\", \"2013-09-29\", \"2013-10-06\", \"2013-10-13\", \"2013-10-20\", \"2013-10-27\", \"2013-11-03\", \"2013-11-10\", \"2013-11-17\", \"2013-11-24\", \"2013-12-01\", \"2013-12-08\", \"2013-12-15\", \"2013-12-22\", \"2013-12-29\", \"2014-01-05\", \"2014-01-12\", \"2014-01-19\", \"2014-01-26\", \"2014-02-02\", \"2014-02-09\", \"2014-02-16\", \"2014-02-23\", \"2014-03-02\", \"2014-03-09\", \"2014-03-16\", \"2014-03-23\", \"2014-03-30\", \"2014-04-06\", \"2014-04-13\", \"2014-04-20\", \"2014-04-27\", \"2014-05-04\", \"2014-05-11\", \"2014-05-18\", \"2014-05-25\", \"2014-06-01\", \"2014-06-08\", \"2014-06-15\", \"2014-06-22\", \"2014-06-29\", \"2014-07-06\", \"2014-07-13\", \"2014-07-20\", \"2014-07-27\", \"2014-08-03\", \"2014-08-10\", \"2014-08-17\", \"2014-08-24\", \"2014-08-31\", \"2014-09-07\", \"2014-09-14\", \"2014-09-21\", \"2014-09-28\", \"2014-10-05\", \"2014-10-12\", \"2014-10-19\", \"2014-10-26\", \"2014-11-02\", \"2014-11-09\", \"2014-11-16\", \"2014-11-23\", \"2014-11-30\", \"2014-12-07\", \"2014-12-14\", \"2014-12-21\", \"2014-12-28\", \"2015-01-04\", \"2015-01-11\", \"2015-01-18\", \"2015-01-25\", \"2015-02-01\", \"2015-02-08\", \"2015-02-15\", \"2015-02-22\", \"2015-03-01\", \"2015-03-08\", \"2015-03-15\", \"2015-03-22\", \"2015-03-29\", \"2015-04-05\", \"2015-04-12\", \"2015-04-19\", \"2015-04-26\", \"2015-05-03\", \"2015-05-10\", \"2015-05-17\", \"2015-05-24\", \"2015-05-31\", \"2015-06-07\", \"2015-06-14\", \"2015-06-21\", \"2015-06-28\", \"2015-07-05\", \"2015-07-12\", \"2015-07-19\", \"2015-07-26\", \"2015-08-02\", \"2015-08-09\", \"2015-08-16\", \"2015-08-23\", \"2015-08-30\", \"2015-09-06\", \"2015-09-13\", \"2015-09-20\", \"2015-09-27\", \"2015-10-04\", \"2015-10-11\", \"2015-10-18\", \"2015-10-25\", \"2015-11-01\", \"2015-11-08\", \"2015-11-15\", \"2015-11-22\", \"2015-11-29\", \"2015-12-06\", \"2015-12-13\", \"2015-12-20\", \"2015-12-27\", \"2016-01-03\", \"2016-01-10\", \"2016-01-17\", \"2016-01-24\", \"2016-01-31\", \"2016-02-07\", \"2016-02-14\", \"2016-02-21\", \"2016-02-28\", \"2016-03-06\", \"2016-03-13\", \"2016-03-20\", \"2016-03-27\", \"2016-04-03\", \"2016-04-10\", \"2016-04-17\", \"2016-04-24\", \"2016-05-01\", \"2016-05-08\", \"2016-05-15\", \"2016-05-22\", \"2016-05-29\", \"2016-06-05\", \"2016-06-12\", \"2016-06-19\", \"2016-06-26\", \"2016-07-03\", \"2016-07-10\", \"2016-07-17\", \"2016-07-24\", \"2016-07-31\", \"2016-08-07\", \"2016-08-14\", \"2016-08-21\", \"2016-08-28\", \"2016-09-04\", \"2016-09-11\", \"2016-09-18\", \"2016-09-25\", \"2016-10-02\", \"2016-10-09\", \"2016-10-16\", \"2016-10-23\", \"2016-10-30\", \"2016-11-06\", \"2016-11-13\", \"2016-11-20\", \"2016-11-27\", \"2016-12-04\", \"2016-12-11\", \"2016-12-18\", \"2016-12-25\", \"2017-01-01\", \"2017-01-08\", \"2017-01-15\", \"2017-01-22\", \"2017-01-29\", \"2017-02-05\", \"2017-02-12\", \"2017-02-19\", \"2017-02-26\", \"2017-03-05\", \"2017-03-12\", \"2017-03-19\", \"2017-03-26\", \"2017-04-02\", \"2017-04-09\", \"2017-04-16\", \"2017-04-23\", \"2017-04-30\", \"2017-05-07\", \"2017-05-14\", \"2017-05-21\", \"2017-05-28\", \"2017-06-04\", \"2017-06-11\", \"2017-06-18\", \"2017-06-25\", \"2017-07-02\", \"2017-07-09\", \"2017-07-16\", \"2017-07-23\", \"2017-07-30\", \"2017-08-06\", \"2017-08-13\", \"2017-08-20\", \"2017-08-27\", \"2017-09-03\", \"2017-09-10\", \"2017-09-17\", \"2017-09-24\", \"2017-10-01\", \"2017-10-08\", \"2017-10-15\", \"2017-10-22\", \"2017-10-29\", \"2017-11-05\", \"2017-11-12\", \"2017-11-19\", \"2017-11-26\", \"2017-12-03\", \"2017-12-10\", \"2017-12-17\", \"2017-12-24\", \"2017-12-31\", \"2018-01-07\", \"2018-01-14\", \"2018-01-21\", \"2018-01-28\", \"2018-02-04\", \"2018-02-11\", \"2018-02-18\", \"2018-02-25\", \"2018-03-04\", \"2018-03-11\", \"2018-03-18\", \"2018-03-25\", \"2018-04-01\", \"2018-04-08\", \"2018-04-15\", \"2018-04-22\", \"2018-04-29\", \"2018-05-06\", \"2018-05-13\", \"2018-05-20\", \"2018-05-27\", \"2018-06-03\", \"2018-06-10\", \"2018-06-17\", \"2018-06-24\", \"2018-07-01\", \"2018-07-08\", \"2018-07-15\", \"2018-07-22\", \"2018-07-29\", \"2018-08-05\", \"2018-08-12\", \"2018-08-19\", \"2018-08-26\", \"2018-09-02\", \"2018-09-09\", \"2018-09-16\", \"2018-09-23\", \"2018-09-30\", \"2018-10-07\", \"2018-10-14\", \"2018-10-21\", \"2018-10-28\", \"2018-11-04\", \"2018-11-11\", \"2018-11-18\", \"2018-11-25\", \"2018-12-02\", \"2018-12-09\", \"2018-12-16\", \"2018-12-23\", \"2018-12-30\", \"2019-01-06\", \"2019-01-13\", \"2019-01-20\", \"2019-01-27\", \"2019-02-03\", \"2019-02-10\", \"2019-02-17\", \"2019-02-24\", \"2019-03-03\", \"2019-03-10\", \"2019-03-17\", \"2019-03-24\", \"2019-03-31\", \"2019-04-07\", \"2019-04-14\", \"2019-04-21\", \"2019-04-28\", \"2019-05-05\", \"2019-05-12\", \"2019-05-19\", \"2019-05-26\", \"2019-06-02\", \"2019-06-09\", \"2019-06-16\", \"2019-06-23\", \"2019-06-30\", \"2019-07-07\", \"2019-07-14\", \"2019-07-21\", \"2019-07-28\", \"2019-08-04\", \"2019-08-11\", \"2019-08-18\", \"2019-08-25\", \"2019-09-01\", \"2019-09-08\", \"2019-09-15\", \"2019-09-22\", \"2019-09-29\", \"2019-10-06\", \"2019-10-13\", \"2019-10-20\", \"2019-10-27\", \"2019-11-03\", \"2019-11-10\", \"2019-11-17\", \"2019-11-24\", \"2019-12-01\", \"2019-12-08\", \"2019-12-15\", \"2019-12-22\", \"2019-12-29\", \"2020-01-05\", \"2020-01-12\", \"2020-01-19\", \"2020-01-26\", \"2020-02-02\", \"2020-02-09\", \"2020-02-16\", \"2020-02-23\", \"2020-03-01\", \"2020-03-08\", \"2020-03-15\", \"2020-03-22\", \"2020-03-29\", \"2020-04-05\", \"2020-04-12\", \"2020-04-19\", \"2020-04-26\", \"2020-05-03\", \"2020-05-10\", \"2020-05-17\", \"2020-05-24\", \"2020-05-31\", \"2020-06-07\", \"2020-06-14\", \"2020-06-21\", \"2020-06-28\", \"2020-07-05\", \"2020-07-12\", \"2020-07-19\", \"2012-01-08\", \"2012-01-15\", \"2012-01-22\", \"2012-01-29\", \"2012-02-05\", \"2012-02-12\", \"2012-02-19\", \"2012-02-26\", \"2012-03-04\", \"2012-03-11\", \"2012-03-18\", \"2012-03-25\", \"2012-04-01\", \"2012-04-08\", \"2012-04-15\", \"2012-04-22\", \"2012-04-29\", \"2012-05-06\", \"2012-05-13\", \"2012-05-20\", \"2012-05-27\", \"2012-06-03\", \"2012-06-10\", \"2012-06-17\", \"2012-06-24\", \"2012-07-01\", \"2012-07-08\", \"2012-07-15\", \"2012-07-22\", \"2012-07-29\", \"2012-08-05\", \"2012-08-12\", \"2012-08-19\", \"2012-08-26\", \"2012-09-02\", \"2012-09-09\", \"2012-09-16\", \"2012-09-23\", \"2012-09-30\", \"2012-10-07\", \"2012-10-14\", \"2012-10-21\", \"2012-10-28\", \"2012-11-04\", \"2012-11-11\", \"2012-11-18\", \"2012-11-25\", \"2012-12-02\", \"2012-12-09\", \"2012-12-16\", \"2012-12-23\", \"2012-12-30\", \"2013-01-06\", \"2013-01-13\", \"2013-01-20\", \"2013-01-27\", \"2013-02-03\", \"2013-02-10\", \"2013-02-17\", \"2013-02-24\", \"2013-03-03\", \"2013-03-10\", \"2013-03-17\", \"2013-03-24\", \"2013-03-31\", \"2013-04-07\", \"2013-04-14\", \"2013-04-21\", \"2013-04-28\", \"2013-05-05\", \"2013-05-12\", \"2013-05-19\", \"2013-05-26\", \"2013-06-02\", \"2013-06-09\", \"2013-06-16\", \"2013-06-23\", \"2013-06-30\", \"2013-07-07\", \"2013-07-14\", \"2013-07-21\", \"2013-07-28\", \"2013-08-04\", \"2013-08-11\", \"2013-08-18\", \"2013-08-25\", \"2013-09-01\", \"2013-09-08\", \"2013-09-15\", \"2013-09-22\", \"2013-09-29\", \"2013-10-06\", \"2013-10-13\", \"2013-10-20\", \"2013-10-27\", \"2013-11-03\", \"2013-11-10\", \"2013-11-17\", \"2013-11-24\", \"2013-12-01\", \"2013-12-08\", \"2013-12-15\", \"2013-12-22\", \"2013-12-29\", \"2014-01-05\", \"2014-01-12\", \"2014-01-19\", \"2014-01-26\", \"2014-02-02\", \"2014-02-09\", \"2014-02-16\", \"2014-02-23\", \"2014-03-02\", \"2014-03-09\", \"2014-03-16\", \"2014-03-23\", \"2014-03-30\", \"2014-04-06\", \"2014-04-13\", \"2014-04-20\", \"2014-04-27\", \"2014-05-04\", \"2014-05-11\", \"2014-05-18\", \"2014-05-25\", \"2014-06-01\", \"2014-06-08\", \"2014-06-15\", \"2014-06-22\", \"2014-06-29\", \"2014-07-06\", \"2014-07-13\", \"2014-07-20\", \"2014-07-27\", \"2014-08-03\", \"2014-08-10\", \"2014-08-17\", \"2014-08-24\", \"2014-08-31\", \"2014-09-07\", \"2014-09-14\", \"2014-09-21\", \"2014-09-28\", \"2014-10-05\", \"2014-10-12\", \"2014-10-19\", \"2014-10-26\", \"2014-11-02\", \"2014-11-09\", \"2014-11-16\", \"2014-11-23\", \"2014-11-30\", \"2014-12-07\", \"2014-12-14\", \"2014-12-21\", \"2014-12-28\", \"2015-01-04\", \"2015-01-11\", \"2015-01-18\", \"2015-01-25\", \"2015-02-01\", \"2015-02-08\", \"2015-02-15\", \"2015-02-22\", \"2015-03-01\", \"2015-03-08\", \"2015-03-15\", \"2015-03-22\", \"2015-03-29\", \"2015-04-05\", \"2015-04-12\", \"2015-04-19\", \"2015-04-26\", \"2015-05-03\", \"2015-05-10\", \"2015-05-17\", \"2015-05-24\", \"2015-05-31\", \"2015-06-07\", \"2015-06-14\", \"2015-06-21\", \"2015-06-28\", \"2015-07-05\", \"2015-07-12\", \"2015-07-19\", \"2015-07-26\", \"2015-08-02\", \"2015-08-09\", \"2015-08-16\", \"2015-08-23\", \"2015-08-30\", \"2015-09-06\", \"2015-09-13\", \"2015-09-20\", \"2015-09-27\", \"2015-10-04\", \"2015-10-11\", \"2015-10-18\", \"2015-10-25\", \"2015-11-01\", \"2015-11-08\", \"2015-11-15\", \"2015-11-22\", \"2015-11-29\", \"2015-12-06\", \"2015-12-13\", \"2015-12-20\", \"2015-12-27\", \"2016-01-03\", \"2016-01-10\", \"2016-01-17\", \"2016-01-24\", \"2016-01-31\", \"2016-02-07\", \"2016-02-14\", \"2016-02-21\", \"2016-02-28\", \"2016-03-06\", \"2016-03-13\", \"2016-03-20\", \"2016-03-27\", \"2016-04-03\", \"2016-04-10\", \"2016-04-17\", \"2016-04-24\", \"2016-05-01\", \"2016-05-08\", \"2016-05-15\", \"2016-05-22\", \"2016-05-29\", \"2016-06-05\", \"2016-06-12\", \"2016-06-19\", \"2016-06-26\", \"2016-07-03\", \"2016-07-10\", \"2016-07-17\", \"2016-07-24\", \"2016-07-31\", \"2016-08-07\", \"2016-08-14\", \"2016-08-21\", \"2016-08-28\", \"2016-09-04\", \"2016-09-11\", \"2016-09-18\", \"2016-09-25\", \"2016-10-02\", \"2016-10-09\", \"2016-10-16\", \"2016-10-23\", \"2016-10-30\", \"2016-11-06\", \"2016-11-13\", \"2016-11-20\", \"2016-11-27\", \"2016-12-04\", \"2016-12-11\", \"2016-12-18\", \"2016-12-25\", \"2017-01-01\", \"2017-01-08\", \"2017-01-15\", \"2017-01-22\", \"2017-01-29\", \"2017-02-05\", \"2017-02-12\", \"2017-02-19\", \"2017-02-26\", \"2017-03-05\", \"2017-03-12\", \"2017-03-19\", \"2017-03-26\", \"2017-04-02\", \"2017-04-09\", \"2017-04-16\", \"2017-04-23\", \"2017-04-30\", \"2017-05-07\", \"2017-05-14\", \"2017-05-21\", \"2017-05-28\", \"2017-06-04\", \"2017-06-11\", \"2017-06-18\", \"2017-06-25\", \"2017-07-02\", \"2017-07-09\", \"2017-07-16\", \"2017-07-23\", \"2017-07-30\", \"2017-08-06\", \"2017-08-13\", \"2017-08-20\", \"2017-08-27\", \"2017-09-03\", \"2017-09-10\", \"2017-09-17\", \"2017-09-24\", \"2017-10-01\", \"2017-10-08\", \"2017-10-15\", \"2017-10-22\", \"2017-10-29\", \"2017-11-05\", \"2017-11-12\", \"2017-11-19\", \"2017-11-26\", \"2017-12-03\", \"2017-12-10\", \"2017-12-17\", \"2017-12-24\", \"2017-12-31\", \"2018-01-07\", \"2018-01-14\", \"2018-01-21\", \"2018-01-28\", \"2018-02-04\", \"2018-02-11\", \"2018-02-18\", \"2018-02-25\", \"2018-03-04\", \"2018-03-11\", \"2018-03-18\", \"2018-03-25\", \"2018-04-01\", \"2018-04-08\", \"2018-04-15\", \"2018-04-22\", \"2018-04-29\", \"2018-05-06\", \"2018-05-13\", \"2018-05-20\", \"2018-05-27\", \"2018-06-03\", \"2018-06-10\", \"2018-06-17\", \"2018-06-24\", \"2018-07-01\", \"2018-07-08\", \"2018-07-15\", \"2018-07-22\", \"2018-07-29\", \"2018-08-05\", \"2018-08-12\", \"2018-08-19\", \"2018-08-26\", \"2018-09-02\", \"2018-09-09\", \"2018-09-16\", \"2018-09-23\", \"2018-09-30\", \"2018-10-07\", \"2018-10-14\", \"2018-10-21\", \"2018-10-28\", \"2018-11-04\", \"2018-11-11\", \"2018-11-18\", \"2018-11-25\", \"2018-12-02\", \"2018-12-09\", \"2018-12-16\", \"2018-12-23\", \"2018-12-30\", \"2019-01-06\", \"2019-01-13\", \"2019-01-20\", \"2019-01-27\", \"2019-02-03\", \"2019-02-10\", \"2019-02-17\", \"2019-02-24\", \"2019-03-03\", \"2019-03-10\", \"2019-03-17\", \"2019-03-24\", \"2019-03-31\", \"2019-04-07\", \"2019-04-14\", \"2019-04-21\", \"2019-04-28\", \"2019-05-05\", \"2019-05-12\", \"2019-05-19\", \"2019-05-26\", \"2019-06-02\", \"2019-06-09\", \"2019-06-16\", \"2019-06-23\", \"2019-06-30\", \"2019-07-07\", \"2019-07-14\", \"2019-07-21\", \"2019-07-28\", \"2019-08-04\", \"2019-08-11\", \"2019-08-18\", \"2019-08-25\", \"2019-09-01\", \"2019-09-08\", \"2019-09-15\", \"2019-09-22\", \"2019-09-29\", \"2019-10-06\", \"2019-10-13\", \"2019-10-20\", \"2019-10-27\", \"2019-11-03\", \"2019-11-10\", \"2019-11-17\", \"2019-11-24\", \"2019-12-01\", \"2019-12-08\", \"2019-12-15\", \"2019-12-22\", \"2019-12-29\", \"2020-01-05\", \"2020-01-12\", \"2020-01-19\", \"2020-01-26\", \"2020-02-02\", \"2020-02-09\", \"2020-02-16\", \"2020-02-23\", \"2020-03-01\", \"2020-03-08\", \"2020-03-15\", \"2020-03-22\", \"2020-03-29\", \"2020-04-05\", \"2020-04-12\", \"2020-04-19\", \"2020-04-26\", \"2020-05-03\", \"2020-05-10\", \"2020-05-17\", \"2020-05-24\", \"2020-05-31\", \"2020-06-07\", \"2020-06-14\", \"2020-06-21\", \"2020-06-28\", \"2020-07-05\", \"2020-07-12\", \"2020-07-19\"], \"y\": [90.74, 75.97, 91.41, 82.3, 91.84, 93.11, 90.48, 98.94, 111.38, 128.31, 74.42, 134.02, 89.73, 95.45, 88.59, 125.68, 96.8, 93.54, 109.47, 93.62, 101.22, 89.84, 118.46, 92.6, 117.87, 99.57, 119.38, 79.66, 110.47, 86.74, 95.57, 74.34, 77.8, 106.2, 82.94, 114.33, 73.31, 104.82, 119.02, 90.6, 93.6, 121.05, 113.65, 86.01, 117.65, 87.5, 123.12, 99.31, 130.55, 126.77, 118.04, 99.4, 88.87, 80.85, 95.68, 79.9, 74.04, 97.15, 85.18, 109.15, 104.22, 128.33, 80.2, 114.77, 111.07, 99.23, 77.76, 129.54, 104.02, 92.75, 119.63, 79.62, 101.42, 89.97, 123.25, 95.75, 121.03, 106.53, 111.79, 90.99, 91.65, 92.45, 78.39, 85.97, 69.08, 100.26, 83.78, 102.79, 71.87, 106.32, 105.24, 102.55, 74.17, 111.6, 105.09, 77.64, 114.16, 89.97, 103.87, 95.81, 138.03, 119.85, 110.62, 102.71, 103.26, 76.13, 76.9, 112.66, 79.48, 85.5, 79.88, 132.11, 110.8, 190.85, 106.69, 240.55, 185.94, 74.93, 50.19, 90.84, 77.51, 69.89, 101.92, 63.34, 92.59, 77.39, 103.76, 94.3, 93.08, 101.42, 93.65, 97.03, 83.94, 87.85, 72.26, 89.33, 62.24, 96.45, 85.82, 91.29, 81.24, 90.14, 93.2, 90.88, 93.4, 98.23, 138.96, 81.94, 113.52, 92.89, 104.4, 104.51, 121.11, 114.68, 112.83, 101.89, 99.83, 76.27, 67.02, 98.07, 73.86, 84.99, 77.33, 98.31, 84.96, 122.0, 80.8, 113.17, 110.81, 84.71, 77.51, 98.79, 134.8, 97.49, 120.64, 76.69, 99.49, 102.45, 116.17, 106.62, 114.06, 106.32, 105.01, 116.34, 76.04, 105.36, 87.11, 98.62, 67.2, 100.78, 94.25, 97.98, 99.22, 98.64, 97.24, 87.84, 110.09, 85.44, 181.28, 95.96, 102.85, 105.32, 91.06, 103.28, 121.07, 127.09, 119.29, 96.29, 111.14, 84.95, 75.95, 78.25, 85.24, 85.72, 76.65, 92.31, 111.82, 115.64, 96.35, 93.53, 98.76, 94.95, 83.14, 93.97, 126.96, 99.67, 106.42, 81.7, 89.81, 96.41, 114.99, 100.82, 98.42, 115.03, 89.44, 110.0, 79.1, 95.19, 86.8, 91.66, 77.98, 87.98, 84.47, 75.2, 116.49, 71.99, 118.25, 85.46, 101.49, 100.25, 160.31, 116.21, 110.16, 117.0, 91.84, 108.78, 102.67, 144.73, 106.57, 135.9, 92.71, 91.49, 75.74, 89.73, 95.26, 89.94, 85.07, 86.18, 121.62, 113.65, 130.89, 94.18, 116.35, 105.93, 82.51, 108.53, 130.75, 101.06, 96.22, 97.56, 98.82, 100.04, 98.31, 142.27, 101.96, 133.79, 100.27, 119.31, 85.81, 100.17, 90.7, 91.83, 80.41, 105.07, 92.55, 84.83, 103.82, 80.31, 110.55, 95.85, 106.58, 101.53, 160.27, 125.98, 109.14, 110.34, 94.85, 128.47, 94.77, 152.95, 121.08, 139.82, 105.74, 96.49, 72.21, 102.81, 84.04, 83.0, 91.12, 92.52, 129.16, 91.29, 125.8, 99.55, 133.75, 101.9, 93.1, 115.51, 142.15, 104.5, 97.79, 106.35, 108.77, 101.33, 111.34, 131.6, 97.85, 111.41, 103.54, 112.46, 97.95, 100.67, 95.04, 89.88, 83.8, 108.51, 94.96, 95.56, 85.94, 100.09, 104.24, 90.31, 93.03, 89.18, 160.81, 122.68, 100.46, 102.71, 96.0, 122.21, 91.96, 125.51, 128.34, 127.34, 98.03, 86.43, 73.78, 99.01, 80.73, 80.02, 78.36, 103.04, 96.48, 96.15, 110.27, 110.29, 101.0, 106.37, 86.8, 69.13, 144.01, 108.24, 80.64, 88.59, 89.93, 103.35, 98.5, 100.35, 94.26, 99.18, 98.18, 100.78, 94.61, 87.56, 85.91, 77.77, 76.32, 86.21, 106.41, 86.88, 114.26, 125.66, 147.21, 204.57, 70.49, 46.06, 96.49, 104.94, 67.81, 83.51, 84.65, 83.0, 100.68, 93.78, 115.73, 110.68, 93.0, 80.19, 65.9, 82.61, 81.14, 69.65, 86.93, 84.41, 83.6, 81.63, 83.58, 92.35, 90.68, 79.21, 68.39, 61.79, 61.84, 49.05, 46.42, 49.18, 58.11, 63.88, 77.08, 79.43, 79.24, 101.04, 91.85, 84.63, 78.6, 92.02]}, {\"mode\": \"lines\", \"name\": \"\\u30b3\\u30f3\\u30d3\\u30cb\\u30a8\\u30f3\\u30b9\\u30b9\\u30c8\\u30a2\", \"type\": \"scatter\", \"x\": [\"2012-01-08\", \"2012-01-15\", \"2012-01-22\", \"2012-01-29\", \"2012-02-05\", \"2012-02-12\", \"2012-02-19\", \"2012-02-26\", \"2012-03-04\", \"2012-03-11\", \"2012-03-18\", \"2012-03-25\", \"2012-04-01\", \"2012-04-08\", \"2012-04-15\", \"2012-04-22\", \"2012-04-29\", \"2012-05-06\", \"2012-05-13\", \"2012-05-20\", \"2012-05-27\", \"2012-06-03\", \"2012-06-10\", \"2012-06-17\", \"2012-06-24\", \"2012-07-01\", \"2012-07-08\", \"2012-07-15\", \"2012-07-22\", \"2012-07-29\", \"2012-08-05\", \"2012-08-12\", \"2012-08-19\", \"2012-08-26\", \"2012-09-02\", \"2012-09-09\", \"2012-09-16\", \"2012-09-23\", \"2012-09-30\", \"2012-10-07\", \"2012-10-14\", \"2012-10-21\", \"2012-10-28\", \"2012-11-04\", \"2012-11-11\", \"2012-11-18\", \"2012-11-25\", \"2012-12-02\", \"2012-12-09\", \"2012-12-16\", \"2012-12-23\", \"2012-12-30\", \"2013-01-06\", \"2013-01-13\", \"2013-01-20\", \"2013-01-27\", \"2013-02-03\", \"2013-02-10\", \"2013-02-17\", \"2013-02-24\", \"2013-03-03\", \"2013-03-10\", \"2013-03-17\", \"2013-03-24\", \"2013-03-31\", \"2013-04-07\", \"2013-04-14\", \"2013-04-21\", \"2013-04-28\", \"2013-05-05\", \"2013-05-12\", \"2013-05-19\", \"2013-05-26\", \"2013-06-02\", \"2013-06-09\", \"2013-06-16\", \"2013-06-23\", \"2013-06-30\", \"2013-07-07\", \"2013-07-14\", \"2013-07-21\", \"2013-07-28\", \"2013-08-04\", \"2013-08-11\", \"2013-08-18\", \"2013-08-25\", \"2013-09-01\", \"2013-09-08\", \"2013-09-15\", \"2013-09-22\", \"2013-09-29\", \"2013-10-06\", \"2013-10-13\", \"2013-10-20\", \"2013-10-27\", \"2013-11-03\", \"2013-11-10\", \"2013-11-17\", \"2013-11-24\", \"2013-12-01\", \"2013-12-08\", \"2013-12-15\", \"2013-12-22\", \"2013-12-29\", \"2014-01-05\", \"2014-01-12\", \"2014-01-19\", \"2014-01-26\", \"2014-02-02\", \"2014-02-09\", \"2014-02-16\", \"2014-02-23\", \"2014-03-02\", \"2014-03-09\", \"2014-03-16\", \"2014-03-23\", \"2014-03-30\", \"2014-04-06\", \"2014-04-13\", \"2014-04-20\", \"2014-04-27\", \"2014-05-04\", \"2014-05-11\", \"2014-05-18\", \"2014-05-25\", \"2014-06-01\", \"2014-06-08\", \"2014-06-15\", \"2014-06-22\", \"2014-06-29\", \"2014-07-06\", \"2014-07-13\", \"2014-07-20\", \"2014-07-27\", \"2014-08-03\", \"2014-08-10\", \"2014-08-17\", \"2014-08-24\", \"2014-08-31\", \"2014-09-07\", \"2014-09-14\", \"2014-09-21\", \"2014-09-28\", \"2014-10-05\", \"2014-10-12\", \"2014-10-19\", \"2014-10-26\", \"2014-11-02\", \"2014-11-09\", \"2014-11-16\", \"2014-11-23\", \"2014-11-30\", \"2014-12-07\", \"2014-12-14\", \"2014-12-21\", \"2014-12-28\", \"2015-01-04\", \"2015-01-11\", \"2015-01-18\", \"2015-01-25\", \"2015-02-01\", \"2015-02-08\", \"2015-02-15\", \"2015-02-22\", \"2015-03-01\", \"2015-03-08\", \"2015-03-15\", \"2015-03-22\", \"2015-03-29\", \"2015-04-05\", \"2015-04-12\", \"2015-04-19\", \"2015-04-26\", \"2015-05-03\", \"2015-05-10\", \"2015-05-17\", \"2015-05-24\", \"2015-05-31\", \"2015-06-07\", \"2015-06-14\", \"2015-06-21\", \"2015-06-28\", \"2015-07-05\", \"2015-07-12\", \"2015-07-19\", \"2015-07-26\", \"2015-08-02\", \"2015-08-09\", \"2015-08-16\", \"2015-08-23\", \"2015-08-30\", \"2015-09-06\", \"2015-09-13\", \"2015-09-20\", \"2015-09-27\", \"2015-10-04\", \"2015-10-11\", \"2015-10-18\", \"2015-10-25\", \"2015-11-01\", \"2015-11-08\", \"2015-11-15\", \"2015-11-22\", \"2015-11-29\", \"2015-12-06\", \"2015-12-13\", \"2015-12-20\", \"2015-12-27\", \"2016-01-03\", \"2016-01-10\", \"2016-01-17\", \"2016-01-24\", \"2016-01-31\", \"2016-02-07\", \"2016-02-14\", \"2016-02-21\", \"2016-02-28\", \"2016-03-06\", \"2016-03-13\", \"2016-03-20\", \"2016-03-27\", \"2016-04-03\", \"2016-04-10\", \"2016-04-17\", \"2016-04-24\", \"2016-05-01\", \"2016-05-08\", \"2016-05-15\", \"2016-05-22\", \"2016-05-29\", \"2016-06-05\", \"2016-06-12\", \"2016-06-19\", \"2016-06-26\", \"2016-07-03\", \"2016-07-10\", \"2016-07-17\", \"2016-07-24\", \"2016-07-31\", \"2016-08-07\", \"2016-08-14\", \"2016-08-21\", \"2016-08-28\", \"2016-09-04\", \"2016-09-11\", \"2016-09-18\", \"2016-09-25\", \"2016-10-02\", \"2016-10-09\", \"2016-10-16\", \"2016-10-23\", \"2016-10-30\", \"2016-11-06\", \"2016-11-13\", \"2016-11-20\", \"2016-11-27\", \"2016-12-04\", \"2016-12-11\", \"2016-12-18\", \"2016-12-25\", \"2017-01-01\", \"2017-01-08\", \"2017-01-15\", \"2017-01-22\", \"2017-01-29\", \"2017-02-05\", \"2017-02-12\", \"2017-02-19\", \"2017-02-26\", \"2017-03-05\", \"2017-03-12\", \"2017-03-19\", \"2017-03-26\", \"2017-04-02\", \"2017-04-09\", \"2017-04-16\", \"2017-04-23\", \"2017-04-30\", \"2017-05-07\", \"2017-05-14\", \"2017-05-21\", \"2017-05-28\", \"2017-06-04\", \"2017-06-11\", \"2017-06-18\", \"2017-06-25\", \"2017-07-02\", \"2017-07-09\", \"2017-07-16\", \"2017-07-23\", \"2017-07-30\", \"2017-08-06\", \"2017-08-13\", \"2017-08-20\", \"2017-08-27\", \"2017-09-03\", \"2017-09-10\", \"2017-09-17\", \"2017-09-24\", \"2017-10-01\", \"2017-10-08\", \"2017-10-15\", \"2017-10-22\", \"2017-10-29\", \"2017-11-05\", \"2017-11-12\", \"2017-11-19\", \"2017-11-26\", \"2017-12-03\", \"2017-12-10\", \"2017-12-17\", \"2017-12-24\", \"2017-12-31\", \"2018-01-07\", \"2018-01-14\", \"2018-01-21\", \"2018-01-28\", \"2018-02-04\", \"2018-02-11\", \"2018-02-18\", \"2018-02-25\", \"2018-03-04\", \"2018-03-11\", \"2018-03-18\", \"2018-03-25\", \"2018-04-01\", \"2018-04-08\", \"2018-04-15\", \"2018-04-22\", \"2018-04-29\", \"2018-05-06\", \"2018-05-13\", \"2018-05-20\", \"2018-05-27\", \"2018-06-03\", \"2018-06-10\", \"2018-06-17\", \"2018-06-24\", \"2018-07-01\", \"2018-07-08\", \"2018-07-15\", \"2018-07-22\", \"2018-07-29\", \"2018-08-05\", \"2018-08-12\", \"2018-08-19\", \"2018-08-26\", \"2018-09-02\", \"2018-09-09\", \"2018-09-16\", \"2018-09-23\", \"2018-09-30\", \"2018-10-07\", \"2018-10-14\", \"2018-10-21\", \"2018-10-28\", \"2018-11-04\", \"2018-11-11\", \"2018-11-18\", \"2018-11-25\", \"2018-12-02\", \"2018-12-09\", \"2018-12-16\", \"2018-12-23\", \"2018-12-30\", \"2019-01-06\", \"2019-01-13\", \"2019-01-20\", \"2019-01-27\", \"2019-02-03\", \"2019-02-10\", \"2019-02-17\", \"2019-02-24\", \"2019-03-03\", \"2019-03-10\", \"2019-03-17\", \"2019-03-24\", \"2019-03-31\", \"2019-04-07\", \"2019-04-14\", \"2019-04-21\", \"2019-04-28\", \"2019-05-05\", \"2019-05-12\", \"2019-05-19\", \"2019-05-26\", \"2019-06-02\", \"2019-06-09\", \"2019-06-16\", \"2019-06-23\", \"2019-06-30\", \"2019-07-07\", \"2019-07-14\", \"2019-07-21\", \"2019-07-28\", \"2019-08-04\", \"2019-08-11\", \"2019-08-18\", \"2019-08-25\", \"2019-09-01\", \"2019-09-08\", \"2019-09-15\", \"2019-09-22\", \"2019-09-29\", \"2019-10-06\", \"2019-10-13\", \"2019-10-20\", \"2019-10-27\", \"2019-11-03\", \"2019-11-10\", \"2019-11-17\", \"2019-11-24\", \"2019-12-01\", \"2019-12-08\", \"2019-12-15\", \"2019-12-22\", \"2019-12-29\", \"2020-01-05\", \"2020-01-12\", \"2020-01-19\", \"2020-01-26\", \"2020-02-02\", \"2020-02-09\", \"2020-02-16\", \"2020-02-23\", \"2020-03-01\", \"2020-03-08\", \"2020-03-15\", \"2020-03-22\", \"2020-03-29\", \"2020-04-05\", \"2020-04-12\", \"2020-04-19\", \"2020-04-26\", \"2020-05-03\", \"2020-05-10\", \"2020-05-17\", \"2020-05-24\", \"2020-05-31\", \"2020-06-07\", \"2020-06-14\", \"2020-06-21\", \"2020-06-28\", \"2020-07-05\", \"2020-07-12\", \"2020-07-19\", \"2012-01-08\", \"2012-01-15\", \"2012-01-22\", \"2012-01-29\", \"2012-02-05\", \"2012-02-12\", \"2012-02-19\", \"2012-02-26\", \"2012-03-04\", \"2012-03-11\", \"2012-03-18\", \"2012-03-25\", \"2012-04-01\", \"2012-04-08\", \"2012-04-15\", \"2012-04-22\", \"2012-04-29\", \"2012-05-06\", \"2012-05-13\", \"2012-05-20\", \"2012-05-27\", \"2012-06-03\", \"2012-06-10\", \"2012-06-17\", \"2012-06-24\", \"2012-07-01\", \"2012-07-08\", \"2012-07-15\", \"2012-07-22\", \"2012-07-29\", \"2012-08-05\", \"2012-08-12\", \"2012-08-19\", \"2012-08-26\", \"2012-09-02\", \"2012-09-09\", \"2012-09-16\", \"2012-09-23\", \"2012-09-30\", \"2012-10-07\", \"2012-10-14\", \"2012-10-21\", \"2012-10-28\", \"2012-11-04\", \"2012-11-11\", \"2012-11-18\", \"2012-11-25\", \"2012-12-02\", \"2012-12-09\", \"2012-12-16\", \"2012-12-23\", \"2012-12-30\", \"2013-01-06\", \"2013-01-13\", \"2013-01-20\", \"2013-01-27\", \"2013-02-03\", \"2013-02-10\", \"2013-02-17\", \"2013-02-24\", \"2013-03-03\", \"2013-03-10\", \"2013-03-17\", \"2013-03-24\", \"2013-03-31\", \"2013-04-07\", \"2013-04-14\", \"2013-04-21\", \"2013-04-28\", \"2013-05-05\", \"2013-05-12\", \"2013-05-19\", \"2013-05-26\", \"2013-06-02\", \"2013-06-09\", \"2013-06-16\", \"2013-06-23\", \"2013-06-30\", \"2013-07-07\", \"2013-07-14\", \"2013-07-21\", \"2013-07-28\", \"2013-08-04\", \"2013-08-11\", \"2013-08-18\", \"2013-08-25\", \"2013-09-01\", \"2013-09-08\", \"2013-09-15\", \"2013-09-22\", \"2013-09-29\", \"2013-10-06\", \"2013-10-13\", \"2013-10-20\", \"2013-10-27\", \"2013-11-03\", \"2013-11-10\", \"2013-11-17\", \"2013-11-24\", \"2013-12-01\", \"2013-12-08\", \"2013-12-15\", \"2013-12-22\", \"2013-12-29\", \"2014-01-05\", \"2014-01-12\", \"2014-01-19\", \"2014-01-26\", \"2014-02-02\", \"2014-02-09\", \"2014-02-16\", \"2014-02-23\", \"2014-03-02\", \"2014-03-09\", \"2014-03-16\", \"2014-03-23\", \"2014-03-30\", \"2014-04-06\", \"2014-04-13\", \"2014-04-20\", \"2014-04-27\", \"2014-05-04\", \"2014-05-11\", \"2014-05-18\", \"2014-05-25\", \"2014-06-01\", \"2014-06-08\", \"2014-06-15\", \"2014-06-22\", \"2014-06-29\", \"2014-07-06\", \"2014-07-13\", \"2014-07-20\", \"2014-07-27\", \"2014-08-03\", \"2014-08-10\", \"2014-08-17\", \"2014-08-24\", \"2014-08-31\", \"2014-09-07\", \"2014-09-14\", \"2014-09-21\", \"2014-09-28\", \"2014-10-05\", \"2014-10-12\", \"2014-10-19\", \"2014-10-26\", \"2014-11-02\", \"2014-11-09\", \"2014-11-16\", \"2014-11-23\", \"2014-11-30\", \"2014-12-07\", \"2014-12-14\", \"2014-12-21\", \"2014-12-28\", \"2015-01-04\", \"2015-01-11\", \"2015-01-18\", \"2015-01-25\", \"2015-02-01\", \"2015-02-08\", \"2015-02-15\", \"2015-02-22\", \"2015-03-01\", \"2015-03-08\", \"2015-03-15\", \"2015-03-22\", \"2015-03-29\", \"2015-04-05\", \"2015-04-12\", \"2015-04-19\", \"2015-04-26\", \"2015-05-03\", \"2015-05-10\", \"2015-05-17\", \"2015-05-24\", \"2015-05-31\", \"2015-06-07\", \"2015-06-14\", \"2015-06-21\", \"2015-06-28\", \"2015-07-05\", \"2015-07-12\", \"2015-07-19\", \"2015-07-26\", \"2015-08-02\", \"2015-08-09\", \"2015-08-16\", \"2015-08-23\", \"2015-08-30\", \"2015-09-06\", \"2015-09-13\", \"2015-09-20\", \"2015-09-27\", \"2015-10-04\", \"2015-10-11\", \"2015-10-18\", \"2015-10-25\", \"2015-11-01\", \"2015-11-08\", \"2015-11-15\", \"2015-11-22\", \"2015-11-29\", \"2015-12-06\", \"2015-12-13\", \"2015-12-20\", \"2015-12-27\", \"2016-01-03\", \"2016-01-10\", \"2016-01-17\", \"2016-01-24\", \"2016-01-31\", \"2016-02-07\", \"2016-02-14\", \"2016-02-21\", \"2016-02-28\", \"2016-03-06\", \"2016-03-13\", \"2016-03-20\", \"2016-03-27\", \"2016-04-03\", \"2016-04-10\", \"2016-04-17\", \"2016-04-24\", \"2016-05-01\", \"2016-05-08\", \"2016-05-15\", \"2016-05-22\", \"2016-05-29\", \"2016-06-05\", \"2016-06-12\", \"2016-06-19\", \"2016-06-26\", \"2016-07-03\", \"2016-07-10\", \"2016-07-17\", \"2016-07-24\", \"2016-07-31\", \"2016-08-07\", \"2016-08-14\", \"2016-08-21\", \"2016-08-28\", \"2016-09-04\", \"2016-09-11\", \"2016-09-18\", \"2016-09-25\", \"2016-10-02\", \"2016-10-09\", \"2016-10-16\", \"2016-10-23\", \"2016-10-30\", \"2016-11-06\", \"2016-11-13\", \"2016-11-20\", \"2016-11-27\", \"2016-12-04\", \"2016-12-11\", \"2016-12-18\", \"2016-12-25\", \"2017-01-01\", \"2017-01-08\", \"2017-01-15\", \"2017-01-22\", \"2017-01-29\", \"2017-02-05\", \"2017-02-12\", \"2017-02-19\", \"2017-02-26\", \"2017-03-05\", \"2017-03-12\", \"2017-03-19\", \"2017-03-26\", \"2017-04-02\", \"2017-04-09\", \"2017-04-16\", \"2017-04-23\", \"2017-04-30\", \"2017-05-07\", \"2017-05-14\", \"2017-05-21\", \"2017-05-28\", \"2017-06-04\", \"2017-06-11\", \"2017-06-18\", \"2017-06-25\", \"2017-07-02\", \"2017-07-09\", \"2017-07-16\", \"2017-07-23\", \"2017-07-30\", \"2017-08-06\", \"2017-08-13\", \"2017-08-20\", \"2017-08-27\", \"2017-09-03\", \"2017-09-10\", \"2017-09-17\", \"2017-09-24\", \"2017-10-01\", \"2017-10-08\", \"2017-10-15\", \"2017-10-22\", \"2017-10-29\", \"2017-11-05\", \"2017-11-12\", \"2017-11-19\", \"2017-11-26\", \"2017-12-03\", \"2017-12-10\", \"2017-12-17\", \"2017-12-24\", \"2017-12-31\", \"2018-01-07\", \"2018-01-14\", \"2018-01-21\", \"2018-01-28\", \"2018-02-04\", \"2018-02-11\", \"2018-02-18\", \"2018-02-25\", \"2018-03-04\", \"2018-03-11\", \"2018-03-18\", \"2018-03-25\", \"2018-04-01\", \"2018-04-08\", \"2018-04-15\", \"2018-04-22\", \"2018-04-29\", \"2018-05-06\", \"2018-05-13\", \"2018-05-20\", \"2018-05-27\", \"2018-06-03\", \"2018-06-10\", \"2018-06-17\", \"2018-06-24\", \"2018-07-01\", \"2018-07-08\", \"2018-07-15\", \"2018-07-22\", \"2018-07-29\", \"2018-08-05\", \"2018-08-12\", \"2018-08-19\", \"2018-08-26\", \"2018-09-02\", \"2018-09-09\", \"2018-09-16\", \"2018-09-23\", \"2018-09-30\", \"2018-10-07\", \"2018-10-14\", \"2018-10-21\", \"2018-10-28\", \"2018-11-04\", \"2018-11-11\", \"2018-11-18\", \"2018-11-25\", \"2018-12-02\", \"2018-12-09\", \"2018-12-16\", \"2018-12-23\", \"2018-12-30\", \"2019-01-06\", \"2019-01-13\", \"2019-01-20\", \"2019-01-27\", \"2019-02-03\", \"2019-02-10\", \"2019-02-17\", \"2019-02-24\", \"2019-03-03\", \"2019-03-10\", \"2019-03-17\", \"2019-03-24\", \"2019-03-31\", \"2019-04-07\", \"2019-04-14\", \"2019-04-21\", \"2019-04-28\", \"2019-05-05\", \"2019-05-12\", \"2019-05-19\", \"2019-05-26\", \"2019-06-02\", \"2019-06-09\", \"2019-06-16\", \"2019-06-23\", \"2019-06-30\", \"2019-07-07\", \"2019-07-14\", \"2019-07-21\", \"2019-07-28\", \"2019-08-04\", \"2019-08-11\", \"2019-08-18\", \"2019-08-25\", \"2019-09-01\", \"2019-09-08\", \"2019-09-15\", \"2019-09-22\", \"2019-09-29\", \"2019-10-06\", \"2019-10-13\", \"2019-10-20\", \"2019-10-27\", \"2019-11-03\", \"2019-11-10\", \"2019-11-17\", \"2019-11-24\", \"2019-12-01\", \"2019-12-08\", \"2019-12-15\", \"2019-12-22\", \"2019-12-29\", \"2020-01-05\", \"2020-01-12\", \"2020-01-19\", \"2020-01-26\", \"2020-02-02\", \"2020-02-09\", \"2020-02-16\", \"2020-02-23\", \"2020-03-01\", \"2020-03-08\", \"2020-03-15\", \"2020-03-22\", \"2020-03-29\", \"2020-04-05\", \"2020-04-12\", \"2020-04-19\", \"2020-04-26\", \"2020-05-03\", \"2020-05-10\", \"2020-05-17\", \"2020-05-24\", \"2020-05-31\", \"2020-06-07\", \"2020-06-14\", \"2020-06-21\", \"2020-06-28\", \"2020-07-05\", \"2020-07-12\", \"2020-07-19\", \"2012-01-08\", \"2012-01-15\", \"2012-01-22\", \"2012-01-29\", \"2012-02-05\", \"2012-02-12\", \"2012-02-19\", \"2012-02-26\", \"2012-03-04\", \"2012-03-11\", \"2012-03-18\", \"2012-03-25\", \"2012-04-01\", \"2012-04-08\", \"2012-04-15\", \"2012-04-22\", \"2012-04-29\", \"2012-05-06\", \"2012-05-13\", \"2012-05-20\", \"2012-05-27\", \"2012-06-03\", \"2012-06-10\", \"2012-06-17\", \"2012-06-24\", \"2012-07-01\", \"2012-07-08\", \"2012-07-15\", \"2012-07-22\", \"2012-07-29\", \"2012-08-05\", \"2012-08-12\", \"2012-08-19\", \"2012-08-26\", \"2012-09-02\", \"2012-09-09\", \"2012-09-16\", \"2012-09-23\", \"2012-09-30\", \"2012-10-07\", \"2012-10-14\", \"2012-10-21\", \"2012-10-28\", \"2012-11-04\", \"2012-11-11\", \"2012-11-18\", \"2012-11-25\", \"2012-12-02\", \"2012-12-09\", \"2012-12-16\", \"2012-12-23\", \"2012-12-30\", \"2013-01-06\", \"2013-01-13\", \"2013-01-20\", \"2013-01-27\", \"2013-02-03\", \"2013-02-10\", \"2013-02-17\", \"2013-02-24\", \"2013-03-03\", \"2013-03-10\", \"2013-03-17\", \"2013-03-24\", \"2013-03-31\", \"2013-04-07\", \"2013-04-14\", \"2013-04-21\", \"2013-04-28\", \"2013-05-05\", \"2013-05-12\", \"2013-05-19\", \"2013-05-26\", \"2013-06-02\", \"2013-06-09\", \"2013-06-16\", \"2013-06-23\", \"2013-06-30\", \"2013-07-07\", \"2013-07-14\", \"2013-07-21\", \"2013-07-28\", \"2013-08-04\", \"2013-08-11\", \"2013-08-18\", \"2013-08-25\", \"2013-09-01\", \"2013-09-08\", \"2013-09-15\", \"2013-09-22\", \"2013-09-29\", \"2013-10-06\", \"2013-10-13\", \"2013-10-20\", \"2013-10-27\", \"2013-11-03\", \"2013-11-10\", \"2013-11-17\", \"2013-11-24\", \"2013-12-01\", \"2013-12-08\", \"2013-12-15\", \"2013-12-22\", \"2013-12-29\", \"2014-01-05\", \"2014-01-12\", \"2014-01-19\", \"2014-01-26\", \"2014-02-02\", \"2014-02-09\", \"2014-02-16\", \"2014-02-23\", \"2014-03-02\", \"2014-03-09\", \"2014-03-16\", \"2014-03-23\", \"2014-03-30\", \"2014-04-06\", \"2014-04-13\", \"2014-04-20\", \"2014-04-27\", \"2014-05-04\", \"2014-05-11\", \"2014-05-18\", \"2014-05-25\", \"2014-06-01\", \"2014-06-08\", \"2014-06-15\", \"2014-06-22\", \"2014-06-29\", \"2014-07-06\", \"2014-07-13\", \"2014-07-20\", \"2014-07-27\", \"2014-08-03\", \"2014-08-10\", \"2014-08-17\", \"2014-08-24\", \"2014-08-31\", \"2014-09-07\", \"2014-09-14\", \"2014-09-21\", \"2014-09-28\", \"2014-10-05\", \"2014-10-12\", \"2014-10-19\", \"2014-10-26\", \"2014-11-02\", \"2014-11-09\", \"2014-11-16\", \"2014-11-23\", \"2014-11-30\", \"2014-12-07\", \"2014-12-14\", \"2014-12-21\", \"2014-12-28\", \"2015-01-04\", \"2015-01-11\", \"2015-01-18\", \"2015-01-25\", \"2015-02-01\", \"2015-02-08\", \"2015-02-15\", \"2015-02-22\", \"2015-03-01\", \"2015-03-08\", \"2015-03-15\", \"2015-03-22\", \"2015-03-29\", \"2015-04-05\", \"2015-04-12\", \"2015-04-19\", \"2015-04-26\", \"2015-05-03\", \"2015-05-10\", \"2015-05-17\", \"2015-05-24\", \"2015-05-31\", \"2015-06-07\", \"2015-06-14\", \"2015-06-21\", \"2015-06-28\", \"2015-07-05\", \"2015-07-12\", \"2015-07-19\", \"2015-07-26\", \"2015-08-02\", \"2015-08-09\", \"2015-08-16\", \"2015-08-23\", \"2015-08-30\", \"2015-09-06\", \"2015-09-13\", \"2015-09-20\", \"2015-09-27\", \"2015-10-04\", \"2015-10-11\", \"2015-10-18\", \"2015-10-25\", \"2015-11-01\", \"2015-11-08\", \"2015-11-15\", \"2015-11-22\", \"2015-11-29\", \"2015-12-06\", \"2015-12-13\", \"2015-12-20\", \"2015-12-27\", \"2016-01-03\", \"2016-01-10\", \"2016-01-17\", \"2016-01-24\", \"2016-01-31\", \"2016-02-07\", \"2016-02-14\", \"2016-02-21\", \"2016-02-28\", \"2016-03-06\", \"2016-03-13\", \"2016-03-20\", \"2016-03-27\", \"2016-04-03\", \"2016-04-10\", \"2016-04-17\", \"2016-04-24\", \"2016-05-01\", \"2016-05-08\", \"2016-05-15\", \"2016-05-22\", \"2016-05-29\", \"2016-06-05\", \"2016-06-12\", \"2016-06-19\", \"2016-06-26\", \"2016-07-03\", \"2016-07-10\", \"2016-07-17\", \"2016-07-24\", \"2016-07-31\", \"2016-08-07\", \"2016-08-14\", \"2016-08-21\", \"2016-08-28\", \"2016-09-04\", \"2016-09-11\", \"2016-09-18\", \"2016-09-25\", \"2016-10-02\", \"2016-10-09\", \"2016-10-16\", \"2016-10-23\", \"2016-10-30\", \"2016-11-06\", \"2016-11-13\", \"2016-11-20\", \"2016-11-27\", \"2016-12-04\", \"2016-12-11\", \"2016-12-18\", \"2016-12-25\", \"2017-01-01\", \"2017-01-08\", \"2017-01-15\", \"2017-01-22\", \"2017-01-29\", \"2017-02-05\", \"2017-02-12\", \"2017-02-19\", \"2017-02-26\", \"2017-03-05\", \"2017-03-12\", \"2017-03-19\", \"2017-03-26\", \"2017-04-02\", \"2017-04-09\", \"2017-04-16\", \"2017-04-23\", \"2017-04-30\", \"2017-05-07\", \"2017-05-14\", \"2017-05-21\", \"2017-05-28\", \"2017-06-04\", \"2017-06-11\", \"2017-06-18\", \"2017-06-25\", \"2017-07-02\", \"2017-07-09\", \"2017-07-16\", \"2017-07-23\", \"2017-07-30\", \"2017-08-06\", \"2017-08-13\", \"2017-08-20\", \"2017-08-27\", \"2017-09-03\", \"2017-09-10\", \"2017-09-17\", \"2017-09-24\", \"2017-10-01\", \"2017-10-08\", \"2017-10-15\", \"2017-10-22\", \"2017-10-29\", \"2017-11-05\", \"2017-11-12\", \"2017-11-19\", \"2017-11-26\", \"2017-12-03\", \"2017-12-10\", \"2017-12-17\", \"2017-12-24\", \"2017-12-31\", \"2018-01-07\", \"2018-01-14\", \"2018-01-21\", \"2018-01-28\", \"2018-02-04\", \"2018-02-11\", \"2018-02-18\", \"2018-02-25\", \"2018-03-04\", \"2018-03-11\", \"2018-03-18\", \"2018-03-25\", \"2018-04-01\", \"2018-04-08\", \"2018-04-15\", \"2018-04-22\", \"2018-04-29\", \"2018-05-06\", \"2018-05-13\", \"2018-05-20\", \"2018-05-27\", \"2018-06-03\", \"2018-06-10\", \"2018-06-17\", \"2018-06-24\", \"2018-07-01\", \"2018-07-08\", \"2018-07-15\", \"2018-07-22\", \"2018-07-29\", \"2018-08-05\", \"2018-08-12\", \"2018-08-19\", \"2018-08-26\", \"2018-09-02\", \"2018-09-09\", \"2018-09-16\", \"2018-09-23\", \"2018-09-30\", \"2018-10-07\", \"2018-10-14\", \"2018-10-21\", \"2018-10-28\", \"2018-11-04\", \"2018-11-11\", \"2018-11-18\", \"2018-11-25\", \"2018-12-02\", \"2018-12-09\", \"2018-12-16\", \"2018-12-23\", \"2018-12-30\", \"2019-01-06\", \"2019-01-13\", \"2019-01-20\", \"2019-01-27\", \"2019-02-03\", \"2019-02-10\", \"2019-02-17\", \"2019-02-24\", \"2019-03-03\", \"2019-03-10\", \"2019-03-17\", \"2019-03-24\", \"2019-03-31\", \"2019-04-07\", \"2019-04-14\", \"2019-04-21\", \"2019-04-28\", \"2019-05-05\", \"2019-05-12\", \"2019-05-19\", \"2019-05-26\", \"2019-06-02\", \"2019-06-09\", \"2019-06-16\", \"2019-06-23\", \"2019-06-30\", \"2019-07-07\", \"2019-07-14\", \"2019-07-21\", \"2019-07-28\", \"2019-08-04\", \"2019-08-11\", \"2019-08-18\", \"2019-08-25\", \"2019-09-01\", \"2019-09-08\", \"2019-09-15\", \"2019-09-22\", \"2019-09-29\", \"2019-10-06\", \"2019-10-13\", \"2019-10-20\", \"2019-10-27\", \"2019-11-03\", \"2019-11-10\", \"2019-11-17\", \"2019-11-24\", \"2019-12-01\", \"2019-12-08\", \"2019-12-15\", \"2019-12-22\", \"2019-12-29\", \"2020-01-05\", \"2020-01-12\", \"2020-01-19\", \"2020-01-26\", \"2020-02-02\", \"2020-02-09\", \"2020-02-16\", \"2020-02-23\", \"2020-03-01\", \"2020-03-08\", \"2020-03-15\", \"2020-03-22\", \"2020-03-29\", \"2020-04-05\", \"2020-04-12\", \"2020-04-19\", \"2020-04-26\", \"2020-05-03\", \"2020-05-10\", \"2020-05-17\", \"2020-05-24\", \"2020-05-31\", \"2020-06-07\", \"2020-06-14\", \"2020-06-21\", \"2020-06-28\", \"2020-07-05\", \"2020-07-12\", \"2020-07-19\", \"2012-01-08\", \"2012-01-15\", \"2012-01-22\", \"2012-01-29\", \"2012-02-05\", \"2012-02-12\", \"2012-02-19\", \"2012-02-26\", \"2012-03-04\", \"2012-03-11\", \"2012-03-18\", \"2012-03-25\", \"2012-04-01\", \"2012-04-08\", \"2012-04-15\", \"2012-04-22\", \"2012-04-29\", \"2012-05-06\", \"2012-05-13\", \"2012-05-20\", \"2012-05-27\", \"2012-06-03\", \"2012-06-10\", \"2012-06-17\", \"2012-06-24\", \"2012-07-01\", \"2012-07-08\", \"2012-07-15\", \"2012-07-22\", \"2012-07-29\", \"2012-08-05\", \"2012-08-12\", \"2012-08-19\", \"2012-08-26\", \"2012-09-02\", \"2012-09-09\", \"2012-09-16\", \"2012-09-23\", \"2012-09-30\", \"2012-10-07\", \"2012-10-14\", \"2012-10-21\", \"2012-10-28\", \"2012-11-04\", \"2012-11-11\", \"2012-11-18\", \"2012-11-25\", \"2012-12-02\", \"2012-12-09\", \"2012-12-16\", \"2012-12-23\", \"2012-12-30\", \"2013-01-06\", \"2013-01-13\", \"2013-01-20\", \"2013-01-27\", \"2013-02-03\", \"2013-02-10\", \"2013-02-17\", \"2013-02-24\", \"2013-03-03\", \"2013-03-10\", \"2013-03-17\", \"2013-03-24\", \"2013-03-31\", \"2013-04-07\", \"2013-04-14\", \"2013-04-21\", \"2013-04-28\", \"2013-05-05\", \"2013-05-12\", \"2013-05-19\", \"2013-05-26\", \"2013-06-02\", \"2013-06-09\", \"2013-06-16\", \"2013-06-23\", \"2013-06-30\", \"2013-07-07\", \"2013-07-14\", \"2013-07-21\", \"2013-07-28\", \"2013-08-04\", \"2013-08-11\", \"2013-08-18\", \"2013-08-25\", \"2013-09-01\", \"2013-09-08\", \"2013-09-15\", \"2013-09-22\", \"2013-09-29\", \"2013-10-06\", \"2013-10-13\", \"2013-10-20\", \"2013-10-27\", \"2013-11-03\", \"2013-11-10\", \"2013-11-17\", \"2013-11-24\", \"2013-12-01\", \"2013-12-08\", \"2013-12-15\", \"2013-12-22\", \"2013-12-29\", \"2014-01-05\", \"2014-01-12\", \"2014-01-19\", \"2014-01-26\", \"2014-02-02\", \"2014-02-09\", \"2014-02-16\", \"2014-02-23\", \"2014-03-02\", \"2014-03-09\", \"2014-03-16\", \"2014-03-23\", \"2014-03-30\", \"2014-04-06\", \"2014-04-13\", \"2014-04-20\", \"2014-04-27\", \"2014-05-04\", \"2014-05-11\", \"2014-05-18\", \"2014-05-25\", \"2014-06-01\", \"2014-06-08\", \"2014-06-15\", \"2014-06-22\", \"2014-06-29\", \"2014-07-06\", \"2014-07-13\", \"2014-07-20\", \"2014-07-27\", \"2014-08-03\", \"2014-08-10\", \"2014-08-17\", \"2014-08-24\", \"2014-08-31\", \"2014-09-07\", \"2014-09-14\", \"2014-09-21\", \"2014-09-28\", \"2014-10-05\", \"2014-10-12\", \"2014-10-19\", \"2014-10-26\", \"2014-11-02\", \"2014-11-09\", \"2014-11-16\", \"2014-11-23\", \"2014-11-30\", \"2014-12-07\", \"2014-12-14\", \"2014-12-21\", \"2014-12-28\", \"2015-01-04\", \"2015-01-11\", \"2015-01-18\", \"2015-01-25\", \"2015-02-01\", \"2015-02-08\", \"2015-02-15\", \"2015-02-22\", \"2015-03-01\", \"2015-03-08\", \"2015-03-15\", \"2015-03-22\", \"2015-03-29\", \"2015-04-05\", \"2015-04-12\", \"2015-04-19\", \"2015-04-26\", \"2015-05-03\", \"2015-05-10\", \"2015-05-17\", \"2015-05-24\", \"2015-05-31\", \"2015-06-07\", \"2015-06-14\", \"2015-06-21\", \"2015-06-28\", \"2015-07-05\", \"2015-07-12\", \"2015-07-19\", \"2015-07-26\", \"2015-08-02\", \"2015-08-09\", \"2015-08-16\", \"2015-08-23\", \"2015-08-30\", \"2015-09-06\", \"2015-09-13\", \"2015-09-20\", \"2015-09-27\", \"2015-10-04\", \"2015-10-11\", \"2015-10-18\", \"2015-10-25\", \"2015-11-01\", \"2015-11-08\", \"2015-11-15\", \"2015-11-22\", \"2015-11-29\", \"2015-12-06\", \"2015-12-13\", \"2015-12-20\", \"2015-12-27\", \"2016-01-03\", \"2016-01-10\", \"2016-01-17\", \"2016-01-24\", \"2016-01-31\", \"2016-02-07\", \"2016-02-14\", \"2016-02-21\", \"2016-02-28\", \"2016-03-06\", \"2016-03-13\", \"2016-03-20\", \"2016-03-27\", \"2016-04-03\", \"2016-04-10\", \"2016-04-17\", \"2016-04-24\", \"2016-05-01\", \"2016-05-08\", \"2016-05-15\", \"2016-05-22\", \"2016-05-29\", \"2016-06-05\", \"2016-06-12\", \"2016-06-19\", \"2016-06-26\", \"2016-07-03\", \"2016-07-10\", \"2016-07-17\", \"2016-07-24\", \"2016-07-31\", \"2016-08-07\", \"2016-08-14\", \"2016-08-21\", \"2016-08-28\", \"2016-09-04\", \"2016-09-11\", \"2016-09-18\", \"2016-09-25\", \"2016-10-02\", \"2016-10-09\", \"2016-10-16\", \"2016-10-23\", \"2016-10-30\", \"2016-11-06\", \"2016-11-13\", \"2016-11-20\", \"2016-11-27\", \"2016-12-04\", \"2016-12-11\", \"2016-12-18\", \"2016-12-25\", \"2017-01-01\", \"2017-01-08\", \"2017-01-15\", \"2017-01-22\", \"2017-01-29\", \"2017-02-05\", \"2017-02-12\", \"2017-02-19\", \"2017-02-26\", \"2017-03-05\", \"2017-03-12\", \"2017-03-19\", \"2017-03-26\", \"2017-04-02\", \"2017-04-09\", \"2017-04-16\", \"2017-04-23\", \"2017-04-30\", \"2017-05-07\", \"2017-05-14\", \"2017-05-21\", \"2017-05-28\", \"2017-06-04\", \"2017-06-11\", \"2017-06-18\", \"2017-06-25\", \"2017-07-02\", \"2017-07-09\", \"2017-07-16\", \"2017-07-23\", \"2017-07-30\", \"2017-08-06\", \"2017-08-13\", \"2017-08-20\", \"2017-08-27\", \"2017-09-03\", \"2017-09-10\", \"2017-09-17\", \"2017-09-24\", \"2017-10-01\", \"2017-10-08\", \"2017-10-15\", \"2017-10-22\", \"2017-10-29\", \"2017-11-05\", \"2017-11-12\", \"2017-11-19\", \"2017-11-26\", \"2017-12-03\", \"2017-12-10\", \"2017-12-17\", \"2017-12-24\", \"2017-12-31\", \"2018-01-07\", \"2018-01-14\", \"2018-01-21\", \"2018-01-28\", \"2018-02-04\", \"2018-02-11\", \"2018-02-18\", \"2018-02-25\", \"2018-03-04\", \"2018-03-11\", \"2018-03-18\", \"2018-03-25\", \"2018-04-01\", \"2018-04-08\", \"2018-04-15\", \"2018-04-22\", \"2018-04-29\", \"2018-05-06\", \"2018-05-13\", \"2018-05-20\", \"2018-05-27\", \"2018-06-03\", \"2018-06-10\", \"2018-06-17\", \"2018-06-24\", \"2018-07-01\", \"2018-07-08\", \"2018-07-15\", \"2018-07-22\", \"2018-07-29\", \"2018-08-05\", \"2018-08-12\", \"2018-08-19\", \"2018-08-26\", \"2018-09-02\", \"2018-09-09\", \"2018-09-16\", \"2018-09-23\", \"2018-09-30\", \"2018-10-07\", \"2018-10-14\", \"2018-10-21\", \"2018-10-28\", \"2018-11-04\", \"2018-11-11\", \"2018-11-18\", \"2018-11-25\", \"2018-12-02\", \"2018-12-09\", \"2018-12-16\", \"2018-12-23\", \"2018-12-30\", \"2019-01-06\", \"2019-01-13\", \"2019-01-20\", \"2019-01-27\", \"2019-02-03\", \"2019-02-10\", \"2019-02-17\", \"2019-02-24\", \"2019-03-03\", \"2019-03-10\", \"2019-03-17\", \"2019-03-24\", \"2019-03-31\", \"2019-04-07\", \"2019-04-14\", \"2019-04-21\", \"2019-04-28\", \"2019-05-05\", \"2019-05-12\", \"2019-05-19\", \"2019-05-26\", \"2019-06-02\", \"2019-06-09\", \"2019-06-16\", \"2019-06-23\", \"2019-06-30\", \"2019-07-07\", \"2019-07-14\", \"2019-07-21\", \"2019-07-28\", \"2019-08-04\", \"2019-08-11\", \"2019-08-18\", \"2019-08-25\", \"2019-09-01\", \"2019-09-08\", \"2019-09-15\", \"2019-09-22\", \"2019-09-29\", \"2019-10-06\", \"2019-10-13\", \"2019-10-20\", \"2019-10-27\", \"2019-11-03\", \"2019-11-10\", \"2019-11-17\", \"2019-11-24\", \"2019-12-01\", \"2019-12-08\", \"2019-12-15\", \"2019-12-22\", \"2019-12-29\", \"2020-01-05\", \"2020-01-12\", \"2020-01-19\", \"2020-01-26\", \"2020-02-02\", \"2020-02-09\", \"2020-02-16\", \"2020-02-23\", \"2020-03-01\", \"2020-03-08\", \"2020-03-15\", \"2020-03-22\", \"2020-03-29\", \"2020-04-05\", \"2020-04-12\", \"2020-04-19\", \"2020-04-26\", \"2020-05-03\", \"2020-05-10\", \"2020-05-17\", \"2020-05-24\", \"2020-05-31\", \"2020-06-07\", \"2020-06-14\", \"2020-06-21\", \"2020-06-28\", \"2020-07-05\", \"2020-07-12\", \"2020-07-19\"], \"y\": [123.38, 107.92, 101.65, 102.55, 112.51, 107.01, 111.98, 113.83, 111.54, 110.87, 111.45, 112.78, 113.96, 117.46, 123.48, 110.95, 133.73, 147.62, 117.81, 113.99, 114.45, 113.8, 115.76, 113.08, 110.04, 116.18, 112.86, 125.63, 120.89, 124.39, 132.64, 150.76, 146.42, 127.51, 118.14, 107.17, 112.17, 101.5, 103.38, 106.42, 105.52, 112.18, 115.45, 114.73, 112.8, 100.77, 117.06, 102.46, 99.15, 105.56, 111.1, 133.44, 132.01, 106.2, 93.87, 99.59, 95.11, 99.81, 98.87, 101.13, 101.51, 98.83, 102.79, 96.25, 112.55, 102.9, 102.41, 103.12, 116.98, 127.9, 98.98, 98.81, 101.27, 97.79, 94.91, 94.22, 97.0, 97.1, 95.11, 106.3, 93.38, 102.65, 103.19, 119.88, 143.2, 105.67, 94.38, 87.37, 96.23, 91.34, 94.14, 87.38, 92.92, 94.21, 96.91, 99.82, 93.64, 99.37, 97.91, 97.54, 93.82, 99.16, 100.15, 108.5, 124.31, 92.07, 84.92, 91.98, 89.69, 83.74, 90.43, 91.44, 89.92, 93.16, 86.84, 98.71, 97.33, 92.82, 87.38, 85.68, 90.99, 106.8, 87.29, 85.69, 88.04, 88.66, 80.77, 90.43, 81.45, 82.32, 86.81, 80.94, 96.87, 94.99, 92.7, 92.49, 118.6, 96.2, 83.89, 81.39, 84.69, 87.78, 85.09, 85.07, 84.72, 86.4, 94.23, 90.14, 87.33, 87.22, 93.47, 85.81, 83.17, 96.51, 92.25, 104.44, 119.87, 90.21, 81.78, 82.08, 83.76, 81.15, 85.53, 88.98, 83.05, 87.41, 87.34, 89.13, 100.83, 91.46, 88.51, 94.07, 92.28, 104.91, 103.12, 103.55, 93.77, 94.96, 89.07, 95.6, 99.79, 98.38, 90.91, 96.13, 96.09, 104.23, 112.59, 117.76, 137.12, 111.98, 103.92, 97.41, 97.07, 107.96, 107.28, 95.44, 114.44, 113.29, 102.75, 111.02, 101.36, 101.49, 107.57, 105.17, 105.65, 109.71, 111.74, 118.25, 147.89, 105.77, 104.44, 103.59, 104.83, 110.38, 109.35, 114.75, 123.14, 106.81, 105.3, 114.66, 122.57, 126.39, 122.24, 117.19, 120.25, 134.12, 138.44, 111.58, 120.82, 123.93, 118.33, 140.08, 126.58, 133.89, 136.51, 127.53, 138.18, 141.82, 149.2, 160.01, 185.88, 160.38, 145.53, 135.11, 128.53, 124.93, 127.64, 132.56, 153.92, 147.98, 154.74, 165.98, 147.5, 155.25, 147.3, 143.94, 155.21, 160.57, 159.38, 149.51, 188.51, 152.81, 134.95, 158.08, 146.78, 136.03, 136.59, 152.54, 138.5, 136.81, 136.58, 152.16, 142.81, 153.48, 129.47, 151.79, 149.05, 149.87, 176.85, 140.38, 140.76, 133.69, 135.11, 147.72, 154.97, 148.07, 137.87, 138.86, 146.43, 142.25, 142.82, 149.31, 173.3, 153.39, 149.45, 138.95, 139.73, 132.92, 137.12, 140.84, 161.46, 154.54, 144.71, 150.06, 162.95, 148.67, 150.37, 175.52, 155.32, 158.99, 157.61, 157.11, 198.61, 185.94, 160.17, 155.8, 145.65, 149.13, 151.93, 150.25, 154.4, 150.41, 149.34, 149.64, 154.03, 167.87, 147.34, 172.16, 158.8, 162.63, 175.49, 139.21, 166.17, 153.89, 145.54, 146.34, 151.93, 144.06, 145.29, 134.82, 152.49, 148.32, 146.85, 155.64, 181.99, 163.57, 157.41, 138.62, 126.85, 129.12, 133.37, 113.99, 151.82, 149.22, 148.23, 135.86, 129.47, 117.1, 123.03, 130.7, 119.52, 113.91, 132.06, 126.32, 144.34, 155.94, 139.69, 151.47, 111.89, 112.76, 122.5, 109.87, 107.82, 99.55, 92.35, 95.96, 102.35, 103.41, 105.53, 105.23, 109.16, 119.38, 143.7, 104.82, 100.36, 107.72, 103.77, 119.56, 108.24, 110.98, 108.48, 114.51, 105.03, 110.95, 106.12, 115.96, 132.27, 129.07, 116.58, 112.39, 101.74, 113.78, 106.9, 101.99, 107.25, 103.03, 127.9, 118.21, 115.61, 110.99, 102.95, 105.92, 108.73, 108.61, 113.49, 111.14, 122.45, 137.96, 104.17, 98.54, 97.63, 97.58, 101.74, 98.46, 108.92, 93.76, 87.33, 86.73, 91.95, 83.99, 81.03, 84.3, 80.53, 77.91, 78.15, 74.12, 78.36, 75.34, 84.44, 80.13, 75.48, 102.84, 99.53, 83.76, 92.06, 78.77]}, {\"mode\": \"lines\", \"name\": \"\\u30db\\u30fc\\u30e0\\u30bb\\u30f3\\u30bf\\u30fc\", \"type\": \"scatter\", \"x\": [\"2012-01-08\", \"2012-01-15\", \"2012-01-22\", \"2012-01-29\", \"2012-02-05\", \"2012-02-12\", \"2012-02-19\", \"2012-02-26\", \"2012-03-04\", \"2012-03-11\", \"2012-03-18\", \"2012-03-25\", \"2012-04-01\", \"2012-04-08\", \"2012-04-15\", \"2012-04-22\", \"2012-04-29\", \"2012-05-06\", \"2012-05-13\", \"2012-05-20\", \"2012-05-27\", \"2012-06-03\", \"2012-06-10\", \"2012-06-17\", \"2012-06-24\", \"2012-07-01\", \"2012-07-08\", \"2012-07-15\", \"2012-07-22\", \"2012-07-29\", \"2012-08-05\", \"2012-08-12\", \"2012-08-19\", \"2012-08-26\", \"2012-09-02\", \"2012-09-09\", \"2012-09-16\", \"2012-09-23\", \"2012-09-30\", \"2012-10-07\", \"2012-10-14\", \"2012-10-21\", \"2012-10-28\", \"2012-11-04\", \"2012-11-11\", \"2012-11-18\", \"2012-11-25\", \"2012-12-02\", \"2012-12-09\", \"2012-12-16\", \"2012-12-23\", \"2012-12-30\", \"2013-01-06\", \"2013-01-13\", \"2013-01-20\", \"2013-01-27\", \"2013-02-03\", \"2013-02-10\", \"2013-02-17\", \"2013-02-24\", \"2013-03-03\", \"2013-03-10\", \"2013-03-17\", \"2013-03-24\", \"2013-03-31\", \"2013-04-07\", \"2013-04-14\", \"2013-04-21\", \"2013-04-28\", \"2013-05-05\", \"2013-05-12\", \"2013-05-19\", \"2013-05-26\", \"2013-06-02\", \"2013-06-09\", \"2013-06-16\", \"2013-06-23\", \"2013-06-30\", \"2013-07-07\", \"2013-07-14\", \"2013-07-21\", \"2013-07-28\", \"2013-08-04\", \"2013-08-11\", \"2013-08-18\", \"2013-08-25\", \"2013-09-01\", \"2013-09-08\", \"2013-09-15\", \"2013-09-22\", \"2013-09-29\", \"2013-10-06\", \"2013-10-13\", \"2013-10-20\", \"2013-10-27\", \"2013-11-03\", \"2013-11-10\", \"2013-11-17\", \"2013-11-24\", \"2013-12-01\", \"2013-12-08\", \"2013-12-15\", \"2013-12-22\", \"2013-12-29\", \"2014-01-05\", \"2014-01-12\", \"2014-01-19\", \"2014-01-26\", \"2014-02-02\", \"2014-02-09\", \"2014-02-16\", \"2014-02-23\", \"2014-03-02\", \"2014-03-09\", \"2014-03-16\", \"2014-03-23\", \"2014-03-30\", \"2014-04-06\", \"2014-04-13\", \"2014-04-20\", \"2014-04-27\", \"2014-05-04\", \"2014-05-11\", \"2014-05-18\", \"2014-05-25\", \"2014-06-01\", \"2014-06-08\", \"2014-06-15\", \"2014-06-22\", \"2014-06-29\", \"2014-07-06\", \"2014-07-13\", \"2014-07-20\", \"2014-07-27\", \"2014-08-03\", \"2014-08-10\", \"2014-08-17\", \"2014-08-24\", \"2014-08-31\", \"2014-09-07\", \"2014-09-14\", \"2014-09-21\", \"2014-09-28\", \"2014-10-05\", \"2014-10-12\", \"2014-10-19\", \"2014-10-26\", \"2014-11-02\", \"2014-11-09\", \"2014-11-16\", \"2014-11-23\", \"2014-11-30\", \"2014-12-07\", \"2014-12-14\", \"2014-12-21\", \"2014-12-28\", \"2015-01-04\", \"2015-01-11\", \"2015-01-18\", \"2015-01-25\", \"2015-02-01\", \"2015-02-08\", \"2015-02-15\", \"2015-02-22\", \"2015-03-01\", \"2015-03-08\", \"2015-03-15\", \"2015-03-22\", \"2015-03-29\", \"2015-04-05\", \"2015-04-12\", \"2015-04-19\", \"2015-04-26\", \"2015-05-03\", \"2015-05-10\", \"2015-05-17\", \"2015-05-24\", \"2015-05-31\", \"2015-06-07\", \"2015-06-14\", \"2015-06-21\", \"2015-06-28\", \"2015-07-05\", \"2015-07-12\", \"2015-07-19\", \"2015-07-26\", \"2015-08-02\", \"2015-08-09\", \"2015-08-16\", \"2015-08-23\", \"2015-08-30\", \"2015-09-06\", \"2015-09-13\", \"2015-09-20\", \"2015-09-27\", \"2015-10-04\", \"2015-10-11\", \"2015-10-18\", \"2015-10-25\", \"2015-11-01\", \"2015-11-08\", \"2015-11-15\", \"2015-11-22\", \"2015-11-29\", \"2015-12-06\", \"2015-12-13\", \"2015-12-20\", \"2015-12-27\", \"2016-01-03\", \"2016-01-10\", \"2016-01-17\", \"2016-01-24\", \"2016-01-31\", \"2016-02-07\", \"2016-02-14\", \"2016-02-21\", \"2016-02-28\", \"2016-03-06\", \"2016-03-13\", \"2016-03-20\", \"2016-03-27\", \"2016-04-03\", \"2016-04-10\", \"2016-04-17\", \"2016-04-24\", \"2016-05-01\", \"2016-05-08\", \"2016-05-15\", \"2016-05-22\", \"2016-05-29\", \"2016-06-05\", \"2016-06-12\", \"2016-06-19\", \"2016-06-26\", \"2016-07-03\", \"2016-07-10\", \"2016-07-17\", \"2016-07-24\", \"2016-07-31\", \"2016-08-07\", \"2016-08-14\", \"2016-08-21\", \"2016-08-28\", \"2016-09-04\", \"2016-09-11\", \"2016-09-18\", \"2016-09-25\", \"2016-10-02\", \"2016-10-09\", \"2016-10-16\", \"2016-10-23\", \"2016-10-30\", \"2016-11-06\", \"2016-11-13\", \"2016-11-20\", \"2016-11-27\", \"2016-12-04\", \"2016-12-11\", \"2016-12-18\", \"2016-12-25\", \"2017-01-01\", \"2017-01-08\", \"2017-01-15\", \"2017-01-22\", \"2017-01-29\", \"2017-02-05\", \"2017-02-12\", \"2017-02-19\", \"2017-02-26\", \"2017-03-05\", \"2017-03-12\", \"2017-03-19\", \"2017-03-26\", \"2017-04-02\", \"2017-04-09\", \"2017-04-16\", \"2017-04-23\", \"2017-04-30\", \"2017-05-07\", \"2017-05-14\", \"2017-05-21\", \"2017-05-28\", \"2017-06-04\", \"2017-06-11\", \"2017-06-18\", \"2017-06-25\", \"2017-07-02\", \"2017-07-09\", \"2017-07-16\", \"2017-07-23\", \"2017-07-30\", \"2017-08-06\", \"2017-08-13\", \"2017-08-20\", \"2017-08-27\", \"2017-09-03\", \"2017-09-10\", \"2017-09-17\", \"2017-09-24\", \"2017-10-01\", \"2017-10-08\", \"2017-10-15\", \"2017-10-22\", \"2017-10-29\", \"2017-11-05\", \"2017-11-12\", \"2017-11-19\", \"2017-11-26\", \"2017-12-03\", \"2017-12-10\", \"2017-12-17\", \"2017-12-24\", \"2017-12-31\", \"2018-01-07\", \"2018-01-14\", \"2018-01-21\", \"2018-01-28\", \"2018-02-04\", \"2018-02-11\", \"2018-02-18\", \"2018-02-25\", \"2018-03-04\", \"2018-03-11\", \"2018-03-18\", \"2018-03-25\", \"2018-04-01\", \"2018-04-08\", \"2018-04-15\", \"2018-04-22\", \"2018-04-29\", \"2018-05-06\", \"2018-05-13\", \"2018-05-20\", \"2018-05-27\", \"2018-06-03\", \"2018-06-10\", \"2018-06-17\", \"2018-06-24\", \"2018-07-01\", \"2018-07-08\", \"2018-07-15\", \"2018-07-22\", \"2018-07-29\", \"2018-08-05\", \"2018-08-12\", \"2018-08-19\", \"2018-08-26\", \"2018-09-02\", \"2018-09-09\", \"2018-09-16\", \"2018-09-23\", \"2018-09-30\", \"2018-10-07\", \"2018-10-14\", \"2018-10-21\", \"2018-10-28\", \"2018-11-04\", \"2018-11-11\", \"2018-11-18\", \"2018-11-25\", \"2018-12-02\", \"2018-12-09\", \"2018-12-16\", \"2018-12-23\", \"2018-12-30\", \"2019-01-06\", \"2019-01-13\", \"2019-01-20\", \"2019-01-27\", \"2019-02-03\", \"2019-02-10\", \"2019-02-17\", \"2019-02-24\", \"2019-03-03\", \"2019-03-10\", \"2019-03-17\", \"2019-03-24\", \"2019-03-31\", \"2019-04-07\", \"2019-04-14\", \"2019-04-21\", \"2019-04-28\", \"2019-05-05\", \"2019-05-12\", \"2019-05-19\", \"2019-05-26\", \"2019-06-02\", \"2019-06-09\", \"2019-06-16\", \"2019-06-23\", \"2019-06-30\", \"2019-07-07\", \"2019-07-14\", \"2019-07-21\", \"2019-07-28\", \"2019-08-04\", \"2019-08-11\", \"2019-08-18\", \"2019-08-25\", \"2019-09-01\", \"2019-09-08\", \"2019-09-15\", \"2019-09-22\", \"2019-09-29\", \"2019-10-06\", \"2019-10-13\", \"2019-10-20\", \"2019-10-27\", \"2019-11-03\", \"2019-11-10\", \"2019-11-17\", \"2019-11-24\", \"2019-12-01\", \"2019-12-08\", \"2019-12-15\", \"2019-12-22\", \"2019-12-29\", \"2020-01-05\", \"2020-01-12\", \"2020-01-19\", \"2020-01-26\", \"2020-02-02\", \"2020-02-09\", \"2020-02-16\", \"2020-02-23\", \"2020-03-01\", \"2020-03-08\", \"2020-03-15\", \"2020-03-22\", \"2020-03-29\", \"2020-04-05\", \"2020-04-12\", \"2020-04-19\", \"2020-04-26\", \"2020-05-03\", \"2020-05-10\", \"2020-05-17\", \"2020-05-24\", \"2020-05-31\", \"2020-06-07\", \"2020-06-14\", \"2020-06-21\", \"2020-06-28\", \"2020-07-05\", \"2020-07-12\", \"2020-07-19\", \"2012-01-08\", \"2012-01-15\", \"2012-01-22\", \"2012-01-29\", \"2012-02-05\", \"2012-02-12\", \"2012-02-19\", \"2012-02-26\", \"2012-03-04\", \"2012-03-11\", \"2012-03-18\", \"2012-03-25\", \"2012-04-01\", \"2012-04-08\", \"2012-04-15\", \"2012-04-22\", \"2012-04-29\", \"2012-05-06\", \"2012-05-13\", \"2012-05-20\", \"2012-05-27\", \"2012-06-03\", \"2012-06-10\", \"2012-06-17\", \"2012-06-24\", \"2012-07-01\", \"2012-07-08\", \"2012-07-15\", \"2012-07-22\", \"2012-07-29\", \"2012-08-05\", \"2012-08-12\", \"2012-08-19\", \"2012-08-26\", \"2012-09-02\", \"2012-09-09\", \"2012-09-16\", \"2012-09-23\", \"2012-09-30\", \"2012-10-07\", \"2012-10-14\", \"2012-10-21\", \"2012-10-28\", \"2012-11-04\", \"2012-11-11\", \"2012-11-18\", \"2012-11-25\", \"2012-12-02\", \"2012-12-09\", \"2012-12-16\", \"2012-12-23\", \"2012-12-30\", \"2013-01-06\", \"2013-01-13\", \"2013-01-20\", \"2013-01-27\", \"2013-02-03\", \"2013-02-10\", \"2013-02-17\", \"2013-02-24\", \"2013-03-03\", \"2013-03-10\", \"2013-03-17\", \"2013-03-24\", \"2013-03-31\", \"2013-04-07\", \"2013-04-14\", \"2013-04-21\", \"2013-04-28\", \"2013-05-05\", \"2013-05-12\", \"2013-05-19\", \"2013-05-26\", \"2013-06-02\", \"2013-06-09\", \"2013-06-16\", \"2013-06-23\", \"2013-06-30\", \"2013-07-07\", \"2013-07-14\", \"2013-07-21\", \"2013-07-28\", \"2013-08-04\", \"2013-08-11\", \"2013-08-18\", \"2013-08-25\", \"2013-09-01\", \"2013-09-08\", \"2013-09-15\", \"2013-09-22\", \"2013-09-29\", \"2013-10-06\", \"2013-10-13\", \"2013-10-20\", \"2013-10-27\", \"2013-11-03\", \"2013-11-10\", \"2013-11-17\", \"2013-11-24\", \"2013-12-01\", \"2013-12-08\", \"2013-12-15\", \"2013-12-22\", \"2013-12-29\", \"2014-01-05\", \"2014-01-12\", \"2014-01-19\", \"2014-01-26\", \"2014-02-02\", \"2014-02-09\", \"2014-02-16\", \"2014-02-23\", \"2014-03-02\", \"2014-03-09\", \"2014-03-16\", \"2014-03-23\", \"2014-03-30\", \"2014-04-06\", \"2014-04-13\", \"2014-04-20\", \"2014-04-27\", \"2014-05-04\", \"2014-05-11\", \"2014-05-18\", \"2014-05-25\", \"2014-06-01\", \"2014-06-08\", \"2014-06-15\", \"2014-06-22\", \"2014-06-29\", \"2014-07-06\", \"2014-07-13\", \"2014-07-20\", \"2014-07-27\", \"2014-08-03\", \"2014-08-10\", \"2014-08-17\", \"2014-08-24\", \"2014-08-31\", \"2014-09-07\", \"2014-09-14\", \"2014-09-21\", \"2014-09-28\", \"2014-10-05\", \"2014-10-12\", \"2014-10-19\", \"2014-10-26\", \"2014-11-02\", \"2014-11-09\", \"2014-11-16\", \"2014-11-23\", \"2014-11-30\", \"2014-12-07\", \"2014-12-14\", \"2014-12-21\", \"2014-12-28\", \"2015-01-04\", \"2015-01-11\", \"2015-01-18\", \"2015-01-25\", \"2015-02-01\", \"2015-02-08\", \"2015-02-15\", \"2015-02-22\", \"2015-03-01\", \"2015-03-08\", \"2015-03-15\", \"2015-03-22\", \"2015-03-29\", \"2015-04-05\", \"2015-04-12\", \"2015-04-19\", \"2015-04-26\", \"2015-05-03\", \"2015-05-10\", \"2015-05-17\", \"2015-05-24\", \"2015-05-31\", \"2015-06-07\", \"2015-06-14\", \"2015-06-21\", \"2015-06-28\", \"2015-07-05\", \"2015-07-12\", \"2015-07-19\", \"2015-07-26\", \"2015-08-02\", \"2015-08-09\", \"2015-08-16\", \"2015-08-23\", \"2015-08-30\", \"2015-09-06\", \"2015-09-13\", \"2015-09-20\", \"2015-09-27\", \"2015-10-04\", \"2015-10-11\", \"2015-10-18\", \"2015-10-25\", \"2015-11-01\", \"2015-11-08\", \"2015-11-15\", \"2015-11-22\", \"2015-11-29\", \"2015-12-06\", \"2015-12-13\", \"2015-12-20\", \"2015-12-27\", \"2016-01-03\", \"2016-01-10\", \"2016-01-17\", \"2016-01-24\", \"2016-01-31\", \"2016-02-07\", \"2016-02-14\", \"2016-02-21\", \"2016-02-28\", \"2016-03-06\", \"2016-03-13\", \"2016-03-20\", \"2016-03-27\", \"2016-04-03\", \"2016-04-10\", \"2016-04-17\", \"2016-04-24\", \"2016-05-01\", \"2016-05-08\", \"2016-05-15\", \"2016-05-22\", \"2016-05-29\", \"2016-06-05\", \"2016-06-12\", \"2016-06-19\", \"2016-06-26\", \"2016-07-03\", \"2016-07-10\", \"2016-07-17\", \"2016-07-24\", \"2016-07-31\", \"2016-08-07\", \"2016-08-14\", \"2016-08-21\", \"2016-08-28\", \"2016-09-04\", \"2016-09-11\", \"2016-09-18\", \"2016-09-25\", \"2016-10-02\", \"2016-10-09\", \"2016-10-16\", \"2016-10-23\", \"2016-10-30\", \"2016-11-06\", \"2016-11-13\", \"2016-11-20\", \"2016-11-27\", \"2016-12-04\", \"2016-12-11\", \"2016-12-18\", \"2016-12-25\", \"2017-01-01\", \"2017-01-08\", \"2017-01-15\", \"2017-01-22\", \"2017-01-29\", \"2017-02-05\", \"2017-02-12\", \"2017-02-19\", \"2017-02-26\", \"2017-03-05\", \"2017-03-12\", \"2017-03-19\", \"2017-03-26\", \"2017-04-02\", \"2017-04-09\", \"2017-04-16\", \"2017-04-23\", \"2017-04-30\", \"2017-05-07\", \"2017-05-14\", \"2017-05-21\", \"2017-05-28\", \"2017-06-04\", \"2017-06-11\", \"2017-06-18\", \"2017-06-25\", \"2017-07-02\", \"2017-07-09\", \"2017-07-16\", \"2017-07-23\", \"2017-07-30\", \"2017-08-06\", \"2017-08-13\", \"2017-08-20\", \"2017-08-27\", \"2017-09-03\", \"2017-09-10\", \"2017-09-17\", \"2017-09-24\", \"2017-10-01\", \"2017-10-08\", \"2017-10-15\", \"2017-10-22\", \"2017-10-29\", \"2017-11-05\", \"2017-11-12\", \"2017-11-19\", \"2017-11-26\", \"2017-12-03\", \"2017-12-10\", \"2017-12-17\", \"2017-12-24\", \"2017-12-31\", \"2018-01-07\", \"2018-01-14\", \"2018-01-21\", \"2018-01-28\", \"2018-02-04\", \"2018-02-11\", \"2018-02-18\", \"2018-02-25\", \"2018-03-04\", \"2018-03-11\", \"2018-03-18\", \"2018-03-25\", \"2018-04-01\", \"2018-04-08\", \"2018-04-15\", \"2018-04-22\", \"2018-04-29\", \"2018-05-06\", \"2018-05-13\", \"2018-05-20\", \"2018-05-27\", \"2018-06-03\", \"2018-06-10\", \"2018-06-17\", \"2018-06-24\", \"2018-07-01\", \"2018-07-08\", \"2018-07-15\", \"2018-07-22\", \"2018-07-29\", \"2018-08-05\", \"2018-08-12\", \"2018-08-19\", \"2018-08-26\", \"2018-09-02\", \"2018-09-09\", \"2018-09-16\", \"2018-09-23\", \"2018-09-30\", \"2018-10-07\", \"2018-10-14\", \"2018-10-21\", \"2018-10-28\", \"2018-11-04\", \"2018-11-11\", \"2018-11-18\", \"2018-11-25\", \"2018-12-02\", \"2018-12-09\", \"2018-12-16\", \"2018-12-23\", \"2018-12-30\", \"2019-01-06\", \"2019-01-13\", \"2019-01-20\", \"2019-01-27\", \"2019-02-03\", \"2019-02-10\", \"2019-02-17\", \"2019-02-24\", \"2019-03-03\", \"2019-03-10\", \"2019-03-17\", \"2019-03-24\", \"2019-03-31\", \"2019-04-07\", \"2019-04-14\", \"2019-04-21\", \"2019-04-28\", \"2019-05-05\", \"2019-05-12\", \"2019-05-19\", \"2019-05-26\", \"2019-06-02\", \"2019-06-09\", \"2019-06-16\", \"2019-06-23\", \"2019-06-30\", \"2019-07-07\", \"2019-07-14\", \"2019-07-21\", \"2019-07-28\", \"2019-08-04\", \"2019-08-11\", \"2019-08-18\", \"2019-08-25\", \"2019-09-01\", \"2019-09-08\", \"2019-09-15\", \"2019-09-22\", \"2019-09-29\", \"2019-10-06\", \"2019-10-13\", \"2019-10-20\", \"2019-10-27\", \"2019-11-03\", \"2019-11-10\", \"2019-11-17\", \"2019-11-24\", \"2019-12-01\", \"2019-12-08\", \"2019-12-15\", \"2019-12-22\", \"2019-12-29\", \"2020-01-05\", \"2020-01-12\", \"2020-01-19\", \"2020-01-26\", \"2020-02-02\", \"2020-02-09\", \"2020-02-16\", \"2020-02-23\", \"2020-03-01\", \"2020-03-08\", \"2020-03-15\", \"2020-03-22\", \"2020-03-29\", \"2020-04-05\", \"2020-04-12\", \"2020-04-19\", \"2020-04-26\", \"2020-05-03\", \"2020-05-10\", \"2020-05-17\", \"2020-05-24\", \"2020-05-31\", \"2020-06-07\", \"2020-06-14\", \"2020-06-21\", \"2020-06-28\", \"2020-07-05\", \"2020-07-12\", \"2020-07-19\", \"2012-01-08\", \"2012-01-15\", \"2012-01-22\", \"2012-01-29\", \"2012-02-05\", \"2012-02-12\", \"2012-02-19\", \"2012-02-26\", \"2012-03-04\", \"2012-03-11\", \"2012-03-18\", \"2012-03-25\", \"2012-04-01\", \"2012-04-08\", \"2012-04-15\", \"2012-04-22\", \"2012-04-29\", \"2012-05-06\", \"2012-05-13\", \"2012-05-20\", \"2012-05-27\", \"2012-06-03\", \"2012-06-10\", \"2012-06-17\", \"2012-06-24\", \"2012-07-01\", \"2012-07-08\", \"2012-07-15\", \"2012-07-22\", \"2012-07-29\", \"2012-08-05\", \"2012-08-12\", \"2012-08-19\", \"2012-08-26\", \"2012-09-02\", \"2012-09-09\", \"2012-09-16\", \"2012-09-23\", \"2012-09-30\", \"2012-10-07\", \"2012-10-14\", \"2012-10-21\", \"2012-10-28\", \"2012-11-04\", \"2012-11-11\", \"2012-11-18\", \"2012-11-25\", \"2012-12-02\", \"2012-12-09\", \"2012-12-16\", \"2012-12-23\", \"2012-12-30\", \"2013-01-06\", \"2013-01-13\", \"2013-01-20\", \"2013-01-27\", \"2013-02-03\", \"2013-02-10\", \"2013-02-17\", \"2013-02-24\", \"2013-03-03\", \"2013-03-10\", \"2013-03-17\", \"2013-03-24\", \"2013-03-31\", \"2013-04-07\", \"2013-04-14\", \"2013-04-21\", \"2013-04-28\", \"2013-05-05\", \"2013-05-12\", \"2013-05-19\", \"2013-05-26\", \"2013-06-02\", \"2013-06-09\", \"2013-06-16\", \"2013-06-23\", \"2013-06-30\", \"2013-07-07\", \"2013-07-14\", \"2013-07-21\", \"2013-07-28\", \"2013-08-04\", \"2013-08-11\", \"2013-08-18\", \"2013-08-25\", \"2013-09-01\", \"2013-09-08\", \"2013-09-15\", \"2013-09-22\", \"2013-09-29\", \"2013-10-06\", \"2013-10-13\", \"2013-10-20\", \"2013-10-27\", \"2013-11-03\", \"2013-11-10\", \"2013-11-17\", \"2013-11-24\", \"2013-12-01\", \"2013-12-08\", \"2013-12-15\", \"2013-12-22\", \"2013-12-29\", \"2014-01-05\", \"2014-01-12\", \"2014-01-19\", \"2014-01-26\", \"2014-02-02\", \"2014-02-09\", \"2014-02-16\", \"2014-02-23\", \"2014-03-02\", \"2014-03-09\", \"2014-03-16\", \"2014-03-23\", \"2014-03-30\", \"2014-04-06\", \"2014-04-13\", \"2014-04-20\", \"2014-04-27\", \"2014-05-04\", \"2014-05-11\", \"2014-05-18\", \"2014-05-25\", \"2014-06-01\", \"2014-06-08\", \"2014-06-15\", \"2014-06-22\", \"2014-06-29\", \"2014-07-06\", \"2014-07-13\", \"2014-07-20\", \"2014-07-27\", \"2014-08-03\", \"2014-08-10\", \"2014-08-17\", \"2014-08-24\", \"2014-08-31\", \"2014-09-07\", \"2014-09-14\", \"2014-09-21\", \"2014-09-28\", \"2014-10-05\", \"2014-10-12\", \"2014-10-19\", \"2014-10-26\", \"2014-11-02\", \"2014-11-09\", \"2014-11-16\", \"2014-11-23\", \"2014-11-30\", \"2014-12-07\", \"2014-12-14\", \"2014-12-21\", \"2014-12-28\", \"2015-01-04\", \"2015-01-11\", \"2015-01-18\", \"2015-01-25\", \"2015-02-01\", \"2015-02-08\", \"2015-02-15\", \"2015-02-22\", \"2015-03-01\", \"2015-03-08\", \"2015-03-15\", \"2015-03-22\", \"2015-03-29\", \"2015-04-05\", \"2015-04-12\", \"2015-04-19\", \"2015-04-26\", \"2015-05-03\", \"2015-05-10\", \"2015-05-17\", \"2015-05-24\", \"2015-05-31\", \"2015-06-07\", \"2015-06-14\", \"2015-06-21\", \"2015-06-28\", \"2015-07-05\", \"2015-07-12\", \"2015-07-19\", \"2015-07-26\", \"2015-08-02\", \"2015-08-09\", \"2015-08-16\", \"2015-08-23\", \"2015-08-30\", \"2015-09-06\", \"2015-09-13\", \"2015-09-20\", \"2015-09-27\", \"2015-10-04\", \"2015-10-11\", \"2015-10-18\", \"2015-10-25\", \"2015-11-01\", \"2015-11-08\", \"2015-11-15\", \"2015-11-22\", \"2015-11-29\", \"2015-12-06\", \"2015-12-13\", \"2015-12-20\", \"2015-12-27\", \"2016-01-03\", \"2016-01-10\", \"2016-01-17\", \"2016-01-24\", \"2016-01-31\", \"2016-02-07\", \"2016-02-14\", \"2016-02-21\", \"2016-02-28\", \"2016-03-06\", \"2016-03-13\", \"2016-03-20\", \"2016-03-27\", \"2016-04-03\", \"2016-04-10\", \"2016-04-17\", \"2016-04-24\", \"2016-05-01\", \"2016-05-08\", \"2016-05-15\", \"2016-05-22\", \"2016-05-29\", \"2016-06-05\", \"2016-06-12\", \"2016-06-19\", \"2016-06-26\", \"2016-07-03\", \"2016-07-10\", \"2016-07-17\", \"2016-07-24\", \"2016-07-31\", \"2016-08-07\", \"2016-08-14\", \"2016-08-21\", \"2016-08-28\", \"2016-09-04\", \"2016-09-11\", \"2016-09-18\", \"2016-09-25\", \"2016-10-02\", \"2016-10-09\", \"2016-10-16\", \"2016-10-23\", \"2016-10-30\", \"2016-11-06\", \"2016-11-13\", \"2016-11-20\", \"2016-11-27\", \"2016-12-04\", \"2016-12-11\", \"2016-12-18\", \"2016-12-25\", \"2017-01-01\", \"2017-01-08\", \"2017-01-15\", \"2017-01-22\", \"2017-01-29\", \"2017-02-05\", \"2017-02-12\", \"2017-02-19\", \"2017-02-26\", \"2017-03-05\", \"2017-03-12\", \"2017-03-19\", \"2017-03-26\", \"2017-04-02\", \"2017-04-09\", \"2017-04-16\", \"2017-04-23\", \"2017-04-30\", \"2017-05-07\", \"2017-05-14\", \"2017-05-21\", \"2017-05-28\", \"2017-06-04\", \"2017-06-11\", \"2017-06-18\", \"2017-06-25\", \"2017-07-02\", \"2017-07-09\", \"2017-07-16\", \"2017-07-23\", \"2017-07-30\", \"2017-08-06\", \"2017-08-13\", \"2017-08-20\", \"2017-08-27\", \"2017-09-03\", \"2017-09-10\", \"2017-09-17\", \"2017-09-24\", \"2017-10-01\", \"2017-10-08\", \"2017-10-15\", \"2017-10-22\", \"2017-10-29\", \"2017-11-05\", \"2017-11-12\", \"2017-11-19\", \"2017-11-26\", \"2017-12-03\", \"2017-12-10\", \"2017-12-17\", \"2017-12-24\", \"2017-12-31\", \"2018-01-07\", \"2018-01-14\", \"2018-01-21\", \"2018-01-28\", \"2018-02-04\", \"2018-02-11\", \"2018-02-18\", \"2018-02-25\", \"2018-03-04\", \"2018-03-11\", \"2018-03-18\", \"2018-03-25\", \"2018-04-01\", \"2018-04-08\", \"2018-04-15\", \"2018-04-22\", \"2018-04-29\", \"2018-05-06\", \"2018-05-13\", \"2018-05-20\", \"2018-05-27\", \"2018-06-03\", \"2018-06-10\", \"2018-06-17\", \"2018-06-24\", \"2018-07-01\", \"2018-07-08\", \"2018-07-15\", \"2018-07-22\", \"2018-07-29\", \"2018-08-05\", \"2018-08-12\", \"2018-08-19\", \"2018-08-26\", \"2018-09-02\", \"2018-09-09\", \"2018-09-16\", \"2018-09-23\", \"2018-09-30\", \"2018-10-07\", \"2018-10-14\", \"2018-10-21\", \"2018-10-28\", \"2018-11-04\", \"2018-11-11\", \"2018-11-18\", \"2018-11-25\", \"2018-12-02\", \"2018-12-09\", \"2018-12-16\", \"2018-12-23\", \"2018-12-30\", \"2019-01-06\", \"2019-01-13\", \"2019-01-20\", \"2019-01-27\", \"2019-02-03\", \"2019-02-10\", \"2019-02-17\", \"2019-02-24\", \"2019-03-03\", \"2019-03-10\", \"2019-03-17\", \"2019-03-24\", \"2019-03-31\", \"2019-04-07\", \"2019-04-14\", \"2019-04-21\", \"2019-04-28\", \"2019-05-05\", \"2019-05-12\", \"2019-05-19\", \"2019-05-26\", \"2019-06-02\", \"2019-06-09\", \"2019-06-16\", \"2019-06-23\", \"2019-06-30\", \"2019-07-07\", \"2019-07-14\", \"2019-07-21\", \"2019-07-28\", \"2019-08-04\", \"2019-08-11\", \"2019-08-18\", \"2019-08-25\", \"2019-09-01\", \"2019-09-08\", \"2019-09-15\", \"2019-09-22\", \"2019-09-29\", \"2019-10-06\", \"2019-10-13\", \"2019-10-20\", \"2019-10-27\", \"2019-11-03\", \"2019-11-10\", \"2019-11-17\", \"2019-11-24\", \"2019-12-01\", \"2019-12-08\", \"2019-12-15\", \"2019-12-22\", \"2019-12-29\", \"2020-01-05\", \"2020-01-12\", \"2020-01-19\", \"2020-01-26\", \"2020-02-02\", \"2020-02-09\", \"2020-02-16\", \"2020-02-23\", \"2020-03-01\", \"2020-03-08\", \"2020-03-15\", \"2020-03-22\", \"2020-03-29\", \"2020-04-05\", \"2020-04-12\", \"2020-04-19\", \"2020-04-26\", \"2020-05-03\", \"2020-05-10\", \"2020-05-17\", \"2020-05-24\", \"2020-05-31\", \"2020-06-07\", \"2020-06-14\", \"2020-06-21\", \"2020-06-28\", \"2020-07-05\", \"2020-07-12\", \"2020-07-19\", \"2012-01-08\", \"2012-01-15\", \"2012-01-22\", \"2012-01-29\", \"2012-02-05\", \"2012-02-12\", \"2012-02-19\", \"2012-02-26\", \"2012-03-04\", \"2012-03-11\", \"2012-03-18\", \"2012-03-25\", \"2012-04-01\", \"2012-04-08\", \"2012-04-15\", \"2012-04-22\", \"2012-04-29\", \"2012-05-06\", \"2012-05-13\", \"2012-05-20\", \"2012-05-27\", \"2012-06-03\", \"2012-06-10\", \"2012-06-17\", \"2012-06-24\", \"2012-07-01\", \"2012-07-08\", \"2012-07-15\", \"2012-07-22\", \"2012-07-29\", \"2012-08-05\", \"2012-08-12\", \"2012-08-19\", \"2012-08-26\", \"2012-09-02\", \"2012-09-09\", \"2012-09-16\", \"2012-09-23\", \"2012-09-30\", \"2012-10-07\", \"2012-10-14\", \"2012-10-21\", \"2012-10-28\", \"2012-11-04\", \"2012-11-11\", \"2012-11-18\", \"2012-11-25\", \"2012-12-02\", \"2012-12-09\", \"2012-12-16\", \"2012-12-23\", \"2012-12-30\", \"2013-01-06\", \"2013-01-13\", \"2013-01-20\", \"2013-01-27\", \"2013-02-03\", \"2013-02-10\", \"2013-02-17\", \"2013-02-24\", \"2013-03-03\", \"2013-03-10\", \"2013-03-17\", \"2013-03-24\", \"2013-03-31\", \"2013-04-07\", \"2013-04-14\", \"2013-04-21\", \"2013-04-28\", \"2013-05-05\", \"2013-05-12\", \"2013-05-19\", \"2013-05-26\", \"2013-06-02\", \"2013-06-09\", \"2013-06-16\", \"2013-06-23\", \"2013-06-30\", \"2013-07-07\", \"2013-07-14\", \"2013-07-21\", \"2013-07-28\", \"2013-08-04\", \"2013-08-11\", \"2013-08-18\", \"2013-08-25\", \"2013-09-01\", \"2013-09-08\", \"2013-09-15\", \"2013-09-22\", \"2013-09-29\", \"2013-10-06\", \"2013-10-13\", \"2013-10-20\", \"2013-10-27\", \"2013-11-03\", \"2013-11-10\", \"2013-11-17\", \"2013-11-24\", \"2013-12-01\", \"2013-12-08\", \"2013-12-15\", \"2013-12-22\", \"2013-12-29\", \"2014-01-05\", \"2014-01-12\", \"2014-01-19\", \"2014-01-26\", \"2014-02-02\", \"2014-02-09\", \"2014-02-16\", \"2014-02-23\", \"2014-03-02\", \"2014-03-09\", \"2014-03-16\", \"2014-03-23\", \"2014-03-30\", \"2014-04-06\", \"2014-04-13\", \"2014-04-20\", \"2014-04-27\", \"2014-05-04\", \"2014-05-11\", \"2014-05-18\", \"2014-05-25\", \"2014-06-01\", \"2014-06-08\", \"2014-06-15\", \"2014-06-22\", \"2014-06-29\", \"2014-07-06\", \"2014-07-13\", \"2014-07-20\", \"2014-07-27\", \"2014-08-03\", \"2014-08-10\", \"2014-08-17\", \"2014-08-24\", \"2014-08-31\", \"2014-09-07\", \"2014-09-14\", \"2014-09-21\", \"2014-09-28\", \"2014-10-05\", \"2014-10-12\", \"2014-10-19\", \"2014-10-26\", \"2014-11-02\", \"2014-11-09\", \"2014-11-16\", \"2014-11-23\", \"2014-11-30\", \"2014-12-07\", \"2014-12-14\", \"2014-12-21\", \"2014-12-28\", \"2015-01-04\", \"2015-01-11\", \"2015-01-18\", \"2015-01-25\", \"2015-02-01\", \"2015-02-08\", \"2015-02-15\", \"2015-02-22\", \"2015-03-01\", \"2015-03-08\", \"2015-03-15\", \"2015-03-22\", \"2015-03-29\", \"2015-04-05\", \"2015-04-12\", \"2015-04-19\", \"2015-04-26\", \"2015-05-03\", \"2015-05-10\", \"2015-05-17\", \"2015-05-24\", \"2015-05-31\", \"2015-06-07\", \"2015-06-14\", \"2015-06-21\", \"2015-06-28\", \"2015-07-05\", \"2015-07-12\", \"2015-07-19\", \"2015-07-26\", \"2015-08-02\", \"2015-08-09\", \"2015-08-16\", \"2015-08-23\", \"2015-08-30\", \"2015-09-06\", \"2015-09-13\", \"2015-09-20\", \"2015-09-27\", \"2015-10-04\", \"2015-10-11\", \"2015-10-18\", \"2015-10-25\", \"2015-11-01\", \"2015-11-08\", \"2015-11-15\", \"2015-11-22\", \"2015-11-29\", \"2015-12-06\", \"2015-12-13\", \"2015-12-20\", \"2015-12-27\", \"2016-01-03\", \"2016-01-10\", \"2016-01-17\", \"2016-01-24\", \"2016-01-31\", \"2016-02-07\", \"2016-02-14\", \"2016-02-21\", \"2016-02-28\", \"2016-03-06\", \"2016-03-13\", \"2016-03-20\", \"2016-03-27\", \"2016-04-03\", \"2016-04-10\", \"2016-04-17\", \"2016-04-24\", \"2016-05-01\", \"2016-05-08\", \"2016-05-15\", \"2016-05-22\", \"2016-05-29\", \"2016-06-05\", \"2016-06-12\", \"2016-06-19\", \"2016-06-26\", \"2016-07-03\", \"2016-07-10\", \"2016-07-17\", \"2016-07-24\", \"2016-07-31\", \"2016-08-07\", \"2016-08-14\", \"2016-08-21\", \"2016-08-28\", \"2016-09-04\", \"2016-09-11\", \"2016-09-18\", \"2016-09-25\", \"2016-10-02\", \"2016-10-09\", \"2016-10-16\", \"2016-10-23\", \"2016-10-30\", \"2016-11-06\", \"2016-11-13\", \"2016-11-20\", \"2016-11-27\", \"2016-12-04\", \"2016-12-11\", \"2016-12-18\", \"2016-12-25\", \"2017-01-01\", \"2017-01-08\", \"2017-01-15\", \"2017-01-22\", \"2017-01-29\", \"2017-02-05\", \"2017-02-12\", \"2017-02-19\", \"2017-02-26\", \"2017-03-05\", \"2017-03-12\", \"2017-03-19\", \"2017-03-26\", \"2017-04-02\", \"2017-04-09\", \"2017-04-16\", \"2017-04-23\", \"2017-04-30\", \"2017-05-07\", \"2017-05-14\", \"2017-05-21\", \"2017-05-28\", \"2017-06-04\", \"2017-06-11\", \"2017-06-18\", \"2017-06-25\", \"2017-07-02\", \"2017-07-09\", \"2017-07-16\", \"2017-07-23\", \"2017-07-30\", \"2017-08-06\", \"2017-08-13\", \"2017-08-20\", \"2017-08-27\", \"2017-09-03\", \"2017-09-10\", \"2017-09-17\", \"2017-09-24\", \"2017-10-01\", \"2017-10-08\", \"2017-10-15\", \"2017-10-22\", \"2017-10-29\", \"2017-11-05\", \"2017-11-12\", \"2017-11-19\", \"2017-11-26\", \"2017-12-03\", \"2017-12-10\", \"2017-12-17\", \"2017-12-24\", \"2017-12-31\", \"2018-01-07\", \"2018-01-14\", \"2018-01-21\", \"2018-01-28\", \"2018-02-04\", \"2018-02-11\", \"2018-02-18\", \"2018-02-25\", \"2018-03-04\", \"2018-03-11\", \"2018-03-18\", \"2018-03-25\", \"2018-04-01\", \"2018-04-08\", \"2018-04-15\", \"2018-04-22\", \"2018-04-29\", \"2018-05-06\", \"2018-05-13\", \"2018-05-20\", \"2018-05-27\", \"2018-06-03\", \"2018-06-10\", \"2018-06-17\", \"2018-06-24\", \"2018-07-01\", \"2018-07-08\", \"2018-07-15\", \"2018-07-22\", \"2018-07-29\", \"2018-08-05\", \"2018-08-12\", \"2018-08-19\", \"2018-08-26\", \"2018-09-02\", \"2018-09-09\", \"2018-09-16\", \"2018-09-23\", \"2018-09-30\", \"2018-10-07\", \"2018-10-14\", \"2018-10-21\", \"2018-10-28\", \"2018-11-04\", \"2018-11-11\", \"2018-11-18\", \"2018-11-25\", \"2018-12-02\", \"2018-12-09\", \"2018-12-16\", \"2018-12-23\", \"2018-12-30\", \"2019-01-06\", \"2019-01-13\", \"2019-01-20\", \"2019-01-27\", \"2019-02-03\", \"2019-02-10\", \"2019-02-17\", \"2019-02-24\", \"2019-03-03\", \"2019-03-10\", \"2019-03-17\", \"2019-03-24\", \"2019-03-31\", \"2019-04-07\", \"2019-04-14\", \"2019-04-21\", \"2019-04-28\", \"2019-05-05\", \"2019-05-12\", \"2019-05-19\", \"2019-05-26\", \"2019-06-02\", \"2019-06-09\", \"2019-06-16\", \"2019-06-23\", \"2019-06-30\", \"2019-07-07\", \"2019-07-14\", \"2019-07-21\", \"2019-07-28\", \"2019-08-04\", \"2019-08-11\", \"2019-08-18\", \"2019-08-25\", \"2019-09-01\", \"2019-09-08\", \"2019-09-15\", \"2019-09-22\", \"2019-09-29\", \"2019-10-06\", \"2019-10-13\", \"2019-10-20\", \"2019-10-27\", \"2019-11-03\", \"2019-11-10\", \"2019-11-17\", \"2019-11-24\", \"2019-12-01\", \"2019-12-08\", \"2019-12-15\", \"2019-12-22\", \"2019-12-29\", \"2020-01-05\", \"2020-01-12\", \"2020-01-19\", \"2020-01-26\", \"2020-02-02\", \"2020-02-09\", \"2020-02-16\", \"2020-02-23\", \"2020-03-01\", \"2020-03-08\", \"2020-03-15\", \"2020-03-22\", \"2020-03-29\", \"2020-04-05\", \"2020-04-12\", \"2020-04-19\", \"2020-04-26\", \"2020-05-03\", \"2020-05-10\", \"2020-05-17\", \"2020-05-24\", \"2020-05-31\", \"2020-06-07\", \"2020-06-14\", \"2020-06-21\", \"2020-06-28\", \"2020-07-05\", \"2020-07-12\", \"2020-07-19\"], \"y\": [93.86, 108.69, 93.62, 120.88, 100.43, 105.46, 96.03, 121.21, 95.05, 94.82, 117.11, 113.48, 106.93, 117.38, 107.06, 113.39, 111.08, 111.04, 114.1, 100.52, 112.74, 101.59, 92.27, 116.61, 94.65, 116.11, 94.37, 102.22, 96.57, 106.62, 89.11, 105.79, 96.28, 108.89, 94.35, 104.74, 90.09, 91.76, 116.29, 96.12, 118.51, 108.79, 115.43, 103.25, 110.87, 96.65, 116.68, 108.92, 107.68, 126.54, 112.01, 130.57, 81.12, 99.75, 86.07, 106.64, 89.29, 93.84, 88.75, 106.39, 94.59, 107.53, 91.31, 94.79, 123.82, 99.16, 98.48, 117.44, 107.9, 109.1, 114.68, 93.26, 114.12, 92.58, 97.44, 116.08, 91.87, 111.57, 88.28, 105.15, 95.8, 105.71, 84.8, 98.14, 93.55, 98.31, 89.86, 98.97, 84.65, 88.35, 125.89, 89.97, 95.32, 103.14, 112.13, 94.95, 108.48, 94.49, 119.11, 105.46, 108.83, 116.73, 106.65, 125.42, 89.97, 95.77, 92.18, 109.89, 87.7, 87.08, 91.65, 126.37, 102.0, 143.63, 122.01, 170.32, 206.99, 104.82, 76.75, 89.85, 86.79, 88.49, 102.52, 86.69, 98.13, 87.31, 84.66, 105.76, 86.11, 106.49, 87.36, 104.05, 94.27, 106.52, 86.0, 90.11, 95.15, 94.65, 92.14, 98.67, 88.02, 94.92, 122.32, 87.04, 103.51, 100.6, 112.59, 90.72, 109.65, 97.89, 108.36, 101.43, 109.57, 111.12, 117.96, 121.08, 94.07, 93.12, 86.23, 98.43, 85.54, 98.06, 94.6, 106.57, 86.56, 97.63, 92.31, 115.99, 108.55, 103.0, 91.49, 108.18, 103.14, 100.91, 116.33, 95.39, 107.82, 99.24, 110.51, 88.27, 115.35, 91.73, 89.7, 106.04, 91.87, 108.25, 91.21, 100.02, 96.44, 96.59, 90.53, 100.94, 85.51, 90.32, 130.66, 91.14, 104.74, 105.64, 113.5, 98.27, 108.61, 90.14, 95.46, 95.84, 107.94, 104.51, 114.95, 108.1, 94.9, 94.45, 90.82, 87.49, 88.27, 96.15, 84.04, 102.15, 84.4, 94.99, 80.46, 121.62, 107.69, 98.49, 87.29, 103.39, 98.98, 93.05, 111.71, 89.75, 103.69, 88.33, 106.31, 83.98, 103.94, 85.89, 85.74, 105.02, 85.89, 103.45, 85.66, 98.1, 88.25, 104.35, 83.16, 97.18, 82.75, 80.05, 126.74, 81.69, 96.87, 99.53, 101.64, 90.47, 111.52, 91.1, 100.75, 90.93, 101.73, 103.43, 108.38, 106.13, 100.65, 85.3, 82.29, 93.78, 82.33, 95.43, 77.56, 101.34, 82.11, 96.31, 81.0, 121.77, 102.75, 97.49, 84.81, 104.56, 83.61, 88.89, 96.04, 93.97, 89.22, 103.13, 97.23, 84.42, 109.01, 91.32, 83.46, 100.79, 85.93, 100.0, 81.12, 96.79, 86.39, 103.95, 85.57, 96.98, 84.21, 107.52, 110.49, 88.33, 96.67, 87.12, 91.99, 90.45, 113.54, 89.43, 100.86, 98.8, 100.44, 98.07, 109.72, 102.97, 111.31, 81.36, 79.28, 99.91, 73.75, 97.04, 76.69, 96.78, 80.66, 95.21, 74.24, 119.06, 95.16, 96.05, 85.68, 107.02, 87.27, 101.44, 95.21, 91.09, 84.97, 97.06, 90.48, 80.79, 102.33, 90.46, 85.31, 91.24, 86.82, 100.2, 77.59, 95.58, 81.04, 100.78, 79.03, 92.62, 72.45, 87.2, 116.38, 91.17, 88.14, 77.78, 103.58, 82.25, 101.34, 74.9, 95.35, 78.16, 91.43, 82.01, 96.22, 93.27, 103.56, 72.07, 76.16, 87.09, 72.33, 87.78, 69.52, 93.88, 79.05, 89.8, 71.18, 116.77, 97.1, 101.93, 82.61, 92.94, 92.56, 97.2, 89.11, 100.27, 84.39, 91.16, 97.39, 78.61, 98.08, 89.92, 77.49, 78.7, 75.41, 78.73, 77.16, 81.41, 78.03, 83.18, 78.8, 81.29, 83.38, 89.22, 99.61, 142.3, 81.31, 57.86, 76.67, 72.77, 75.91, 79.67, 78.93, 73.65, 79.11, 80.49, 87.29, 81.73, 91.76, 76.65, 68.96, 78.79, 77.95, 78.38, 74.2, 80.74, 79.14, 98.92, 79.06, 78.68, 79.77, 81.72, 88.91, 85.66, 86.76, 83.62, 87.05, 80.22, 76.07, 71.03, 76.77, 75.67, 71.19, 80.1, 73.69, 69.34, 67.03, 74.17]}, {\"mode\": \"lines\", \"name\": \"\\u30c9\\u30e9\\u30c3\\u30b0\\u30b9\\u30c8\\u30a2\", \"type\": \"scatter\", \"x\": [\"2012-01-08\", \"2012-01-15\", \"2012-01-22\", \"2012-01-29\", \"2012-02-05\", \"2012-02-12\", \"2012-02-19\", \"2012-02-26\", \"2012-03-04\", \"2012-03-11\", \"2012-03-18\", \"2012-03-25\", \"2012-04-01\", \"2012-04-08\", \"2012-04-15\", \"2012-04-22\", \"2012-04-29\", \"2012-05-06\", \"2012-05-13\", \"2012-05-20\", \"2012-05-27\", \"2012-06-03\", \"2012-06-10\", \"2012-06-17\", \"2012-06-24\", \"2012-07-01\", \"2012-07-08\", \"2012-07-15\", \"2012-07-22\", \"2012-07-29\", \"2012-08-05\", \"2012-08-12\", \"2012-08-19\", \"2012-08-26\", \"2012-09-02\", \"2012-09-09\", \"2012-09-16\", \"2012-09-23\", \"2012-09-30\", \"2012-10-07\", \"2012-10-14\", \"2012-10-21\", \"2012-10-28\", \"2012-11-04\", \"2012-11-11\", \"2012-11-18\", \"2012-11-25\", \"2012-12-02\", \"2012-12-09\", \"2012-12-16\", \"2012-12-23\", \"2012-12-30\", \"2013-01-06\", \"2013-01-13\", \"2013-01-20\", \"2013-01-27\", \"2013-02-03\", \"2013-02-10\", \"2013-02-17\", \"2013-02-24\", \"2013-03-03\", \"2013-03-10\", \"2013-03-17\", \"2013-03-24\", \"2013-03-31\", \"2013-04-07\", \"2013-04-14\", \"2013-04-21\", \"2013-04-28\", \"2013-05-05\", \"2013-05-12\", \"2013-05-19\", \"2013-05-26\", \"2013-06-02\", \"2013-06-09\", \"2013-06-16\", \"2013-06-23\", \"2013-06-30\", \"2013-07-07\", \"2013-07-14\", \"2013-07-21\", \"2013-07-28\", \"2013-08-04\", \"2013-08-11\", \"2013-08-18\", \"2013-08-25\", \"2013-09-01\", \"2013-09-08\", \"2013-09-15\", \"2013-09-22\", \"2013-09-29\", \"2013-10-06\", \"2013-10-13\", \"2013-10-20\", \"2013-10-27\", \"2013-11-03\", \"2013-11-10\", \"2013-11-17\", \"2013-11-24\", \"2013-12-01\", \"2013-12-08\", \"2013-12-15\", \"2013-12-22\", \"2013-12-29\", \"2014-01-05\", \"2014-01-12\", \"2014-01-19\", \"2014-01-26\", \"2014-02-02\", \"2014-02-09\", \"2014-02-16\", \"2014-02-23\", \"2014-03-02\", \"2014-03-09\", \"2014-03-16\", \"2014-03-23\", \"2014-03-30\", \"2014-04-06\", \"2014-04-13\", \"2014-04-20\", \"2014-04-27\", \"2014-05-04\", \"2014-05-11\", \"2014-05-18\", \"2014-05-25\", \"2014-06-01\", \"2014-06-08\", \"2014-06-15\", \"2014-06-22\", \"2014-06-29\", \"2014-07-06\", \"2014-07-13\", \"2014-07-20\", \"2014-07-27\", \"2014-08-03\", \"2014-08-10\", \"2014-08-17\", \"2014-08-24\", \"2014-08-31\", \"2014-09-07\", \"2014-09-14\", \"2014-09-21\", \"2014-09-28\", \"2014-10-05\", \"2014-10-12\", \"2014-10-19\", \"2014-10-26\", \"2014-11-02\", \"2014-11-09\", \"2014-11-16\", \"2014-11-23\", \"2014-11-30\", \"2014-12-07\", \"2014-12-14\", \"2014-12-21\", \"2014-12-28\", \"2015-01-04\", \"2015-01-11\", \"2015-01-18\", \"2015-01-25\", \"2015-02-01\", \"2015-02-08\", \"2015-02-15\", \"2015-02-22\", \"2015-03-01\", \"2015-03-08\", \"2015-03-15\", \"2015-03-22\", \"2015-03-29\", \"2015-04-05\", \"2015-04-12\", \"2015-04-19\", \"2015-04-26\", \"2015-05-03\", \"2015-05-10\", \"2015-05-17\", \"2015-05-24\", \"2015-05-31\", \"2015-06-07\", \"2015-06-14\", \"2015-06-21\", \"2015-06-28\", \"2015-07-05\", \"2015-07-12\", \"2015-07-19\", \"2015-07-26\", \"2015-08-02\", \"2015-08-09\", \"2015-08-16\", \"2015-08-23\", \"2015-08-30\", \"2015-09-06\", \"2015-09-13\", \"2015-09-20\", \"2015-09-27\", \"2015-10-04\", \"2015-10-11\", \"2015-10-18\", \"2015-10-25\", \"2015-11-01\", \"2015-11-08\", \"2015-11-15\", \"2015-11-22\", \"2015-11-29\", \"2015-12-06\", \"2015-12-13\", \"2015-12-20\", \"2015-12-27\", \"2016-01-03\", \"2016-01-10\", \"2016-01-17\", \"2016-01-24\", \"2016-01-31\", \"2016-02-07\", \"2016-02-14\", \"2016-02-21\", \"2016-02-28\", \"2016-03-06\", \"2016-03-13\", \"2016-03-20\", \"2016-03-27\", \"2016-04-03\", \"2016-04-10\", \"2016-04-17\", \"2016-04-24\", \"2016-05-01\", \"2016-05-08\", \"2016-05-15\", \"2016-05-22\", \"2016-05-29\", \"2016-06-05\", \"2016-06-12\", \"2016-06-19\", \"2016-06-26\", \"2016-07-03\", \"2016-07-10\", \"2016-07-17\", \"2016-07-24\", \"2016-07-31\", \"2016-08-07\", \"2016-08-14\", \"2016-08-21\", \"2016-08-28\", \"2016-09-04\", \"2016-09-11\", \"2016-09-18\", \"2016-09-25\", \"2016-10-02\", \"2016-10-09\", \"2016-10-16\", \"2016-10-23\", \"2016-10-30\", \"2016-11-06\", \"2016-11-13\", \"2016-11-20\", \"2016-11-27\", \"2016-12-04\", \"2016-12-11\", \"2016-12-18\", \"2016-12-25\", \"2017-01-01\", \"2017-01-08\", \"2017-01-15\", \"2017-01-22\", \"2017-01-29\", \"2017-02-05\", \"2017-02-12\", \"2017-02-19\", \"2017-02-26\", \"2017-03-05\", \"2017-03-12\", \"2017-03-19\", \"2017-03-26\", \"2017-04-02\", \"2017-04-09\", \"2017-04-16\", \"2017-04-23\", \"2017-04-30\", \"2017-05-07\", \"2017-05-14\", \"2017-05-21\", \"2017-05-28\", \"2017-06-04\", \"2017-06-11\", \"2017-06-18\", \"2017-06-25\", \"2017-07-02\", \"2017-07-09\", \"2017-07-16\", \"2017-07-23\", \"2017-07-30\", \"2017-08-06\", \"2017-08-13\", \"2017-08-20\", \"2017-08-27\", \"2017-09-03\", \"2017-09-10\", \"2017-09-17\", \"2017-09-24\", \"2017-10-01\", \"2017-10-08\", \"2017-10-15\", \"2017-10-22\", \"2017-10-29\", \"2017-11-05\", \"2017-11-12\", \"2017-11-19\", \"2017-11-26\", \"2017-12-03\", \"2017-12-10\", \"2017-12-17\", \"2017-12-24\", \"2017-12-31\", \"2018-01-07\", \"2018-01-14\", \"2018-01-21\", \"2018-01-28\", \"2018-02-04\", \"2018-02-11\", \"2018-02-18\", \"2018-02-25\", \"2018-03-04\", \"2018-03-11\", \"2018-03-18\", \"2018-03-25\", \"2018-04-01\", \"2018-04-08\", \"2018-04-15\", \"2018-04-22\", \"2018-04-29\", \"2018-05-06\", \"2018-05-13\", \"2018-05-20\", \"2018-05-27\", \"2018-06-03\", \"2018-06-10\", \"2018-06-17\", \"2018-06-24\", \"2018-07-01\", \"2018-07-08\", \"2018-07-15\", \"2018-07-22\", \"2018-07-29\", \"2018-08-05\", \"2018-08-12\", \"2018-08-19\", \"2018-08-26\", \"2018-09-02\", \"2018-09-09\", \"2018-09-16\", \"2018-09-23\", \"2018-09-30\", \"2018-10-07\", \"2018-10-14\", \"2018-10-21\", \"2018-10-28\", \"2018-11-04\", \"2018-11-11\", \"2018-11-18\", \"2018-11-25\", \"2018-12-02\", \"2018-12-09\", \"2018-12-16\", \"2018-12-23\", \"2018-12-30\", \"2019-01-06\", \"2019-01-13\", \"2019-01-20\", \"2019-01-27\", \"2019-02-03\", \"2019-02-10\", \"2019-02-17\", \"2019-02-24\", \"2019-03-03\", \"2019-03-10\", \"2019-03-17\", \"2019-03-24\", \"2019-03-31\", \"2019-04-07\", \"2019-04-14\", \"2019-04-21\", \"2019-04-28\", \"2019-05-05\", \"2019-05-12\", \"2019-05-19\", \"2019-05-26\", \"2019-06-02\", \"2019-06-09\", \"2019-06-16\", \"2019-06-23\", \"2019-06-30\", \"2019-07-07\", \"2019-07-14\", \"2019-07-21\", \"2019-07-28\", \"2019-08-04\", \"2019-08-11\", \"2019-08-18\", \"2019-08-25\", \"2019-09-01\", \"2019-09-08\", \"2019-09-15\", \"2019-09-22\", \"2019-09-29\", \"2019-10-06\", \"2019-10-13\", \"2019-10-20\", \"2019-10-27\", \"2019-11-03\", \"2019-11-10\", \"2019-11-17\", \"2019-11-24\", \"2019-12-01\", \"2019-12-08\", \"2019-12-15\", \"2019-12-22\", \"2019-12-29\", \"2020-01-05\", \"2020-01-12\", \"2020-01-19\", \"2020-01-26\", \"2020-02-02\", \"2020-02-09\", \"2020-02-16\", \"2020-02-23\", \"2020-03-01\", \"2020-03-08\", \"2020-03-15\", \"2020-03-22\", \"2020-03-29\", \"2020-04-05\", \"2020-04-12\", \"2020-04-19\", \"2020-04-26\", \"2020-05-03\", \"2020-05-10\", \"2020-05-17\", \"2020-05-24\", \"2020-05-31\", \"2020-06-07\", \"2020-06-14\", \"2020-06-21\", \"2020-06-28\", \"2020-07-05\", \"2020-07-12\", \"2020-07-19\", \"2012-01-08\", \"2012-01-15\", \"2012-01-22\", \"2012-01-29\", \"2012-02-05\", \"2012-02-12\", \"2012-02-19\", \"2012-02-26\", \"2012-03-04\", \"2012-03-11\", \"2012-03-18\", \"2012-03-25\", \"2012-04-01\", \"2012-04-08\", \"2012-04-15\", \"2012-04-22\", \"2012-04-29\", \"2012-05-06\", \"2012-05-13\", \"2012-05-20\", \"2012-05-27\", \"2012-06-03\", \"2012-06-10\", \"2012-06-17\", \"2012-06-24\", \"2012-07-01\", \"2012-07-08\", \"2012-07-15\", \"2012-07-22\", \"2012-07-29\", \"2012-08-05\", \"2012-08-12\", \"2012-08-19\", \"2012-08-26\", \"2012-09-02\", \"2012-09-09\", \"2012-09-16\", \"2012-09-23\", \"2012-09-30\", \"2012-10-07\", \"2012-10-14\", \"2012-10-21\", \"2012-10-28\", \"2012-11-04\", \"2012-11-11\", \"2012-11-18\", \"2012-11-25\", \"2012-12-02\", \"2012-12-09\", \"2012-12-16\", \"2012-12-23\", \"2012-12-30\", \"2013-01-06\", \"2013-01-13\", \"2013-01-20\", \"2013-01-27\", \"2013-02-03\", \"2013-02-10\", \"2013-02-17\", \"2013-02-24\", \"2013-03-03\", \"2013-03-10\", \"2013-03-17\", \"2013-03-24\", \"2013-03-31\", \"2013-04-07\", \"2013-04-14\", \"2013-04-21\", \"2013-04-28\", \"2013-05-05\", \"2013-05-12\", \"2013-05-19\", \"2013-05-26\", \"2013-06-02\", \"2013-06-09\", \"2013-06-16\", \"2013-06-23\", \"2013-06-30\", \"2013-07-07\", \"2013-07-14\", \"2013-07-21\", \"2013-07-28\", \"2013-08-04\", \"2013-08-11\", \"2013-08-18\", \"2013-08-25\", \"2013-09-01\", \"2013-09-08\", \"2013-09-15\", \"2013-09-22\", \"2013-09-29\", \"2013-10-06\", \"2013-10-13\", \"2013-10-20\", \"2013-10-27\", \"2013-11-03\", \"2013-11-10\", \"2013-11-17\", \"2013-11-24\", \"2013-12-01\", \"2013-12-08\", \"2013-12-15\", \"2013-12-22\", \"2013-12-29\", \"2014-01-05\", \"2014-01-12\", \"2014-01-19\", \"2014-01-26\", \"2014-02-02\", \"2014-02-09\", \"2014-02-16\", \"2014-02-23\", \"2014-03-02\", \"2014-03-09\", \"2014-03-16\", \"2014-03-23\", \"2014-03-30\", \"2014-04-06\", \"2014-04-13\", \"2014-04-20\", \"2014-04-27\", \"2014-05-04\", \"2014-05-11\", \"2014-05-18\", \"2014-05-25\", \"2014-06-01\", \"2014-06-08\", \"2014-06-15\", \"2014-06-22\", \"2014-06-29\", \"2014-07-06\", \"2014-07-13\", \"2014-07-20\", \"2014-07-27\", \"2014-08-03\", \"2014-08-10\", \"2014-08-17\", \"2014-08-24\", \"2014-08-31\", \"2014-09-07\", \"2014-09-14\", \"2014-09-21\", \"2014-09-28\", \"2014-10-05\", \"2014-10-12\", \"2014-10-19\", \"2014-10-26\", \"2014-11-02\", \"2014-11-09\", \"2014-11-16\", \"2014-11-23\", \"2014-11-30\", \"2014-12-07\", \"2014-12-14\", \"2014-12-21\", \"2014-12-28\", \"2015-01-04\", \"2015-01-11\", \"2015-01-18\", \"2015-01-25\", \"2015-02-01\", \"2015-02-08\", \"2015-02-15\", \"2015-02-22\", \"2015-03-01\", \"2015-03-08\", \"2015-03-15\", \"2015-03-22\", \"2015-03-29\", \"2015-04-05\", \"2015-04-12\", \"2015-04-19\", \"2015-04-26\", \"2015-05-03\", \"2015-05-10\", \"2015-05-17\", \"2015-05-24\", \"2015-05-31\", \"2015-06-07\", \"2015-06-14\", \"2015-06-21\", \"2015-06-28\", \"2015-07-05\", \"2015-07-12\", \"2015-07-19\", \"2015-07-26\", \"2015-08-02\", \"2015-08-09\", \"2015-08-16\", \"2015-08-23\", \"2015-08-30\", \"2015-09-06\", \"2015-09-13\", \"2015-09-20\", \"2015-09-27\", \"2015-10-04\", \"2015-10-11\", \"2015-10-18\", \"2015-10-25\", \"2015-11-01\", \"2015-11-08\", \"2015-11-15\", \"2015-11-22\", \"2015-11-29\", \"2015-12-06\", \"2015-12-13\", \"2015-12-20\", \"2015-12-27\", \"2016-01-03\", \"2016-01-10\", \"2016-01-17\", \"2016-01-24\", \"2016-01-31\", \"2016-02-07\", \"2016-02-14\", \"2016-02-21\", \"2016-02-28\", \"2016-03-06\", \"2016-03-13\", \"2016-03-20\", \"2016-03-27\", \"2016-04-03\", \"2016-04-10\", \"2016-04-17\", \"2016-04-24\", \"2016-05-01\", \"2016-05-08\", \"2016-05-15\", \"2016-05-22\", \"2016-05-29\", \"2016-06-05\", \"2016-06-12\", \"2016-06-19\", \"2016-06-26\", \"2016-07-03\", \"2016-07-10\", \"2016-07-17\", \"2016-07-24\", \"2016-07-31\", \"2016-08-07\", \"2016-08-14\", \"2016-08-21\", \"2016-08-28\", \"2016-09-04\", \"2016-09-11\", \"2016-09-18\", \"2016-09-25\", \"2016-10-02\", \"2016-10-09\", \"2016-10-16\", \"2016-10-23\", \"2016-10-30\", \"2016-11-06\", \"2016-11-13\", \"2016-11-20\", \"2016-11-27\", \"2016-12-04\", \"2016-12-11\", \"2016-12-18\", \"2016-12-25\", \"2017-01-01\", \"2017-01-08\", \"2017-01-15\", \"2017-01-22\", \"2017-01-29\", \"2017-02-05\", \"2017-02-12\", \"2017-02-19\", \"2017-02-26\", \"2017-03-05\", \"2017-03-12\", \"2017-03-19\", \"2017-03-26\", \"2017-04-02\", \"2017-04-09\", \"2017-04-16\", \"2017-04-23\", \"2017-04-30\", \"2017-05-07\", \"2017-05-14\", \"2017-05-21\", \"2017-05-28\", \"2017-06-04\", \"2017-06-11\", \"2017-06-18\", \"2017-06-25\", \"2017-07-02\", \"2017-07-09\", \"2017-07-16\", \"2017-07-23\", \"2017-07-30\", \"2017-08-06\", \"2017-08-13\", \"2017-08-20\", \"2017-08-27\", \"2017-09-03\", \"2017-09-10\", \"2017-09-17\", \"2017-09-24\", \"2017-10-01\", \"2017-10-08\", \"2017-10-15\", \"2017-10-22\", \"2017-10-29\", \"2017-11-05\", \"2017-11-12\", \"2017-11-19\", \"2017-11-26\", \"2017-12-03\", \"2017-12-10\", \"2017-12-17\", \"2017-12-24\", \"2017-12-31\", \"2018-01-07\", \"2018-01-14\", \"2018-01-21\", \"2018-01-28\", \"2018-02-04\", \"2018-02-11\", \"2018-02-18\", \"2018-02-25\", \"2018-03-04\", \"2018-03-11\", \"2018-03-18\", \"2018-03-25\", \"2018-04-01\", \"2018-04-08\", \"2018-04-15\", \"2018-04-22\", \"2018-04-29\", \"2018-05-06\", \"2018-05-13\", \"2018-05-20\", \"2018-05-27\", \"2018-06-03\", \"2018-06-10\", \"2018-06-17\", \"2018-06-24\", \"2018-07-01\", \"2018-07-08\", \"2018-07-15\", \"2018-07-22\", \"2018-07-29\", \"2018-08-05\", \"2018-08-12\", \"2018-08-19\", \"2018-08-26\", \"2018-09-02\", \"2018-09-09\", \"2018-09-16\", \"2018-09-23\", \"2018-09-30\", \"2018-10-07\", \"2018-10-14\", \"2018-10-21\", \"2018-10-28\", \"2018-11-04\", \"2018-11-11\", \"2018-11-18\", \"2018-11-25\", \"2018-12-02\", \"2018-12-09\", \"2018-12-16\", \"2018-12-23\", \"2018-12-30\", \"2019-01-06\", \"2019-01-13\", \"2019-01-20\", \"2019-01-27\", \"2019-02-03\", \"2019-02-10\", \"2019-02-17\", \"2019-02-24\", \"2019-03-03\", \"2019-03-10\", \"2019-03-17\", \"2019-03-24\", \"2019-03-31\", \"2019-04-07\", \"2019-04-14\", \"2019-04-21\", \"2019-04-28\", \"2019-05-05\", \"2019-05-12\", \"2019-05-19\", \"2019-05-26\", \"2019-06-02\", \"2019-06-09\", \"2019-06-16\", \"2019-06-23\", \"2019-06-30\", \"2019-07-07\", \"2019-07-14\", \"2019-07-21\", \"2019-07-28\", \"2019-08-04\", \"2019-08-11\", \"2019-08-18\", \"2019-08-25\", \"2019-09-01\", \"2019-09-08\", \"2019-09-15\", \"2019-09-22\", \"2019-09-29\", \"2019-10-06\", \"2019-10-13\", \"2019-10-20\", \"2019-10-27\", \"2019-11-03\", \"2019-11-10\", \"2019-11-17\", \"2019-11-24\", \"2019-12-01\", \"2019-12-08\", \"2019-12-15\", \"2019-12-22\", \"2019-12-29\", \"2020-01-05\", \"2020-01-12\", \"2020-01-19\", \"2020-01-26\", \"2020-02-02\", \"2020-02-09\", \"2020-02-16\", \"2020-02-23\", \"2020-03-01\", \"2020-03-08\", \"2020-03-15\", \"2020-03-22\", \"2020-03-29\", \"2020-04-05\", \"2020-04-12\", \"2020-04-19\", \"2020-04-26\", \"2020-05-03\", \"2020-05-10\", \"2020-05-17\", \"2020-05-24\", \"2020-05-31\", \"2020-06-07\", \"2020-06-14\", \"2020-06-21\", \"2020-06-28\", \"2020-07-05\", \"2020-07-12\", \"2020-07-19\", \"2012-01-08\", \"2012-01-15\", \"2012-01-22\", \"2012-01-29\", \"2012-02-05\", \"2012-02-12\", \"2012-02-19\", \"2012-02-26\", \"2012-03-04\", \"2012-03-11\", \"2012-03-18\", \"2012-03-25\", \"2012-04-01\", \"2012-04-08\", \"2012-04-15\", \"2012-04-22\", \"2012-04-29\", \"2012-05-06\", \"2012-05-13\", \"2012-05-20\", \"2012-05-27\", \"2012-06-03\", \"2012-06-10\", \"2012-06-17\", \"2012-06-24\", \"2012-07-01\", \"2012-07-08\", \"2012-07-15\", \"2012-07-22\", \"2012-07-29\", \"2012-08-05\", \"2012-08-12\", \"2012-08-19\", \"2012-08-26\", \"2012-09-02\", \"2012-09-09\", \"2012-09-16\", \"2012-09-23\", \"2012-09-30\", \"2012-10-07\", \"2012-10-14\", \"2012-10-21\", \"2012-10-28\", \"2012-11-04\", \"2012-11-11\", \"2012-11-18\", \"2012-11-25\", \"2012-12-02\", \"2012-12-09\", \"2012-12-16\", \"2012-12-23\", \"2012-12-30\", \"2013-01-06\", \"2013-01-13\", \"2013-01-20\", \"2013-01-27\", \"2013-02-03\", \"2013-02-10\", \"2013-02-17\", \"2013-02-24\", \"2013-03-03\", \"2013-03-10\", \"2013-03-17\", \"2013-03-24\", \"2013-03-31\", \"2013-04-07\", \"2013-04-14\", \"2013-04-21\", \"2013-04-28\", \"2013-05-05\", \"2013-05-12\", \"2013-05-19\", \"2013-05-26\", \"2013-06-02\", \"2013-06-09\", \"2013-06-16\", \"2013-06-23\", \"2013-06-30\", \"2013-07-07\", \"2013-07-14\", \"2013-07-21\", \"2013-07-28\", \"2013-08-04\", \"2013-08-11\", \"2013-08-18\", \"2013-08-25\", \"2013-09-01\", \"2013-09-08\", \"2013-09-15\", \"2013-09-22\", \"2013-09-29\", \"2013-10-06\", \"2013-10-13\", \"2013-10-20\", \"2013-10-27\", \"2013-11-03\", \"2013-11-10\", \"2013-11-17\", \"2013-11-24\", \"2013-12-01\", \"2013-12-08\", \"2013-12-15\", \"2013-12-22\", \"2013-12-29\", \"2014-01-05\", \"2014-01-12\", \"2014-01-19\", \"2014-01-26\", \"2014-02-02\", \"2014-02-09\", \"2014-02-16\", \"2014-02-23\", \"2014-03-02\", \"2014-03-09\", \"2014-03-16\", \"2014-03-23\", \"2014-03-30\", \"2014-04-06\", \"2014-04-13\", \"2014-04-20\", \"2014-04-27\", \"2014-05-04\", \"2014-05-11\", \"2014-05-18\", \"2014-05-25\", \"2014-06-01\", \"2014-06-08\", \"2014-06-15\", \"2014-06-22\", \"2014-06-29\", \"2014-07-06\", \"2014-07-13\", \"2014-07-20\", \"2014-07-27\", \"2014-08-03\", \"2014-08-10\", \"2014-08-17\", \"2014-08-24\", \"2014-08-31\", \"2014-09-07\", \"2014-09-14\", \"2014-09-21\", \"2014-09-28\", \"2014-10-05\", \"2014-10-12\", \"2014-10-19\", \"2014-10-26\", \"2014-11-02\", \"2014-11-09\", \"2014-11-16\", \"2014-11-23\", \"2014-11-30\", \"2014-12-07\", \"2014-12-14\", \"2014-12-21\", \"2014-12-28\", \"2015-01-04\", \"2015-01-11\", \"2015-01-18\", \"2015-01-25\", \"2015-02-01\", \"2015-02-08\", \"2015-02-15\", \"2015-02-22\", \"2015-03-01\", \"2015-03-08\", \"2015-03-15\", \"2015-03-22\", \"2015-03-29\", \"2015-04-05\", \"2015-04-12\", \"2015-04-19\", \"2015-04-26\", \"2015-05-03\", \"2015-05-10\", \"2015-05-17\", \"2015-05-24\", \"2015-05-31\", \"2015-06-07\", \"2015-06-14\", \"2015-06-21\", \"2015-06-28\", \"2015-07-05\", \"2015-07-12\", \"2015-07-19\", \"2015-07-26\", \"2015-08-02\", \"2015-08-09\", \"2015-08-16\", \"2015-08-23\", \"2015-08-30\", \"2015-09-06\", \"2015-09-13\", \"2015-09-20\", \"2015-09-27\", \"2015-10-04\", \"2015-10-11\", \"2015-10-18\", \"2015-10-25\", \"2015-11-01\", \"2015-11-08\", \"2015-11-15\", \"2015-11-22\", \"2015-11-29\", \"2015-12-06\", \"2015-12-13\", \"2015-12-20\", \"2015-12-27\", \"2016-01-03\", \"2016-01-10\", \"2016-01-17\", \"2016-01-24\", \"2016-01-31\", \"2016-02-07\", \"2016-02-14\", \"2016-02-21\", \"2016-02-28\", \"2016-03-06\", \"2016-03-13\", \"2016-03-20\", \"2016-03-27\", \"2016-04-03\", \"2016-04-10\", \"2016-04-17\", \"2016-04-24\", \"2016-05-01\", \"2016-05-08\", \"2016-05-15\", \"2016-05-22\", \"2016-05-29\", \"2016-06-05\", \"2016-06-12\", \"2016-06-19\", \"2016-06-26\", \"2016-07-03\", \"2016-07-10\", \"2016-07-17\", \"2016-07-24\", \"2016-07-31\", \"2016-08-07\", \"2016-08-14\", \"2016-08-21\", \"2016-08-28\", \"2016-09-04\", \"2016-09-11\", \"2016-09-18\", \"2016-09-25\", \"2016-10-02\", \"2016-10-09\", \"2016-10-16\", \"2016-10-23\", \"2016-10-30\", \"2016-11-06\", \"2016-11-13\", \"2016-11-20\", \"2016-11-27\", \"2016-12-04\", \"2016-12-11\", \"2016-12-18\", \"2016-12-25\", \"2017-01-01\", \"2017-01-08\", \"2017-01-15\", \"2017-01-22\", \"2017-01-29\", \"2017-02-05\", \"2017-02-12\", \"2017-02-19\", \"2017-02-26\", \"2017-03-05\", \"2017-03-12\", \"2017-03-19\", \"2017-03-26\", \"2017-04-02\", \"2017-04-09\", \"2017-04-16\", \"2017-04-23\", \"2017-04-30\", \"2017-05-07\", \"2017-05-14\", \"2017-05-21\", \"2017-05-28\", \"2017-06-04\", \"2017-06-11\", \"2017-06-18\", \"2017-06-25\", \"2017-07-02\", \"2017-07-09\", \"2017-07-16\", \"2017-07-23\", \"2017-07-30\", \"2017-08-06\", \"2017-08-13\", \"2017-08-20\", \"2017-08-27\", \"2017-09-03\", \"2017-09-10\", \"2017-09-17\", \"2017-09-24\", \"2017-10-01\", \"2017-10-08\", \"2017-10-15\", \"2017-10-22\", \"2017-10-29\", \"2017-11-05\", \"2017-11-12\", \"2017-11-19\", \"2017-11-26\", \"2017-12-03\", \"2017-12-10\", \"2017-12-17\", \"2017-12-24\", \"2017-12-31\", \"2018-01-07\", \"2018-01-14\", \"2018-01-21\", \"2018-01-28\", \"2018-02-04\", \"2018-02-11\", \"2018-02-18\", \"2018-02-25\", \"2018-03-04\", \"2018-03-11\", \"2018-03-18\", \"2018-03-25\", \"2018-04-01\", \"2018-04-08\", \"2018-04-15\", \"2018-04-22\", \"2018-04-29\", \"2018-05-06\", \"2018-05-13\", \"2018-05-20\", \"2018-05-27\", \"2018-06-03\", \"2018-06-10\", \"2018-06-17\", \"2018-06-24\", \"2018-07-01\", \"2018-07-08\", \"2018-07-15\", \"2018-07-22\", \"2018-07-29\", \"2018-08-05\", \"2018-08-12\", \"2018-08-19\", \"2018-08-26\", \"2018-09-02\", \"2018-09-09\", \"2018-09-16\", \"2018-09-23\", \"2018-09-30\", \"2018-10-07\", \"2018-10-14\", \"2018-10-21\", \"2018-10-28\", \"2018-11-04\", \"2018-11-11\", \"2018-11-18\", \"2018-11-25\", \"2018-12-02\", \"2018-12-09\", \"2018-12-16\", \"2018-12-23\", \"2018-12-30\", \"2019-01-06\", \"2019-01-13\", \"2019-01-20\", \"2019-01-27\", \"2019-02-03\", \"2019-02-10\", \"2019-02-17\", \"2019-02-24\", \"2019-03-03\", \"2019-03-10\", \"2019-03-17\", \"2019-03-24\", \"2019-03-31\", \"2019-04-07\", \"2019-04-14\", \"2019-04-21\", \"2019-04-28\", \"2019-05-05\", \"2019-05-12\", \"2019-05-19\", \"2019-05-26\", \"2019-06-02\", \"2019-06-09\", \"2019-06-16\", \"2019-06-23\", \"2019-06-30\", \"2019-07-07\", \"2019-07-14\", \"2019-07-21\", \"2019-07-28\", \"2019-08-04\", \"2019-08-11\", \"2019-08-18\", \"2019-08-25\", \"2019-09-01\", \"2019-09-08\", \"2019-09-15\", \"2019-09-22\", \"2019-09-29\", \"2019-10-06\", \"2019-10-13\", \"2019-10-20\", \"2019-10-27\", \"2019-11-03\", \"2019-11-10\", \"2019-11-17\", \"2019-11-24\", \"2019-12-01\", \"2019-12-08\", \"2019-12-15\", \"2019-12-22\", \"2019-12-29\", \"2020-01-05\", \"2020-01-12\", \"2020-01-19\", \"2020-01-26\", \"2020-02-02\", \"2020-02-09\", \"2020-02-16\", \"2020-02-23\", \"2020-03-01\", \"2020-03-08\", \"2020-03-15\", \"2020-03-22\", \"2020-03-29\", \"2020-04-05\", \"2020-04-12\", \"2020-04-19\", \"2020-04-26\", \"2020-05-03\", \"2020-05-10\", \"2020-05-17\", \"2020-05-24\", \"2020-05-31\", \"2020-06-07\", \"2020-06-14\", \"2020-06-21\", \"2020-06-28\", \"2020-07-05\", \"2020-07-12\", \"2020-07-19\", \"2012-01-08\", \"2012-01-15\", \"2012-01-22\", \"2012-01-29\", \"2012-02-05\", \"2012-02-12\", \"2012-02-19\", \"2012-02-26\", \"2012-03-04\", \"2012-03-11\", \"2012-03-18\", \"2012-03-25\", \"2012-04-01\", \"2012-04-08\", \"2012-04-15\", \"2012-04-22\", \"2012-04-29\", \"2012-05-06\", \"2012-05-13\", \"2012-05-20\", \"2012-05-27\", \"2012-06-03\", \"2012-06-10\", \"2012-06-17\", \"2012-06-24\", \"2012-07-01\", \"2012-07-08\", \"2012-07-15\", \"2012-07-22\", \"2012-07-29\", \"2012-08-05\", \"2012-08-12\", \"2012-08-19\", \"2012-08-26\", \"2012-09-02\", \"2012-09-09\", \"2012-09-16\", \"2012-09-23\", \"2012-09-30\", \"2012-10-07\", \"2012-10-14\", \"2012-10-21\", \"2012-10-28\", \"2012-11-04\", \"2012-11-11\", \"2012-11-18\", \"2012-11-25\", \"2012-12-02\", \"2012-12-09\", \"2012-12-16\", \"2012-12-23\", \"2012-12-30\", \"2013-01-06\", \"2013-01-13\", \"2013-01-20\", \"2013-01-27\", \"2013-02-03\", \"2013-02-10\", \"2013-02-17\", \"2013-02-24\", \"2013-03-03\", \"2013-03-10\", \"2013-03-17\", \"2013-03-24\", \"2013-03-31\", \"2013-04-07\", \"2013-04-14\", \"2013-04-21\", \"2013-04-28\", \"2013-05-05\", \"2013-05-12\", \"2013-05-19\", \"2013-05-26\", \"2013-06-02\", \"2013-06-09\", \"2013-06-16\", \"2013-06-23\", \"2013-06-30\", \"2013-07-07\", \"2013-07-14\", \"2013-07-21\", \"2013-07-28\", \"2013-08-04\", \"2013-08-11\", \"2013-08-18\", \"2013-08-25\", \"2013-09-01\", \"2013-09-08\", \"2013-09-15\", \"2013-09-22\", \"2013-09-29\", \"2013-10-06\", \"2013-10-13\", \"2013-10-20\", \"2013-10-27\", \"2013-11-03\", \"2013-11-10\", \"2013-11-17\", \"2013-11-24\", \"2013-12-01\", \"2013-12-08\", \"2013-12-15\", \"2013-12-22\", \"2013-12-29\", \"2014-01-05\", \"2014-01-12\", \"2014-01-19\", \"2014-01-26\", \"2014-02-02\", \"2014-02-09\", \"2014-02-16\", \"2014-02-23\", \"2014-03-02\", \"2014-03-09\", \"2014-03-16\", \"2014-03-23\", \"2014-03-30\", \"2014-04-06\", \"2014-04-13\", \"2014-04-20\", \"2014-04-27\", \"2014-05-04\", \"2014-05-11\", \"2014-05-18\", \"2014-05-25\", \"2014-06-01\", \"2014-06-08\", \"2014-06-15\", \"2014-06-22\", \"2014-06-29\", \"2014-07-06\", \"2014-07-13\", \"2014-07-20\", \"2014-07-27\", \"2014-08-03\", \"2014-08-10\", \"2014-08-17\", \"2014-08-24\", \"2014-08-31\", \"2014-09-07\", \"2014-09-14\", \"2014-09-21\", \"2014-09-28\", \"2014-10-05\", \"2014-10-12\", \"2014-10-19\", \"2014-10-26\", \"2014-11-02\", \"2014-11-09\", \"2014-11-16\", \"2014-11-23\", \"2014-11-30\", \"2014-12-07\", \"2014-12-14\", \"2014-12-21\", \"2014-12-28\", \"2015-01-04\", \"2015-01-11\", \"2015-01-18\", \"2015-01-25\", \"2015-02-01\", \"2015-02-08\", \"2015-02-15\", \"2015-02-22\", \"2015-03-01\", \"2015-03-08\", \"2015-03-15\", \"2015-03-22\", \"2015-03-29\", \"2015-04-05\", \"2015-04-12\", \"2015-04-19\", \"2015-04-26\", \"2015-05-03\", \"2015-05-10\", \"2015-05-17\", \"2015-05-24\", \"2015-05-31\", \"2015-06-07\", \"2015-06-14\", \"2015-06-21\", \"2015-06-28\", \"2015-07-05\", \"2015-07-12\", \"2015-07-19\", \"2015-07-26\", \"2015-08-02\", \"2015-08-09\", \"2015-08-16\", \"2015-08-23\", \"2015-08-30\", \"2015-09-06\", \"2015-09-13\", \"2015-09-20\", \"2015-09-27\", \"2015-10-04\", \"2015-10-11\", \"2015-10-18\", \"2015-10-25\", \"2015-11-01\", \"2015-11-08\", \"2015-11-15\", \"2015-11-22\", \"2015-11-29\", \"2015-12-06\", \"2015-12-13\", \"2015-12-20\", \"2015-12-27\", \"2016-01-03\", \"2016-01-10\", \"2016-01-17\", \"2016-01-24\", \"2016-01-31\", \"2016-02-07\", \"2016-02-14\", \"2016-02-21\", \"2016-02-28\", \"2016-03-06\", \"2016-03-13\", \"2016-03-20\", \"2016-03-27\", \"2016-04-03\", \"2016-04-10\", \"2016-04-17\", \"2016-04-24\", \"2016-05-01\", \"2016-05-08\", \"2016-05-15\", \"2016-05-22\", \"2016-05-29\", \"2016-06-05\", \"2016-06-12\", \"2016-06-19\", \"2016-06-26\", \"2016-07-03\", \"2016-07-10\", \"2016-07-17\", \"2016-07-24\", \"2016-07-31\", \"2016-08-07\", \"2016-08-14\", \"2016-08-21\", \"2016-08-28\", \"2016-09-04\", \"2016-09-11\", \"2016-09-18\", \"2016-09-25\", \"2016-10-02\", \"2016-10-09\", \"2016-10-16\", \"2016-10-23\", \"2016-10-30\", \"2016-11-06\", \"2016-11-13\", \"2016-11-20\", \"2016-11-27\", \"2016-12-04\", \"2016-12-11\", \"2016-12-18\", \"2016-12-25\", \"2017-01-01\", \"2017-01-08\", \"2017-01-15\", \"2017-01-22\", \"2017-01-29\", \"2017-02-05\", \"2017-02-12\", \"2017-02-19\", \"2017-02-26\", \"2017-03-05\", \"2017-03-12\", \"2017-03-19\", \"2017-03-26\", \"2017-04-02\", \"2017-04-09\", \"2017-04-16\", \"2017-04-23\", \"2017-04-30\", \"2017-05-07\", \"2017-05-14\", \"2017-05-21\", \"2017-05-28\", \"2017-06-04\", \"2017-06-11\", \"2017-06-18\", \"2017-06-25\", \"2017-07-02\", \"2017-07-09\", \"2017-07-16\", \"2017-07-23\", \"2017-07-30\", \"2017-08-06\", \"2017-08-13\", \"2017-08-20\", \"2017-08-27\", \"2017-09-03\", \"2017-09-10\", \"2017-09-17\", \"2017-09-24\", \"2017-10-01\", \"2017-10-08\", \"2017-10-15\", \"2017-10-22\", \"2017-10-29\", \"2017-11-05\", \"2017-11-12\", \"2017-11-19\", \"2017-11-26\", \"2017-12-03\", \"2017-12-10\", \"2017-12-17\", \"2017-12-24\", \"2017-12-31\", \"2018-01-07\", \"2018-01-14\", \"2018-01-21\", \"2018-01-28\", \"2018-02-04\", \"2018-02-11\", \"2018-02-18\", \"2018-02-25\", \"2018-03-04\", \"2018-03-11\", \"2018-03-18\", \"2018-03-25\", \"2018-04-01\", \"2018-04-08\", \"2018-04-15\", \"2018-04-22\", \"2018-04-29\", \"2018-05-06\", \"2018-05-13\", \"2018-05-20\", \"2018-05-27\", \"2018-06-03\", \"2018-06-10\", \"2018-06-17\", \"2018-06-24\", \"2018-07-01\", \"2018-07-08\", \"2018-07-15\", \"2018-07-22\", \"2018-07-29\", \"2018-08-05\", \"2018-08-12\", \"2018-08-19\", \"2018-08-26\", \"2018-09-02\", \"2018-09-09\", \"2018-09-16\", \"2018-09-23\", \"2018-09-30\", \"2018-10-07\", \"2018-10-14\", \"2018-10-21\", \"2018-10-28\", \"2018-11-04\", \"2018-11-11\", \"2018-11-18\", \"2018-11-25\", \"2018-12-02\", \"2018-12-09\", \"2018-12-16\", \"2018-12-23\", \"2018-12-30\", \"2019-01-06\", \"2019-01-13\", \"2019-01-20\", \"2019-01-27\", \"2019-02-03\", \"2019-02-10\", \"2019-02-17\", \"2019-02-24\", \"2019-03-03\", \"2019-03-10\", \"2019-03-17\", \"2019-03-24\", \"2019-03-31\", \"2019-04-07\", \"2019-04-14\", \"2019-04-21\", \"2019-04-28\", \"2019-05-05\", \"2019-05-12\", \"2019-05-19\", \"2019-05-26\", \"2019-06-02\", \"2019-06-09\", \"2019-06-16\", \"2019-06-23\", \"2019-06-30\", \"2019-07-07\", \"2019-07-14\", \"2019-07-21\", \"2019-07-28\", \"2019-08-04\", \"2019-08-11\", \"2019-08-18\", \"2019-08-25\", \"2019-09-01\", \"2019-09-08\", \"2019-09-15\", \"2019-09-22\", \"2019-09-29\", \"2019-10-06\", \"2019-10-13\", \"2019-10-20\", \"2019-10-27\", \"2019-11-03\", \"2019-11-10\", \"2019-11-17\", \"2019-11-24\", \"2019-12-01\", \"2019-12-08\", \"2019-12-15\", \"2019-12-22\", \"2019-12-29\", \"2020-01-05\", \"2020-01-12\", \"2020-01-19\", \"2020-01-26\", \"2020-02-02\", \"2020-02-09\", \"2020-02-16\", \"2020-02-23\", \"2020-03-01\", \"2020-03-08\", \"2020-03-15\", \"2020-03-22\", \"2020-03-29\", \"2020-04-05\", \"2020-04-12\", \"2020-04-19\", \"2020-04-26\", \"2020-05-03\", \"2020-05-10\", \"2020-05-17\", \"2020-05-24\", \"2020-05-31\", \"2020-06-07\", \"2020-06-14\", \"2020-06-21\", \"2020-06-28\", \"2020-07-05\", \"2020-07-12\", \"2020-07-19\"], \"y\": [77.19, 87.02, 84.01, 104.45, 96.33, 84.98, 85.56, 113.45, 100.86, 85.46, 86.84, 107.27, 119.05, 88.95, 93.15, 97.03, 114.83, 103.17, 94.33, 95.8, 107.07, 106.91, 88.47, 90.2, 91.28, 123.53, 97.97, 93.8, 91.66, 110.01, 97.01, 86.88, 81.68, 102.35, 102.53, 85.49, 87.39, 88.2, 123.89, 89.27, 87.79, 99.07, 112.15, 105.02, 92.36, 87.43, 111.48, 107.74, 107.79, 118.58, 113.74, 126.16, 81.56, 86.04, 82.52, 96.35, 96.07, 81.94, 89.84, 95.52, 112.48, 92.22, 91.59, 92.08, 122.3, 87.64, 91.03, 104.95, 114.19, 100.15, 96.83, 92.21, 114.44, 104.06, 91.14, 96.21, 92.84, 122.38, 103.62, 95.86, 94.75, 104.42, 95.08, 87.56, 85.04, 98.67, 98.25, 82.26, 83.78, 90.9, 118.84, 95.71, 81.49, 93.15, 104.17, 103.71, 88.55, 91.31, 99.46, 119.7, 107.67, 119.05, 113.7, 127.0, 93.12, 84.11, 85.87, 100.36, 96.73, 77.37, 87.85, 104.45, 129.39, 109.51, 125.98, 141.47, 229.06, 102.52, 65.28, 74.92, 87.05, 80.14, 81.32, 78.61, 97.68, 99.13, 83.43, 92.19, 87.0, 108.2, 99.51, 91.58, 92.45, 101.26, 97.85, 84.47, 82.29, 86.79, 105.11, 85.1, 85.4, 92.93, 111.05, 94.58, 84.08, 90.0, 110.1, 102.58, 90.34, 94.49, 92.95, 110.31, 102.5, 116.81, 118.99, 124.77, 91.61, 82.53, 84.88, 92.33, 94.41, 85.62, 88.36, 89.89, 107.24, 90.97, 92.25, 92.68, 121.55, 95.83, 86.35, 92.55, 108.63, 104.36, 94.65, 95.0, 95.06, 118.25, 97.61, 95.26, 102.51, 112.19, 105.14, 97.9, 93.46, 110.65, 110.76, 94.01, 88.74, 89.38, 105.82, 94.38, 86.11, 94.97, 103.72, 106.69, 97.92, 99.46, 111.45, 116.89, 92.91, 97.65, 92.15, 111.63, 115.74, 120.4, 132.84, 120.04, 101.68, 90.29, 90.35, 85.4, 109.57, 93.84, 86.82, 98.01, 114.06, 104.64, 90.34, 100.96, 120.16, 112.51, 89.32, 101.9, 96.31, 111.58, 94.53, 95.42, 98.12, 115.22, 104.97, 94.36, 97.96, 107.19, 109.35, 108.25, 95.41, 98.1, 121.94, 97.51, 88.7, 95.29, 100.92, 96.88, 99.08, 92.18, 98.7, 112.4, 90.01, 102.75, 95.51, 120.19, 103.93, 98.24, 96.83, 103.9, 113.26, 121.2, 124.75, 126.05, 109.21, 85.27, 92.5, 91.7, 103.81, 97.7, 85.9, 99.63, 109.36, 104.96, 91.76, 96.36, 115.66, 117.19, 90.22, 102.34, 96.73, 121.08, 100.7, 98.1, 103.65, 113.92, 109.02, 101.41, 107.55, 122.59, 123.4, 105.77, 107.35, 102.38, 120.04, 101.36, 90.08, 98.66, 104.9, 107.2, 98.1, 92.43, 101.8, 132.31, 95.52, 96.54, 96.3, 121.0, 112.33, 103.98, 102.25, 115.22, 119.44, 126.28, 130.19, 135.15, 135.62, 84.66, 93.17, 105.16, 102.08, 103.1, 93.72, 95.57, 113.77, 113.04, 101.1, 104.56, 119.1, 132.23, 97.77, 115.77, 110.92, 120.96, 125.49, 104.6, 113.08, 119.15, 117.28, 104.65, 111.08, 107.3, 133.84, 106.06, 112.22, 107.68, 123.3, 111.54, 99.04, 97.63, 106.53, 106.54, 92.03, 98.97, 99.1, 115.95, 98.62, 92.93, 111.81, 119.65, 108.89, 99.5, 100.53, 111.58, 118.72, 112.51, 126.47, 127.27, 134.81, 97.43, 90.48, 97.99, 101.35, 99.78, 86.74, 94.27, 103.42, 112.03, 99.93, 99.15, 109.25, 129.98, 100.03, 95.49, 112.64, 109.24, 107.34, 100.38, 101.94, 116.96, 111.83, 93.11, 105.42, 105.91, 116.44, 104.86, 98.23, 100.31, 110.26, 105.13, 95.82, 91.33, 104.55, 105.11, 106.32, 113.79, 133.7, 206.13, 112.37, 62.29, 81.54, 88.07, 91.78, 90.12, 91.48, 91.33, 111.95, 106.01, 119.66, 117.74, 126.66, 101.08, 88.29, 91.45, 102.87, 96.23, 84.43, 90.86, 100.01, 119.61, 89.92, 92.41, 94.76, 109.72, 102.04, 97.29, 94.73, 103.57, 100.32, 90.59, 94.71, 93.0, 108.47, 102.65, 89.21, 107.45, 112.38, 102.88, 90.61, 92.88]}],\n",
              "                        {\"template\": {\"data\": {\"bar\": [{\"error_x\": {\"color\": \"#2a3f5f\"}, \"error_y\": {\"color\": \"#2a3f5f\"}, \"marker\": {\"line\": {\"color\": \"#E5ECF6\", \"width\": 0.5}}, \"type\": \"bar\"}], \"barpolar\": [{\"marker\": {\"line\": {\"color\": \"#E5ECF6\", \"width\": 0.5}}, \"type\": \"barpolar\"}], \"carpet\": [{\"aaxis\": {\"endlinecolor\": \"#2a3f5f\", \"gridcolor\": \"white\", \"linecolor\": \"white\", \"minorgridcolor\": \"white\", \"startlinecolor\": \"#2a3f5f\"}, \"baxis\": {\"endlinecolor\": \"#2a3f5f\", \"gridcolor\": \"white\", \"linecolor\": \"white\", \"minorgridcolor\": \"white\", \"startlinecolor\": \"#2a3f5f\"}, \"type\": \"carpet\"}], \"choropleth\": [{\"colorbar\": {\"outlinewidth\": 0, \"ticks\": \"\"}, \"type\": \"choropleth\"}], \"contour\": [{\"colorbar\": {\"outlinewidth\": 0, \"ticks\": \"\"}, \"colorscale\": [[0.0, \"#0d0887\"], [0.1111111111111111, \"#46039f\"], [0.2222222222222222, \"#7201a8\"], [0.3333333333333333, \"#9c179e\"], [0.4444444444444444, \"#bd3786\"], [0.5555555555555556, \"#d8576b\"], [0.6666666666666666, \"#ed7953\"], [0.7777777777777778, \"#fb9f3a\"], [0.8888888888888888, \"#fdca26\"], [1.0, \"#f0f921\"]], \"type\": \"contour\"}], \"contourcarpet\": [{\"colorbar\": {\"outlinewidth\": 0, \"ticks\": \"\"}, \"type\": \"contourcarpet\"}], \"heatmap\": [{\"colorbar\": {\"outlinewidth\": 0, \"ticks\": \"\"}, \"colorscale\": [[0.0, \"#0d0887\"], [0.1111111111111111, \"#46039f\"], [0.2222222222222222, \"#7201a8\"], [0.3333333333333333, \"#9c179e\"], [0.4444444444444444, \"#bd3786\"], [0.5555555555555556, \"#d8576b\"], [0.6666666666666666, \"#ed7953\"], [0.7777777777777778, \"#fb9f3a\"], [0.8888888888888888, \"#fdca26\"], [1.0, \"#f0f921\"]], \"type\": \"heatmap\"}], \"heatmapgl\": [{\"colorbar\": {\"outlinewidth\": 0, \"ticks\": \"\"}, \"colorscale\": [[0.0, \"#0d0887\"], [0.1111111111111111, \"#46039f\"], [0.2222222222222222, \"#7201a8\"], [0.3333333333333333, \"#9c179e\"], [0.4444444444444444, \"#bd3786\"], [0.5555555555555556, \"#d8576b\"], [0.6666666666666666, \"#ed7953\"], [0.7777777777777778, \"#fb9f3a\"], [0.8888888888888888, \"#fdca26\"], [1.0, \"#f0f921\"]], \"type\": \"heatmapgl\"}], \"histogram\": [{\"marker\": {\"colorbar\": {\"outlinewidth\": 0, \"ticks\": \"\"}}, \"type\": \"histogram\"}], \"histogram2d\": [{\"colorbar\": {\"outlinewidth\": 0, \"ticks\": \"\"}, \"colorscale\": [[0.0, \"#0d0887\"], [0.1111111111111111, \"#46039f\"], [0.2222222222222222, \"#7201a8\"], [0.3333333333333333, \"#9c179e\"], [0.4444444444444444, \"#bd3786\"], [0.5555555555555556, \"#d8576b\"], [0.6666666666666666, \"#ed7953\"], [0.7777777777777778, \"#fb9f3a\"], [0.8888888888888888, \"#fdca26\"], [1.0, \"#f0f921\"]], \"type\": \"histogram2d\"}], \"histogram2dcontour\": [{\"colorbar\": {\"outlinewidth\": 0, \"ticks\": \"\"}, \"colorscale\": [[0.0, \"#0d0887\"], [0.1111111111111111, \"#46039f\"], [0.2222222222222222, \"#7201a8\"], [0.3333333333333333, \"#9c179e\"], [0.4444444444444444, \"#bd3786\"], [0.5555555555555556, \"#d8576b\"], [0.6666666666666666, \"#ed7953\"], [0.7777777777777778, \"#fb9f3a\"], [0.8888888888888888, \"#fdca26\"], [1.0, \"#f0f921\"]], \"type\": \"histogram2dcontour\"}], \"mesh3d\": [{\"colorbar\": {\"outlinewidth\": 0, \"ticks\": \"\"}, \"type\": \"mesh3d\"}], \"parcoords\": [{\"line\": {\"colorbar\": {\"outlinewidth\": 0, \"ticks\": \"\"}}, \"type\": \"parcoords\"}], \"pie\": [{\"automargin\": true, \"type\": \"pie\"}], \"scatter\": [{\"marker\": {\"colorbar\": {\"outlinewidth\": 0, \"ticks\": \"\"}}, \"type\": \"scatter\"}], \"scatter3d\": [{\"line\": {\"colorbar\": {\"outlinewidth\": 0, \"ticks\": \"\"}}, \"marker\": {\"colorbar\": {\"outlinewidth\": 0, \"ticks\": \"\"}}, \"type\": \"scatter3d\"}], \"scattercarpet\": [{\"marker\": {\"colorbar\": {\"outlinewidth\": 0, \"ticks\": \"\"}}, \"type\": \"scattercarpet\"}], \"scattergeo\": [{\"marker\": {\"colorbar\": {\"outlinewidth\": 0, \"ticks\": \"\"}}, \"type\": \"scattergeo\"}], \"scattergl\": [{\"marker\": {\"colorbar\": {\"outlinewidth\": 0, \"ticks\": \"\"}}, \"type\": \"scattergl\"}], \"scattermapbox\": [{\"marker\": {\"colorbar\": {\"outlinewidth\": 0, \"ticks\": \"\"}}, \"type\": \"scattermapbox\"}], \"scatterpolar\": [{\"marker\": {\"colorbar\": {\"outlinewidth\": 0, \"ticks\": \"\"}}, \"type\": \"scatterpolar\"}], \"scatterpolargl\": [{\"marker\": {\"colorbar\": {\"outlinewidth\": 0, \"ticks\": \"\"}}, \"type\": \"scatterpolargl\"}], \"scatterternary\": [{\"marker\": {\"colorbar\": {\"outlinewidth\": 0, \"ticks\": \"\"}}, \"type\": \"scatterternary\"}], \"surface\": [{\"colorbar\": {\"outlinewidth\": 0, \"ticks\": \"\"}, \"colorscale\": [[0.0, \"#0d0887\"], [0.1111111111111111, \"#46039f\"], [0.2222222222222222, \"#7201a8\"], [0.3333333333333333, \"#9c179e\"], [0.4444444444444444, \"#bd3786\"], [0.5555555555555556, \"#d8576b\"], [0.6666666666666666, \"#ed7953\"], [0.7777777777777778, \"#fb9f3a\"], [0.8888888888888888, \"#fdca26\"], [1.0, \"#f0f921\"]], \"type\": \"surface\"}], \"table\": [{\"cells\": {\"fill\": {\"color\": \"#EBF0F8\"}, \"line\": {\"color\": \"white\"}}, \"header\": {\"fill\": {\"color\": \"#C8D4E3\"}, \"line\": {\"color\": \"white\"}}, \"type\": \"table\"}]}, \"layout\": {\"annotationdefaults\": {\"arrowcolor\": \"#2a3f5f\", \"arrowhead\": 0, \"arrowwidth\": 1}, \"coloraxis\": {\"colorbar\": {\"outlinewidth\": 0, \"ticks\": \"\"}}, \"colorscale\": {\"diverging\": [[0, \"#8e0152\"], [0.1, \"#c51b7d\"], [0.2, \"#de77ae\"], [0.3, \"#f1b6da\"], [0.4, \"#fde0ef\"], [0.5, \"#f7f7f7\"], [0.6, \"#e6f5d0\"], [0.7, \"#b8e186\"], [0.8, \"#7fbc41\"], [0.9, \"#4d9221\"], [1, \"#276419\"]], \"sequential\": [[0.0, \"#0d0887\"], [0.1111111111111111, \"#46039f\"], [0.2222222222222222, \"#7201a8\"], [0.3333333333333333, \"#9c179e\"], [0.4444444444444444, \"#bd3786\"], [0.5555555555555556, \"#d8576b\"], [0.6666666666666666, \"#ed7953\"], [0.7777777777777778, \"#fb9f3a\"], [0.8888888888888888, \"#fdca26\"], [1.0, \"#f0f921\"]], \"sequentialminus\": [[0.0, \"#0d0887\"], [0.1111111111111111, \"#46039f\"], [0.2222222222222222, \"#7201a8\"], [0.3333333333333333, \"#9c179e\"], [0.4444444444444444, \"#bd3786\"], [0.5555555555555556, \"#d8576b\"], [0.6666666666666666, \"#ed7953\"], [0.7777777777777778, \"#fb9f3a\"], [0.8888888888888888, \"#fdca26\"], [1.0, \"#f0f921\"]]}, \"colorway\": [\"#636efa\", \"#EF553B\", \"#00cc96\", \"#ab63fa\", \"#FFA15A\", \"#19d3f3\", \"#FF6692\", \"#B6E880\", \"#FF97FF\", \"#FECB52\"], \"font\": {\"color\": \"#2a3f5f\"}, \"geo\": {\"bgcolor\": \"white\", \"lakecolor\": \"white\", \"landcolor\": \"#E5ECF6\", \"showlakes\": true, \"showland\": true, \"subunitcolor\": \"white\"}, \"hoverlabel\": {\"align\": \"left\"}, \"hovermode\": \"closest\", \"mapbox\": {\"style\": \"light\"}, \"paper_bgcolor\": \"white\", \"plot_bgcolor\": \"#E5ECF6\", \"polar\": {\"angularaxis\": {\"gridcolor\": \"white\", \"linecolor\": \"white\", \"ticks\": \"\"}, \"bgcolor\": \"#E5ECF6\", \"radialaxis\": {\"gridcolor\": \"white\", \"linecolor\": \"white\", \"ticks\": \"\"}}, \"scene\": {\"xaxis\": {\"backgroundcolor\": \"#E5ECF6\", \"gridcolor\": \"white\", \"gridwidth\": 2, \"linecolor\": \"white\", \"showbackground\": true, \"ticks\": \"\", \"zerolinecolor\": \"white\"}, \"yaxis\": {\"backgroundcolor\": \"#E5ECF6\", \"gridcolor\": \"white\", \"gridwidth\": 2, \"linecolor\": \"white\", \"showbackground\": true, \"ticks\": \"\", \"zerolinecolor\": \"white\"}, \"zaxis\": {\"backgroundcolor\": \"#E5ECF6\", \"gridcolor\": \"white\", \"gridwidth\": 2, \"linecolor\": \"white\", \"showbackground\": true, \"ticks\": \"\", \"zerolinecolor\": \"white\"}}, \"shapedefaults\": {\"line\": {\"color\": \"#2a3f5f\"}}, \"ternary\": {\"aaxis\": {\"gridcolor\": \"white\", \"linecolor\": \"white\", \"ticks\": \"\"}, \"baxis\": {\"gridcolor\": \"white\", \"linecolor\": \"white\", \"ticks\": \"\"}, \"bgcolor\": \"#E5ECF6\", \"caxis\": {\"gridcolor\": \"white\", \"linecolor\": \"white\", \"ticks\": \"\"}}, \"title\": {\"x\": 0.05}, \"xaxis\": {\"automargin\": true, \"gridcolor\": \"white\", \"linecolor\": \"white\", \"ticks\": \"\", \"title\": {\"standoff\": 15}, \"zerolinecolor\": \"white\", \"zerolinewidth\": 2}, \"yaxis\": {\"automargin\": true, \"gridcolor\": \"white\", \"linecolor\": \"white\", \"ticks\": \"\", \"title\": {\"standoff\": 15}, \"zerolinecolor\": \"white\", \"zerolinewidth\": 2}}}, \"title\": {\"text\": \"\\u57fa\\u790e\\u5316\\u7ca7\\u54c1\"}},\n",
              "                        {\"responsive\": true}\n",
              "                    ).then(function(){\n",
              "                            \n",
              "var gd = document.getElementById('0a198ab1-2211-4b29-8363-7c8b843ed918');\n",
              "var x = new MutationObserver(function (mutations, observer) {{\n",
              "        var display = window.getComputedStyle(gd).display;\n",
              "        if (!display || display === 'none') {{\n",
              "            console.log([gd, 'removed!']);\n",
              "            Plotly.purge(gd);\n",
              "            observer.disconnect();\n",
              "        }}\n",
              "}});\n",
              "\n",
              "// Listen for the removal of the full notebook cells\n",
              "var notebookContainer = gd.closest('#notebook-container');\n",
              "if (notebookContainer) {{\n",
              "    x.observe(notebookContainer, {childList: true});\n",
              "}}\n",
              "\n",
              "// Listen for the clearing of the current output cell\n",
              "var outputEl = gd.closest('.output');\n",
              "if (outputEl) {{\n",
              "    x.observe(outputEl, {childList: true});\n",
              "}}\n",
              "\n",
              "                        })\n",
              "                };\n",
              "                \n",
              "            </script>\n",
              "        </div>\n",
              "</body>\n",
              "</html>"
            ]
          },
          "metadata": {
            "tags": []
          }
        }
      ]
    },
    {
      "cell_type": "code",
      "metadata": {
        "id": "vnqM_RJlQq5T",
        "colab_type": "code",
        "colab": {
          "base_uri": "https://localhost:8080/",
          "height": 419
        },
        "outputId": "23a796d8-ad2b-4abc-88a9-48cf53a7be8d"
      },
      "source": [
        "df_skin_care"
      ],
      "execution_count": null,
      "outputs": [
        {
          "output_type": "execute_result",
          "data": {
            "text/html": [
              "<div>\n",
              "<style scoped>\n",
              "    .dataframe tbody tr th:only-of-type {\n",
              "        vertical-align: middle;\n",
              "    }\n",
              "\n",
              "    .dataframe tbody tr th {\n",
              "        vertical-align: top;\n",
              "    }\n",
              "\n",
              "    .dataframe thead th {\n",
              "        text-align: right;\n",
              "    }\n",
              "</style>\n",
              "<table border=\"1\" class=\"dataframe\">\n",
              "  <thead>\n",
              "    <tr style=\"text-align: right;\">\n",
              "      <th></th>\n",
              "      <th>ts</th>\n",
              "      <th>ts_pattern</th>\n",
              "      <th>region</th>\n",
              "      <th>industry</th>\n",
              "      <th>category</th>\n",
              "      <th>sub_category</th>\n",
              "      <th>measure_pattern</th>\n",
              "      <th>value</th>\n",
              "    </tr>\n",
              "  </thead>\n",
              "  <tbody>\n",
              "    <tr>\n",
              "      <th>23092</th>\n",
              "      <td>2012-01-08</td>\n",
              "      <td>週次</td>\n",
              "      <td>全国</td>\n",
              "      <td>スーパーマーケット</td>\n",
              "      <td>化粧品</td>\n",
              "      <td>基礎化粧品</td>\n",
              "      <td>販売金額指数</td>\n",
              "      <td>90.74</td>\n",
              "    </tr>\n",
              "    <tr>\n",
              "      <th>23093</th>\n",
              "      <td>2012-01-15</td>\n",
              "      <td>週次</td>\n",
              "      <td>全国</td>\n",
              "      <td>スーパーマーケット</td>\n",
              "      <td>化粧品</td>\n",
              "      <td>基礎化粧品</td>\n",
              "      <td>販売金額指数</td>\n",
              "      <td>75.97</td>\n",
              "    </tr>\n",
              "    <tr>\n",
              "      <th>23094</th>\n",
              "      <td>2012-01-22</td>\n",
              "      <td>週次</td>\n",
              "      <td>全国</td>\n",
              "      <td>スーパーマーケット</td>\n",
              "      <td>化粧品</td>\n",
              "      <td>基礎化粧品</td>\n",
              "      <td>販売金額指数</td>\n",
              "      <td>91.41</td>\n",
              "    </tr>\n",
              "    <tr>\n",
              "      <th>23095</th>\n",
              "      <td>2012-01-29</td>\n",
              "      <td>週次</td>\n",
              "      <td>全国</td>\n",
              "      <td>スーパーマーケット</td>\n",
              "      <td>化粧品</td>\n",
              "      <td>基礎化粧品</td>\n",
              "      <td>販売金額指数</td>\n",
              "      <td>82.30</td>\n",
              "    </tr>\n",
              "    <tr>\n",
              "      <th>23096</th>\n",
              "      <td>2012-02-05</td>\n",
              "      <td>週次</td>\n",
              "      <td>全国</td>\n",
              "      <td>スーパーマーケット</td>\n",
              "      <td>化粧品</td>\n",
              "      <td>基礎化粧品</td>\n",
              "      <td>販売金額指数</td>\n",
              "      <td>91.84</td>\n",
              "    </tr>\n",
              "    <tr>\n",
              "      <th>...</th>\n",
              "      <td>...</td>\n",
              "      <td>...</td>\n",
              "      <td>...</td>\n",
              "      <td>...</td>\n",
              "      <td>...</td>\n",
              "      <td>...</td>\n",
              "      <td>...</td>\n",
              "      <td>...</td>\n",
              "    </tr>\n",
              "    <tr>\n",
              "      <th>96677</th>\n",
              "      <td>2020-06-21</td>\n",
              "      <td>週次</td>\n",
              "      <td>全国</td>\n",
              "      <td>ドラッグストア</td>\n",
              "      <td>化粧品</td>\n",
              "      <td>基礎化粧品</td>\n",
              "      <td>販売金額指数</td>\n",
              "      <td>107.45</td>\n",
              "    </tr>\n",
              "    <tr>\n",
              "      <th>96678</th>\n",
              "      <td>2020-06-28</td>\n",
              "      <td>週次</td>\n",
              "      <td>全国</td>\n",
              "      <td>ドラッグストア</td>\n",
              "      <td>化粧品</td>\n",
              "      <td>基礎化粧品</td>\n",
              "      <td>販売金額指数</td>\n",
              "      <td>112.38</td>\n",
              "    </tr>\n",
              "    <tr>\n",
              "      <th>96679</th>\n",
              "      <td>2020-07-05</td>\n",
              "      <td>週次</td>\n",
              "      <td>全国</td>\n",
              "      <td>ドラッグストア</td>\n",
              "      <td>化粧品</td>\n",
              "      <td>基礎化粧品</td>\n",
              "      <td>販売金額指数</td>\n",
              "      <td>102.88</td>\n",
              "    </tr>\n",
              "    <tr>\n",
              "      <th>96680</th>\n",
              "      <td>2020-07-12</td>\n",
              "      <td>週次</td>\n",
              "      <td>全国</td>\n",
              "      <td>ドラッグストア</td>\n",
              "      <td>化粧品</td>\n",
              "      <td>基礎化粧品</td>\n",
              "      <td>販売金額指数</td>\n",
              "      <td>90.61</td>\n",
              "    </tr>\n",
              "    <tr>\n",
              "      <th>96681</th>\n",
              "      <td>2020-07-19</td>\n",
              "      <td>週次</td>\n",
              "      <td>全国</td>\n",
              "      <td>ドラッグストア</td>\n",
              "      <td>化粧品</td>\n",
              "      <td>基礎化粧品</td>\n",
              "      <td>販売金額指数</td>\n",
              "      <td>92.88</td>\n",
              "    </tr>\n",
              "  </tbody>\n",
              "</table>\n",
              "<p>1784 rows × 8 columns</p>\n",
              "</div>"
            ],
            "text/plain": [
              "               ts ts_pattern region  ... sub_category measure_pattern   value\n",
              "23092  2012-01-08         週次     全国  ...        基礎化粧品          販売金額指数   90.74\n",
              "23093  2012-01-15         週次     全国  ...        基礎化粧品          販売金額指数   75.97\n",
              "23094  2012-01-22         週次     全国  ...        基礎化粧品          販売金額指数   91.41\n",
              "23095  2012-01-29         週次     全国  ...        基礎化粧品          販売金額指数   82.30\n",
              "23096  2012-02-05         週次     全国  ...        基礎化粧品          販売金額指数   91.84\n",
              "...           ...        ...    ...  ...          ...             ...     ...\n",
              "96677  2020-06-21         週次     全国  ...        基礎化粧品          販売金額指数  107.45\n",
              "96678  2020-06-28         週次     全国  ...        基礎化粧品          販売金額指数  112.38\n",
              "96679  2020-07-05         週次     全国  ...        基礎化粧品          販売金額指数  102.88\n",
              "96680  2020-07-12         週次     全国  ...        基礎化粧品          販売金額指数   90.61\n",
              "96681  2020-07-19         週次     全国  ...        基礎化粧品          販売金額指数   92.88\n",
              "\n",
              "[1784 rows x 8 columns]"
            ]
          },
          "metadata": {
            "tags": []
          },
          "execution_count": 85
        }
      ]
    },
    {
      "cell_type": "code",
      "metadata": {
        "id": "f75Tevz9RMDQ",
        "colab_type": "code",
        "colab": {}
      },
      "source": [
        "skin_care_table = pd.DataFrame(d)"
      ],
      "execution_count": null,
      "outputs": []
    },
    {
      "cell_type": "code",
      "metadata": {
        "id": "rGWVOAuZRftM",
        "colab_type": "code",
        "colab": {}
      },
      "source": [
        "skin_care_table['ts']=list(df_skin_care['ts'].unique())"
      ],
      "execution_count": null,
      "outputs": []
    },
    {
      "cell_type": "code",
      "metadata": {
        "id": "lXZTemD9RpOE",
        "colab_type": "code",
        "colab": {
          "base_uri": "https://localhost:8080/",
          "height": 419
        },
        "outputId": "d1d6a654-664e-426e-cbf6-e0bbbb3f5025"
      },
      "source": [
        "skin_care_table"
      ],
      "execution_count": null,
      "outputs": [
        {
          "output_type": "execute_result",
          "data": {
            "text/html": [
              "<div>\n",
              "<style scoped>\n",
              "    .dataframe tbody tr th:only-of-type {\n",
              "        vertical-align: middle;\n",
              "    }\n",
              "\n",
              "    .dataframe tbody tr th {\n",
              "        vertical-align: top;\n",
              "    }\n",
              "\n",
              "    .dataframe thead th {\n",
              "        text-align: right;\n",
              "    }\n",
              "</style>\n",
              "<table border=\"1\" class=\"dataframe\">\n",
              "  <thead>\n",
              "    <tr style=\"text-align: right;\">\n",
              "      <th></th>\n",
              "      <th>スーパーマーケット</th>\n",
              "      <th>コンビニエンスストア</th>\n",
              "      <th>ホームセンター</th>\n",
              "      <th>ドラッグストア</th>\n",
              "      <th>ts</th>\n",
              "    </tr>\n",
              "  </thead>\n",
              "  <tbody>\n",
              "    <tr>\n",
              "      <th>0</th>\n",
              "      <td>90.74</td>\n",
              "      <td>123.38</td>\n",
              "      <td>93.86</td>\n",
              "      <td>77.19</td>\n",
              "      <td>2012-01-08</td>\n",
              "    </tr>\n",
              "    <tr>\n",
              "      <th>1</th>\n",
              "      <td>75.97</td>\n",
              "      <td>107.92</td>\n",
              "      <td>108.69</td>\n",
              "      <td>87.02</td>\n",
              "      <td>2012-01-15</td>\n",
              "    </tr>\n",
              "    <tr>\n",
              "      <th>2</th>\n",
              "      <td>91.41</td>\n",
              "      <td>101.65</td>\n",
              "      <td>93.62</td>\n",
              "      <td>84.01</td>\n",
              "      <td>2012-01-22</td>\n",
              "    </tr>\n",
              "    <tr>\n",
              "      <th>3</th>\n",
              "      <td>82.30</td>\n",
              "      <td>102.55</td>\n",
              "      <td>120.88</td>\n",
              "      <td>104.45</td>\n",
              "      <td>2012-01-29</td>\n",
              "    </tr>\n",
              "    <tr>\n",
              "      <th>4</th>\n",
              "      <td>91.84</td>\n",
              "      <td>112.51</td>\n",
              "      <td>100.43</td>\n",
              "      <td>96.33</td>\n",
              "      <td>2012-02-05</td>\n",
              "    </tr>\n",
              "    <tr>\n",
              "      <th>...</th>\n",
              "      <td>...</td>\n",
              "      <td>...</td>\n",
              "      <td>...</td>\n",
              "      <td>...</td>\n",
              "      <td>...</td>\n",
              "    </tr>\n",
              "    <tr>\n",
              "      <th>441</th>\n",
              "      <td>101.04</td>\n",
              "      <td>102.84</td>\n",
              "      <td>80.10</td>\n",
              "      <td>107.45</td>\n",
              "      <td>2020-06-21</td>\n",
              "    </tr>\n",
              "    <tr>\n",
              "      <th>442</th>\n",
              "      <td>91.85</td>\n",
              "      <td>99.53</td>\n",
              "      <td>73.69</td>\n",
              "      <td>112.38</td>\n",
              "      <td>2020-06-28</td>\n",
              "    </tr>\n",
              "    <tr>\n",
              "      <th>443</th>\n",
              "      <td>84.63</td>\n",
              "      <td>83.76</td>\n",
              "      <td>69.34</td>\n",
              "      <td>102.88</td>\n",
              "      <td>2020-07-05</td>\n",
              "    </tr>\n",
              "    <tr>\n",
              "      <th>444</th>\n",
              "      <td>78.60</td>\n",
              "      <td>92.06</td>\n",
              "      <td>67.03</td>\n",
              "      <td>90.61</td>\n",
              "      <td>2020-07-12</td>\n",
              "    </tr>\n",
              "    <tr>\n",
              "      <th>445</th>\n",
              "      <td>92.02</td>\n",
              "      <td>78.77</td>\n",
              "      <td>74.17</td>\n",
              "      <td>92.88</td>\n",
              "      <td>2020-07-19</td>\n",
              "    </tr>\n",
              "  </tbody>\n",
              "</table>\n",
              "<p>446 rows × 5 columns</p>\n",
              "</div>"
            ],
            "text/plain": [
              "     スーパーマーケット  コンビニエンスストア  ホームセンター  ドラッグストア          ts\n",
              "0        90.74      123.38    93.86    77.19  2012-01-08\n",
              "1        75.97      107.92   108.69    87.02  2012-01-15\n",
              "2        91.41      101.65    93.62    84.01  2012-01-22\n",
              "3        82.30      102.55   120.88   104.45  2012-01-29\n",
              "4        91.84      112.51   100.43    96.33  2012-02-05\n",
              "..         ...         ...      ...      ...         ...\n",
              "441     101.04      102.84    80.10   107.45  2020-06-21\n",
              "442      91.85       99.53    73.69   112.38  2020-06-28\n",
              "443      84.63       83.76    69.34   102.88  2020-07-05\n",
              "444      78.60       92.06    67.03    90.61  2020-07-12\n",
              "445      92.02       78.77    74.17    92.88  2020-07-19\n",
              "\n",
              "[446 rows x 5 columns]"
            ]
          },
          "metadata": {
            "tags": []
          },
          "execution_count": 88
        }
      ]
    },
    {
      "cell_type": "code",
      "metadata": {
        "id": "ZrgdfHmDYjac",
        "colab_type": "code",
        "colab": {
          "base_uri": "https://localhost:8080/",
          "height": 419
        },
        "outputId": "aa5ef095-2fe1-4f76-cfc9-2cbaceb926d8"
      },
      "source": [
        "df_yoy[ (df_yoy['industry'] == '家電大型専門店') & (df_yoy['region'] == '全国') & (df_yoy['category'] == '大分類計')  ]"
      ],
      "execution_count": null,
      "outputs": [
        {
          "output_type": "execute_result",
          "data": {
            "text/html": [
              "<div>\n",
              "<style scoped>\n",
              "    .dataframe tbody tr th:only-of-type {\n",
              "        vertical-align: middle;\n",
              "    }\n",
              "\n",
              "    .dataframe tbody tr th {\n",
              "        vertical-align: top;\n",
              "    }\n",
              "\n",
              "    .dataframe thead th {\n",
              "        text-align: right;\n",
              "    }\n",
              "</style>\n",
              "<table border=\"1\" class=\"dataframe\">\n",
              "  <thead>\n",
              "    <tr style=\"text-align: right;\">\n",
              "      <th></th>\n",
              "      <th>ts</th>\n",
              "      <th>ts_pattern</th>\n",
              "      <th>region</th>\n",
              "      <th>industry</th>\n",
              "      <th>category</th>\n",
              "      <th>sub_category</th>\n",
              "      <th>measure_pattern</th>\n",
              "      <th>value</th>\n",
              "    </tr>\n",
              "  </thead>\n",
              "  <tbody>\n",
              "    <tr>\n",
              "      <th>407</th>\n",
              "      <td>2012-10-07</td>\n",
              "      <td>週次</td>\n",
              "      <td>全国</td>\n",
              "      <td>家電大型専門店</td>\n",
              "      <td>大分類計</td>\n",
              "      <td>中分類計</td>\n",
              "      <td>販売金額指数</td>\n",
              "      <td>78.58</td>\n",
              "    </tr>\n",
              "    <tr>\n",
              "      <th>408</th>\n",
              "      <td>2012-10-14</td>\n",
              "      <td>週次</td>\n",
              "      <td>全国</td>\n",
              "      <td>家電大型専門店</td>\n",
              "      <td>大分類計</td>\n",
              "      <td>中分類計</td>\n",
              "      <td>販売金額指数</td>\n",
              "      <td>84.55</td>\n",
              "    </tr>\n",
              "    <tr>\n",
              "      <th>409</th>\n",
              "      <td>2012-10-21</td>\n",
              "      <td>週次</td>\n",
              "      <td>全国</td>\n",
              "      <td>家電大型専門店</td>\n",
              "      <td>大分類計</td>\n",
              "      <td>中分類計</td>\n",
              "      <td>販売金額指数</td>\n",
              "      <td>77.23</td>\n",
              "    </tr>\n",
              "    <tr>\n",
              "      <th>410</th>\n",
              "      <td>2012-10-28</td>\n",
              "      <td>週次</td>\n",
              "      <td>全国</td>\n",
              "      <td>家電大型専門店</td>\n",
              "      <td>大分類計</td>\n",
              "      <td>中分類計</td>\n",
              "      <td>販売金額指数</td>\n",
              "      <td>83.79</td>\n",
              "    </tr>\n",
              "    <tr>\n",
              "      <th>411</th>\n",
              "      <td>2012-11-04</td>\n",
              "      <td>週次</td>\n",
              "      <td>全国</td>\n",
              "      <td>家電大型専門店</td>\n",
              "      <td>大分類計</td>\n",
              "      <td>中分類計</td>\n",
              "      <td>販売金額指数</td>\n",
              "      <td>89.40</td>\n",
              "    </tr>\n",
              "    <tr>\n",
              "      <th>...</th>\n",
              "      <td>...</td>\n",
              "      <td>...</td>\n",
              "      <td>...</td>\n",
              "      <td>...</td>\n",
              "      <td>...</td>\n",
              "      <td>...</td>\n",
              "      <td>...</td>\n",
              "      <td>...</td>\n",
              "    </tr>\n",
              "    <tr>\n",
              "      <th>809</th>\n",
              "      <td>2020-06-21</td>\n",
              "      <td>週次</td>\n",
              "      <td>全国</td>\n",
              "      <td>家電大型専門店</td>\n",
              "      <td>大分類計</td>\n",
              "      <td>中分類計</td>\n",
              "      <td>販売金額指数</td>\n",
              "      <td>179.44</td>\n",
              "    </tr>\n",
              "    <tr>\n",
              "      <th>810</th>\n",
              "      <td>2020-06-28</td>\n",
              "      <td>週次</td>\n",
              "      <td>全国</td>\n",
              "      <td>家電大型専門店</td>\n",
              "      <td>大分類計</td>\n",
              "      <td>中分類計</td>\n",
              "      <td>販売金額指数</td>\n",
              "      <td>183.98</td>\n",
              "    </tr>\n",
              "    <tr>\n",
              "      <th>811</th>\n",
              "      <td>2020-07-05</td>\n",
              "      <td>週次</td>\n",
              "      <td>全国</td>\n",
              "      <td>家電大型専門店</td>\n",
              "      <td>大分類計</td>\n",
              "      <td>中分類計</td>\n",
              "      <td>販売金額指数</td>\n",
              "      <td>167.59</td>\n",
              "    </tr>\n",
              "    <tr>\n",
              "      <th>812</th>\n",
              "      <td>2020-07-12</td>\n",
              "      <td>週次</td>\n",
              "      <td>全国</td>\n",
              "      <td>家電大型専門店</td>\n",
              "      <td>大分類計</td>\n",
              "      <td>中分類計</td>\n",
              "      <td>販売金額指数</td>\n",
              "      <td>159.31</td>\n",
              "    </tr>\n",
              "    <tr>\n",
              "      <th>813</th>\n",
              "      <td>2020-07-19</td>\n",
              "      <td>週次</td>\n",
              "      <td>全国</td>\n",
              "      <td>家電大型専門店</td>\n",
              "      <td>大分類計</td>\n",
              "      <td>中分類計</td>\n",
              "      <td>販売金額指数</td>\n",
              "      <td>134.58</td>\n",
              "    </tr>\n",
              "  </tbody>\n",
              "</table>\n",
              "<p>407 rows × 8 columns</p>\n",
              "</div>"
            ],
            "text/plain": [
              "             ts ts_pattern region  ... sub_category measure_pattern   value\n",
              "407  2012-10-07         週次     全国  ...         中分類計          販売金額指数   78.58\n",
              "408  2012-10-14         週次     全国  ...         中分類計          販売金額指数   84.55\n",
              "409  2012-10-21         週次     全国  ...         中分類計          販売金額指数   77.23\n",
              "410  2012-10-28         週次     全国  ...         中分類計          販売金額指数   83.79\n",
              "411  2012-11-04         週次     全国  ...         中分類計          販売金額指数   89.40\n",
              "..          ...        ...    ...  ...          ...             ...     ...\n",
              "809  2020-06-21         週次     全国  ...         中分類計          販売金額指数  179.44\n",
              "810  2020-06-28         週次     全国  ...         中分類計          販売金額指数  183.98\n",
              "811  2020-07-05         週次     全国  ...         中分類計          販売金額指数  167.59\n",
              "812  2020-07-12         週次     全国  ...         中分類計          販売金額指数  159.31\n",
              "813  2020-07-19         週次     全国  ...         中分類計          販売金額指数  134.58\n",
              "\n",
              "[407 rows x 8 columns]"
            ]
          },
          "metadata": {
            "tags": []
          },
          "execution_count": 111
        }
      ]
    },
    {
      "cell_type": "code",
      "metadata": {
        "id": "G8GK8MT0YkTJ",
        "colab_type": "code",
        "colab": {}
      },
      "source": [
        "x = df_yoy[ (df_yoy['industry'] == '家電大型専門店') & (df_yoy['region'] == '全国') & (df_yoy['category'] == '大分類計')  ][['ts','value']]"
      ],
      "execution_count": null,
      "outputs": []
    },
    {
      "cell_type": "code",
      "metadata": {
        "id": "vjvOhAkiY5a0",
        "colab_type": "code",
        "colab": {}
      },
      "source": [
        "x['ts']=pd.to_datetime(x['ts'])"
      ],
      "execution_count": null,
      "outputs": []
    },
    {
      "cell_type": "code",
      "metadata": {
        "id": "uCN4IutkdCNF",
        "colab_type": "code",
        "colab": {
          "base_uri": "https://localhost:8080/",
          "height": 375
        },
        "outputId": "88a75328-a87c-4a3c-9d6d-3309413b7b6f"
      },
      "source": [
        "sns.lineplot(x='ts', y='value', data=x[ x['ts'] >  datetime.strptime('2020-03-01', '%Y-%m-%d') ])\n",
        "plt.xticks(\n",
        "    rotation=45, \n",
        "    horizontalalignment='right',\n",
        "    fontweight='light',\n",
        "    fontsize='x-large'  \n",
        ")\n",
        "plt.show()"
      ],
      "execution_count": null,
      "outputs": [
        {
          "output_type": "stream",
          "text": [
            "findfont: Font family ['IPAGothic'] not found. Falling back to DejaVu Sans.\n"
          ],
          "name": "stderr"
        },
        {
          "output_type": "display_data",
          "data": {
            "image/png": "[encoded data removed]",
            "text/plain": [
              "<Figure size 432x288 with 1 Axes>"
            ]
          },
          "metadata": {
            "tags": []
          }
        }
      ]
    },
    {
      "cell_type": "code",
      "metadata": {
        "id": "Imyg9Bz8dW_9",
        "colab_type": "code",
        "colab": {}
      },
      "source": [
        ""
      ],
      "execution_count": null,
      "outputs": []
    }
  ]
}